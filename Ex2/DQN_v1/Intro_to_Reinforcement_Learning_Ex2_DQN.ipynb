{
  "cells": [
    {
      "cell_type": "markdown",
      "source": [
        "# Final Project - Reinforcements Learning - Ex1\n",
        "\n",
        "---\n",
        "\n",
        "<img src=\"https://play-lh.googleusercontent.com/e_oKlKPISbgdzut1H9opevS7-LTB8-8lsmpCdMkhlnqFenZhpjxbLmx7l158-xQQCIY\">\n",
        "\n",
        "Full Notebook:\n",
        "### https://colab.research.google.com/drive/1umfxWIoivhACC9YcWRZIxINsZch9JEaC?usp=sharing"
      ],
      "metadata": {
        "id": "dSvjwmu3vPMR"
      }
    },
    {
      "cell_type": "markdown",
      "source": [
        "# Installs"
      ],
      "metadata": {
        "id": "4T3qcykHFi15"
      }
    },
    {
      "cell_type": "code",
      "source": [
        "%%capture\n",
        "!sudo apt-get update\n",
        "!sudo apt-get install -y xvfb ffmpeg freeglut3-dev\n",
        "!pip install 'imageio==2.4.0'\n",
        "!pip install gym\n",
        "!pip install pygame\n",
        "!apt-get install python-opengl -y\n",
        "!apt install xvfb -y\n",
        "!pip install pyvirtualdisplay\n",
        "!pip install piglet\n",
        "!pip install gym\n",
        "!apt-get install python-opengl -y\n",
        "!apt install xvfb -y\n",
        "!pip install gym_sokoban\n",
        "!pip install stable-baselines3[extra]\n",
        "!git clone https://github.com/avivg7/sokoban-so.git\n",
        "!unzip /content/sokoban-so/Compress.zip\n",
        "!git clone https://github.com/daniel-litebc/Intro_to_Reinforcement-Learning-Final_Submission.git\n"
      ],
      "metadata": {
        "id": "2dah0RrY9Kmj"
      },
      "execution_count": null,
      "outputs": []
    },
    {
      "cell_type": "markdown",
      "source": [
        "# Imports"
      ],
      "metadata": {
        "id": "yHbKbI7BwIwv"
      }
    },
    {
      "cell_type": "code",
      "source": [
        "import numpy as np\n",
        "import gym\n",
        "from gym import logger as gymlogger\n",
        "from gym.utils import seeding\n",
        "from gym import error, spaces, utils\n",
        "gymlogger.set_level(40) # error only\n",
        "from soko_pap import *\n",
        "import glob\n",
        "import io\n",
        "import base64\n",
        "import os\n",
        "import random\n",
        "import matplotlib.pyplot as plt\n",
        "%matplotlib inline\n",
        "import math\n",
        "import glob\n",
        "from pyvirtualdisplay import Display\n",
        "from IPython.display import HTML\n",
        "from IPython import display as ipythondisplay\n",
        "import pygame\n",
        "import pyvirtualdisplay\n",
        "import imageio\n",
        "import IPython\n",
        "import time\n",
        "import torch\n",
        "import torch.nn as nn\n",
        "import torch.optim as optim\n",
        "from collections import namedtuple, deque\n",
        "import torch.nn.functional as F\n",
        "from itertools import count\n",
        "from stable_baselines3 import PPO\n",
        "from tqdm import tqdm\n",
        "import matplotlib.pyplot as plt"
      ],
      "metadata": {
        "id": "1cNdWkV49OqN"
      },
      "execution_count": null,
      "outputs": []
    },
    {
      "cell_type": "code",
      "source": [
        "assert torch.cuda.is_available()"
      ],
      "metadata": {
        "id": "LO1XHdh42egd"
      },
      "execution_count": null,
      "outputs": []
    },
    {
      "cell_type": "markdown",
      "source": [
        "# Display utils\n",
        "The cell below contains the video display configuration. No need to make changes here."
      ],
      "metadata": {
        "id": "J7bJeRHbwMIj"
      }
    },
    {
      "cell_type": "code",
      "source": [
        "def embed_mp4(filename):\n",
        "  \"\"\"Embeds an mp4 file in the notebook.\"\"\"\n",
        "  video = open(filename,'rb').read()\n",
        "  b64 = base64.b64encode(video)\n",
        "  tag = '''\n",
        "  <video width=\"640\" height=\"480\" controls>\n",
        "    <source src=\"data:video/mp4;base64,{0}\" type=\"video/mp4\">\n",
        "  Your browser does not support the video tag.\n",
        "  </video>'''.format(b64.decode())\n",
        "\n",
        "  return IPython.display.HTML(tag)\n",
        "display = pyvirtualdisplay.Display(visible=0, size=(1400, 900)).start()"
      ],
      "metadata": {
        "id": "z41WGwQt9i7_"
      },
      "execution_count": null,
      "outputs": []
    },
    {
      "cell_type": "markdown",
      "source": [
        "Function - given an environment it will print us the details about observation, actions, agent's position and boxes locations"
      ],
      "metadata": {
        "id": "oyJXH2IO72xF"
      }
    },
    {
      "cell_type": "code",
      "source": [
        "def print_env_det(env):\n",
        "  print(f'Observation space: {env.observation_space}'\n",
        "      f'\\nAction space: {env.action_space}'\n",
        "      f'\\nPlayer position:{env.player_position}'\n",
        "      f'\\nBox location: {find_box_location(env)}')"
      ],
      "metadata": {
        "id": "1UwaHk7t7eIj"
      },
      "execution_count": null,
      "outputs": []
    },
    {
      "cell_type": "markdown",
      "source": [
        "Function - given an environment it will return the indexes position and boxes locations"
      ],
      "metadata": {
        "id": "10ndmX86l4LJ"
      }
    },
    {
      "cell_type": "code",
      "source": [
        "def find_box_location(env):\n",
        "    idx = np.argmax(env.room_state == 4)\n",
        "    if env.room_state.flat[idx] == 4:\n",
        "        return np.unravel_index(idx, env.room_state.shape)\n",
        "    return None"
      ],
      "metadata": {
        "id": "1bfAeHJmlufr"
      },
      "execution_count": null,
      "outputs": []
    },
    {
      "cell_type": "markdown",
      "source": [
        "## EX1 - FIX SCENARIO -  PUSH & PULL - ONE BOX"
      ],
      "metadata": {
        "id": "tDaTYUJ4iufr"
      }
    },
    {
      "cell_type": "code",
      "source": [
        "#=============== DO NOT DELETE ===============\n",
        "sok = PushAndPullSokobanEnv(dim_room=(7, 7),num_boxes=1 ,max_steps=500)\n",
        "# ============================================"
      ],
      "metadata": {
        "id": "Vqa7N7WS9M8G"
      },
      "execution_count": null,
      "outputs": []
    },
    {
      "cell_type": "markdown",
      "source": [
        "#Utils"
      ],
      "metadata": {
        "id": "trm1-R3M5Hs6"
      }
    },
    {
      "cell_type": "code",
      "source": [
        "def conv2d_size_out(size, kernel_size=5, stride=2):\n",
        "    return (size - (kernel_size - 1) - 1) // stride + 1\n",
        "\n",
        "h, w, c = sok.observation_space.shape\n",
        "\n",
        "\n",
        "def save_checkpoint(filename, policy_model):\n",
        "    checkpoint = {\n",
        "        'policy_model_state_dict': policy_model.state_dict(),\n",
        "    }\n",
        "    torch.save(checkpoint, filename)\n",
        "\n",
        "\n",
        "def load_checkpoint(filename, policy_model, target_model):\n",
        "    checkpoint = torch.load(filename)\n",
        "    policy_model.load_state_dict(checkpoint['policy_model_state_dict'])\n",
        "    target_model.load_state_dict(policy_model.state_dict())\n",
        "    target_model.eval()\n",
        "\n",
        "\n",
        "def plot_model_performance(mean_rewards, mean_lengths):\n",
        "  plt.figure(figsize=(10, 5))\n",
        "  plt.subplot(1, 2, 1)\n",
        "  plt.plot(mean_rewards)\n",
        "  plt.title('Mean Episodic Reward')\n",
        "  plt.xlabel('Episode')\n",
        "  plt.ylabel('Mean Reward')\n",
        "\n",
        "  plt.subplot(1, 2, 2)\n",
        "  plt.plot(mean_lengths)\n",
        "  plt.title('Mean Episodic Length')\n",
        "  plt.xlabel('Episode')\n",
        "  plt.ylabel('Mean Length')\n",
        "\n",
        "  plt.show()"
      ],
      "metadata": {
        "id": "_kVlkVhz5FzQ"
      },
      "execution_count": null,
      "outputs": []
    },
    {
      "cell_type": "markdown",
      "source": [
        "#DQN Model"
      ],
      "metadata": {
        "id": "z_zQRdDM5IIc"
      }
    },
    {
      "cell_type": "code",
      "source": [
        "# Calculate the dimensions after passing through all the convolutional layers\n",
        "convw = conv2d_size_out(conv2d_size_out(conv2d_size_out(w)))\n",
        "convh = conv2d_size_out(conv2d_size_out(conv2d_size_out(h)))\n",
        "linear_input_size = convw * convh * 32  # 32 is the output channel size of the last conv layer\n",
        "\n",
        "class DQN(nn.Module):\n",
        "    def __init__(self, h, w, outputs):\n",
        "        super(DQN, self).__init__()\n",
        "        self.conv1 = nn.Conv2d(3, 16, kernel_size=5, stride=2)\n",
        "        self.bn1 = nn.BatchNorm2d(16)\n",
        "        self.conv2 = nn.Conv2d(16, 32, kernel_size=5, stride=2)\n",
        "        self.bn2 = nn.BatchNorm2d(32)\n",
        "        self.conv3 = nn.Conv2d(32, 32, kernel_size=5, stride=2)\n",
        "        self.bn3 = nn.BatchNorm2d(32)\n",
        "        self.head = nn.Linear(linear_input_size, outputs)\n",
        "\n",
        "    def forward(self, x):\n",
        "        x = F.relu(self.bn1(self.conv1(x)))\n",
        "        x = F.relu(self.bn2(self.conv2(x)))\n",
        "        x = F.relu(self.bn3(self.conv3(x)))\n",
        "        return self.head(x.view(x.size(0), -1))"
      ],
      "metadata": {
        "id": "f4AjTr4q5F-1"
      },
      "execution_count": null,
      "outputs": []
    },
    {
      "cell_type": "markdown",
      "source": [
        "#Experience Replay"
      ],
      "metadata": {
        "id": "oYsTbO4o5In4"
      }
    },
    {
      "cell_type": "code",
      "source": [
        "Experience = namedtuple('Experience', ('state', 'action', 'next_state', 'reward', 'done'))\n",
        "class ReplayMemory:\n",
        "    def __init__(self, capacity):\n",
        "        self.buffer = deque(maxlen=capacity)\n",
        "\n",
        "    def push(self, *args):\n",
        "        self.buffer.append(Experience(*args))\n",
        "\n",
        "    def sample(self, batch_size):\n",
        "        return random.sample(self.buffer, batch_size)\n",
        "\n",
        "    def __len__(self):\n",
        "        return len(self.buffer)"
      ],
      "metadata": {
        "id": "fsBpCXaQ5GBj"
      },
      "execution_count": null,
      "outputs": []
    },
    {
      "cell_type": "markdown",
      "source": [
        "#Training"
      ],
      "metadata": {
        "id": "o8iqKoNP5JLz"
      }
    },
    {
      "cell_type": "code",
      "source": [
        "# Hyperparameters\n",
        "BATCH_SIZE = 256\n",
        "GAMMA = 0.95       #was 0.999\n",
        "EPS_START = 1.0    # was 0.9\n",
        "EPS_END = 0.1      # was 0.05\n",
        "EPS_DECAY = 20000  #was 10,000\n",
        "TARGET_UPDATE = 5\n",
        "\n",
        "# Bad way to update epsilon\n",
        "steps_done = 0\n",
        "\n",
        "# Set up device\n",
        "device = torch.device(\"cuda\" if torch.cuda.is_available() else \"cpu\")\n",
        "\n",
        "# Create the DQN and target network\n",
        "n_actions = sok.action_space.n\n",
        "policy_net = DQN(h, w, n_actions).to(device)\n",
        "target_net = DQN(h, w, n_actions).to(device)\n",
        "\n",
        "# Optimizer and Memory\n",
        "optimizer = optim.RMSprop(policy_net.parameters(), lr=0.001)\n",
        "memory = ReplayMemory(10000)"
      ],
      "metadata": {
        "id": "KpSBjDAI5GJE"
      },
      "execution_count": null,
      "outputs": []
    },
    {
      "cell_type": "code",
      "source": [
        "def optimize_model():\n",
        "    if len(memory) < BATCH_SIZE:\n",
        "        return\n",
        "    transitions = memory.sample(BATCH_SIZE)\n",
        "    batch = Experience(*zip(*transitions))\n",
        "\n",
        "    non_final_mask = torch.tensor(tuple(map(lambda s: s is not None, batch.next_state)), device=device, dtype=torch.bool)\n",
        "    non_final_next_states = torch.cat([s for s in batch.next_state if s is not None])\n",
        "    state_batch = torch.cat(batch.state)\n",
        "    action_batch = torch.cat(batch.action)\n",
        "    reward_batch = torch.cat(batch.reward)\n",
        "\n",
        "    state_action_values = policy_net(state_batch).gather(1, action_batch)\n",
        "    next_state_values = torch.zeros(BATCH_SIZE, device=device)\n",
        "    next_state_values[non_final_mask] = target_net(non_final_next_states).max(1)[0].detach()\n",
        "    expected_state_action_values = (next_state_values * GAMMA) + reward_batch\n",
        "\n",
        "    loss = F.smooth_l1_loss(state_action_values, expected_state_action_values.unsqueeze(1))\n",
        "    optimizer.zero_grad()\n",
        "    loss.backward()\n",
        "    for param in policy_net.parameters():\n",
        "        param.grad.data.clamp_(-1, 1)\n",
        "    optimizer.step()"
      ],
      "metadata": {
        "id": "clY-x02V5GEO"
      },
      "execution_count": null,
      "outputs": []
    },
    {
      "cell_type": "code",
      "source": [
        "def select_action(state):\n",
        "    global steps_done\n",
        "    sample = random.random()\n",
        "    eps_threshold = EPS_END + (EPS_START - EPS_END) * math.exp(-1. * steps_done / EPS_DECAY)\n",
        "    steps_done += 1\n",
        "    if sample > eps_threshold:\n",
        "        with torch.no_grad():\n",
        "            return policy_net(state).max(1)[1].view(1, 1)\n",
        "    else:\n",
        "        return torch.tensor([[random.randrange(n_actions)]], device=device, dtype=torch.long)"
      ],
      "metadata": {
        "id": "NcvEQwo0M-Rc"
      },
      "execution_count": null,
      "outputs": []
    },
    {
      "cell_type": "code",
      "source": [
        "def train_loop(policy_net, target_net, optimizer, memory, max_steps_per_episode=500, num_episodes=100):\n",
        "\n",
        "  total_rewards = 0\n",
        "  total_lengths = 0\n",
        "  mean_rewards = []\n",
        "  mean_lengths = []\n",
        "\n",
        "  for i_episode in tqdm(range(num_episodes)):\n",
        "\n",
        "    episode_reward = 0.0\n",
        "\n",
        "    state_array = sok.reset()\n",
        "    state = torch.tensor(state_array.transpose(2, 0, 1), device=device, dtype=torch.float32).unsqueeze(0)\n",
        "\n",
        "    previous_player_position = None\n",
        "\n",
        "    # Save once every 10 episodes\n",
        "    if (i_episode + 1) % 10 == 0:\n",
        "      save_checkpoint(\"DQN-checkpoint-v1-ep\" + str(i_episode), policy_net)\n",
        "\n",
        "    for t in range(max_steps_per_episode):\n",
        "      action = select_action(state)\n",
        "      next_state, reward, done, info = sok.step(action.item())\n",
        "\n",
        "      # Check if the episode ended and was successful\n",
        "      if done and t < 250:\n",
        "        reward += 10\n",
        "\n",
        "      # Check if the box has not moved and penalize\n",
        "      if not info['action.moved_box']:\n",
        "          reward -= 0.1\n",
        "      else:\n",
        "          reward += 0.1\n",
        "\n",
        "      current_player_position = sok.player_position\n",
        "      if np.array_equal(previous_player_position, current_player_position):\n",
        "        reward -= 0.1\n",
        "\n",
        "\n",
        "      previous_player_position = current_player_position\n",
        "      episode_reward += reward\n",
        "\n",
        "      next_state = torch.tensor(next_state.transpose(2, 0, 1), device=device, dtype=torch.float32).unsqueeze(0)\n",
        "      reward = torch.tensor([reward], device=device)\n",
        "      memory.push(state, action, next_state, reward, done)\n",
        "      state = next_state\n",
        "\n",
        "      optimize_model()\n",
        "      if done:\n",
        "          break\n",
        "\n",
        "    total_rewards += episode_reward\n",
        "    total_lengths += t + 1\n",
        "\n",
        "    mean_episodic_reward = total_rewards / (i_episode + 1)\n",
        "    mean_episodic_length = total_lengths / (i_episode + 1)\n",
        "\n",
        "    mean_rewards.append(mean_episodic_reward)\n",
        "    mean_lengths.append(mean_episodic_length)\n",
        "\n",
        "    print()\n",
        "    print(\"=\" * 20 + \"Training Progress \" + \"Episode \" + str(i_episode + 1) + \"=\" * 20)\n",
        "    print(\"Mean Episode Reward: \", mean_episodic_reward)\n",
        "    print(\"Mean Episode Length: \", mean_episodic_length)\n",
        "    print(f\"Current Episode Reward: {episode_reward}\")\n",
        "    print(f\"Current Episode Length: {t + 1}\")\n",
        "\n",
        "    print()\n",
        "\n",
        "\n",
        "\n",
        "    if i_episode % TARGET_UPDATE == 0:\n",
        "        target_net.load_state_dict(policy_net.state_dict())\n",
        "\n",
        "  return mean_rewards, mean_lengths"
      ],
      "metadata": {
        "id": "Ed8JDChW5GGy"
      },
      "execution_count": null,
      "outputs": []
    },
    {
      "cell_type": "markdown",
      "source": [
        "# Train Model"
      ],
      "metadata": {
        "id": "EBpRmdfz0I8X"
      }
    },
    {
      "cell_type": "code",
      "source": [
        "mean_rewards, mean_lengths = train_loop(policy_net, target_net, optimizer, memory, max_steps_per_episode=500, num_episodes=300)"
      ],
      "metadata": {
        "colab": {
          "base_uri": "https://localhost:8080/"
        },
        "id": "chMCyINF0IXe",
        "outputId": "3daf74d4-c62f-4929-d774-93f43060da5a"
      },
      "execution_count": null,
      "outputs": [
        {
          "output_type": "stream",
          "name": "stderr",
          "text": [
            "  0%|          | 1/300 [00:09<45:57,  9.22s/it]"
          ]
        },
        {
          "output_type": "stream",
          "name": "stdout",
          "text": [
            "\n",
            "====================Training Progress Episode 1====================\n",
            "Mean Episode Reward:  -118.00000000000017\n",
            "Mean Episode Length:  500.0\n",
            "Current Episode Reward: -118.00000000000017\n",
            "Current Episode Length: 500\n",
            "\n"
          ]
        },
        {
          "output_type": "stream",
          "name": "stderr",
          "text": [
            "\r  1%|          | 2/300 [00:26<1:09:12, 13.93s/it]"
          ]
        },
        {
          "output_type": "stream",
          "name": "stdout",
          "text": [
            "\n",
            "====================Training Progress Episode 2====================\n",
            "Mean Episode Reward:  -116.0500000000003\n",
            "Mean Episode Length:  500.0\n",
            "Current Episode Reward: -114.10000000000043\n",
            "Current Episode Length: 500\n",
            "\n"
          ]
        },
        {
          "output_type": "stream",
          "name": "stderr",
          "text": [
            "\r  1%|          | 3/300 [00:27<38:52,  7.85s/it]  "
          ]
        },
        {
          "output_type": "stream",
          "name": "stdout",
          "text": [
            "\n",
            "====================Training Progress Episode 3====================\n",
            "Mean Episode Reward:  -71.5000000000002\n",
            "Mean Episode Length:  339.3333333333333\n",
            "Current Episode Reward: 17.599999999999998\n",
            "Current Episode Length: 18\n",
            "\n",
            "\n",
            "====================Training Progress Episode 4====================\n",
            "Mean Episode Reward:  -48.37500000000015\n",
            "Mean Episode Length:  254.75\n",
            "Current Episode Reward: 21.0\n",
            "Current Episode Length: 1\n",
            "\n"
          ]
        },
        {
          "output_type": "stream",
          "name": "stderr",
          "text": [
            "\r  2%|▏         | 5/300 [00:27<18:02,  3.67s/it]"
          ]
        },
        {
          "output_type": "stream",
          "name": "stdout",
          "text": [
            "\n",
            "====================Training Progress Episode 5====================\n",
            "Mean Episode Reward:  -35.70000000000012\n",
            "Mean Episode Length:  209.0\n",
            "Current Episode Reward: 15.0\n",
            "Current Episode Length: 26\n",
            "\n"
          ]
        },
        {
          "output_type": "stream",
          "name": "stderr",
          "text": [
            "\r  2%|▏         | 6/300 [00:34<22:11,  4.53s/it]"
          ]
        },
        {
          "output_type": "stream",
          "name": "stdout",
          "text": [
            "\n",
            "====================Training Progress Episode 6====================\n",
            "Mean Episode Reward:  -34.00000000000009\n",
            "Mean Episode Length:  206.83333333333334\n",
            "Current Episode Reward: -25.49999999999995\n",
            "Current Episode Length: 196\n",
            "\n",
            "\n",
            "====================Training Progress Episode 7====================\n",
            "Mean Episode Reward:  -26.171428571428645\n",
            "Mean Episode Length:  177.57142857142858\n",
            "Current Episode Reward: 20.8\n",
            "Current Episode Length: 2\n",
            "\n"
          ]
        },
        {
          "output_type": "stream",
          "name": "stderr",
          "text": [
            "\r  3%|▎         | 8/300 [00:34<12:23,  2.55s/it]"
          ]
        },
        {
          "output_type": "stream",
          "name": "stdout",
          "text": [
            "\n",
            "====================Training Progress Episode 8====================\n",
            "Mean Episode Reward:  -20.350000000000065\n",
            "Mean Episode Length:  156.125\n",
            "Current Episode Reward: 20.4\n",
            "Current Episode Length: 6\n",
            "\n"
          ]
        },
        {
          "output_type": "stream",
          "name": "stderr",
          "text": [
            "\r  3%|▎         | 9/300 [00:52<30:30,  6.29s/it]"
          ]
        },
        {
          "output_type": "stream",
          "name": "stdout",
          "text": [
            "\n",
            "====================Training Progress Episode 9====================\n",
            "Mean Episode Reward:  -30.90000000000009\n",
            "Mean Episode Length:  194.33333333333334\n",
            "Current Episode Reward: -115.30000000000032\n",
            "Current Episode Length: 500\n",
            "\n"
          ]
        },
        {
          "output_type": "stream",
          "name": "stderr",
          "text": [
            "\r  3%|▎         | 10/300 [01:10<44:23,  9.18s/it]"
          ]
        },
        {
          "output_type": "stream",
          "name": "stdout",
          "text": [
            "\n",
            "====================Training Progress Episode 10====================\n",
            "Mean Episode Reward:  -39.22000000000011\n",
            "Mean Episode Length:  224.9\n",
            "Current Episode Reward: -114.10000000000032\n",
            "Current Episode Length: 500\n",
            "\n"
          ]
        },
        {
          "output_type": "stream",
          "name": "stderr",
          "text": [
            "\r  4%|▎         | 11/300 [01:16<40:53,  8.49s/it]"
          ]
        },
        {
          "output_type": "stream",
          "name": "stdout",
          "text": [
            "\n",
            "====================Training Progress Episode 11====================\n",
            "Mean Episode Reward:  -37.59090909090919\n",
            "Mean Episode Length:  221.54545454545453\n",
            "Current Episode Reward: -21.30000000000002\n",
            "Current Episode Length: 188\n",
            "\n"
          ]
        },
        {
          "output_type": "stream",
          "name": "stderr",
          "text": [
            "\r  4%|▍         | 12/300 [01:34<52:33, 10.95s/it]"
          ]
        },
        {
          "output_type": "stream",
          "name": "stdout",
          "text": [
            "\n",
            "====================Training Progress Episode 12====================\n",
            "Mean Episode Reward:  -44.03333333333345\n",
            "Mean Episode Length:  244.75\n",
            "Current Episode Reward: -114.90000000000032\n",
            "Current Episode Length: 500\n",
            "\n"
          ]
        },
        {
          "output_type": "stream",
          "name": "stderr",
          "text": [
            "\r  4%|▍         | 13/300 [01:35<38:47,  8.11s/it]"
          ]
        },
        {
          "output_type": "stream",
          "name": "stdout",
          "text": [
            "\n",
            "====================Training Progress Episode 13====================\n",
            "Mean Episode Reward:  -39.538461538461654\n",
            "Mean Episode Length:  228.07692307692307\n",
            "Current Episode Reward: 14.399999999999999\n",
            "Current Episode Length: 28\n",
            "\n"
          ]
        },
        {
          "output_type": "stream",
          "name": "stderr",
          "text": [
            "\r  5%|▍         | 14/300 [01:52<51:24, 10.78s/it]"
          ]
        },
        {
          "output_type": "stream",
          "name": "stdout",
          "text": [
            "\n",
            "====================Training Progress Episode 14====================\n",
            "Mean Episode Reward:  -44.96428571428583\n",
            "Mean Episode Length:  247.5\n",
            "Current Episode Reward: -115.50000000000009\n",
            "Current Episode Length: 500\n",
            "\n"
          ]
        },
        {
          "output_type": "stream",
          "name": "stderr",
          "text": [
            "\r  5%|▌         | 15/300 [02:10<1:00:34, 12.75s/it]"
          ]
        },
        {
          "output_type": "stream",
          "name": "stdout",
          "text": [
            "\n",
            "====================Training Progress Episode 15====================\n",
            "Mean Episode Reward:  -49.64000000000013\n",
            "Mean Episode Length:  264.3333333333333\n",
            "Current Episode Reward: -115.1000000000004\n",
            "Current Episode Length: 500\n",
            "\n"
          ]
        },
        {
          "output_type": "stream",
          "name": "stderr",
          "text": [
            "\r  5%|▌         | 16/300 [02:18<54:21, 11.48s/it]  "
          ]
        },
        {
          "output_type": "stream",
          "name": "stdout",
          "text": [
            "\n",
            "====================Training Progress Episode 16====================\n",
            "Mean Episode Reward:  -48.69375000000013\n",
            "Mean Episode Length:  262.9375\n",
            "Current Episode Reward: -34.500000000000064\n",
            "Current Episode Length: 242\n",
            "\n"
          ]
        },
        {
          "output_type": "stream",
          "name": "stderr",
          "text": [
            "\r  6%|▌         | 17/300 [02:35<1:02:24, 13.23s/it]"
          ]
        },
        {
          "output_type": "stream",
          "name": "stdout",
          "text": [
            "\n",
            "====================Training Progress Episode 17====================\n",
            "Mean Episode Reward:  -52.605882352941315\n",
            "Mean Episode Length:  276.88235294117646\n",
            "Current Episode Reward: -115.20000000000029\n",
            "Current Episode Length: 500\n",
            "\n"
          ]
        },
        {
          "output_type": "stream",
          "name": "stderr",
          "text": [
            "\r  6%|▌         | 18/300 [02:47<59:59, 12.76s/it]  "
          ]
        },
        {
          "output_type": "stream",
          "name": "stdout",
          "text": [
            "\n",
            "====================Training Progress Episode 18====================\n",
            "Mean Episode Reward:  -53.27777777777792\n",
            "Mean Episode Length:  280.0\n",
            "Current Episode Reward: -64.70000000000024\n",
            "Current Episode Length: 333\n",
            "\n"
          ]
        },
        {
          "output_type": "stream",
          "name": "stderr",
          "text": [
            "\r  6%|▋         | 19/300 [03:04<1:06:12, 14.14s/it]"
          ]
        },
        {
          "output_type": "stream",
          "name": "stdout",
          "text": [
            "\n",
            "====================Training Progress Episode 19====================\n",
            "Mean Episode Reward:  -56.552631578947526\n",
            "Mean Episode Length:  291.57894736842104\n",
            "Current Episode Reward: -115.50000000000028\n",
            "Current Episode Length: 500\n",
            "\n"
          ]
        },
        {
          "output_type": "stream",
          "name": "stderr",
          "text": [
            "\r  7%|▋         | 20/300 [03:05<47:09, 10.10s/it]  "
          ]
        },
        {
          "output_type": "stream",
          "name": "stdout",
          "text": [
            "\n",
            "====================Training Progress Episode 20====================\n",
            "Mean Episode Reward:  -52.90500000000014\n",
            "Mean Episode Length:  277.9\n",
            "Current Episode Reward: 16.4\n",
            "Current Episode Length: 18\n",
            "\n"
          ]
        },
        {
          "output_type": "stream",
          "name": "stderr",
          "text": [
            "\r  7%|▋         | 21/300 [03:23<57:11, 12.30s/it]"
          ]
        },
        {
          "output_type": "stream",
          "name": "stdout",
          "text": [
            "\n",
            "====================Training Progress Episode 21====================\n",
            "Mean Episode Reward:  -55.657142857143015\n",
            "Mean Episode Length:  288.4761904761905\n",
            "Current Episode Reward: -110.7000000000005\n",
            "Current Episode Length: 500\n",
            "\n"
          ]
        },
        {
          "output_type": "stream",
          "name": "stderr",
          "text": [
            "\r  7%|▋         | 22/300 [03:40<1:04:01, 13.82s/it]"
          ]
        },
        {
          "output_type": "stream",
          "name": "stdout",
          "text": [
            "\n",
            "====================Training Progress Episode 22====================\n",
            "Mean Episode Reward:  -58.28181818181835\n",
            "Mean Episode Length:  298.09090909090907\n",
            "Current Episode Reward: -113.40000000000036\n",
            "Current Episode Length: 500\n",
            "\n"
          ]
        },
        {
          "output_type": "stream",
          "name": "stderr",
          "text": [
            "\r  8%|▊         | 23/300 [03:57<1:08:51, 14.91s/it]"
          ]
        },
        {
          "output_type": "stream",
          "name": "stdout",
          "text": [
            "\n",
            "====================Training Progress Episode 23====================\n",
            "Mean Episode Reward:  -61.256521739130584\n",
            "Mean Episode Length:  306.8695652173913\n",
            "Current Episode Reward: -126.69999999999985\n",
            "Current Episode Length: 500\n",
            "\n"
          ]
        },
        {
          "output_type": "stream",
          "name": "stderr",
          "text": [
            "\r  8%|▊         | 24/300 [04:05<57:57, 12.60s/it]  "
          ]
        },
        {
          "output_type": "stream",
          "name": "stdout",
          "text": [
            "\n",
            "====================Training Progress Episode 24====================\n",
            "Mean Episode Reward:  -60.06250000000014\n",
            "Mean Episode Length:  302.75\n",
            "Current Episode Reward: -32.59999999999992\n",
            "Current Episode Length: 208\n",
            "\n"
          ]
        },
        {
          "output_type": "stream",
          "name": "stderr",
          "text": [
            "\r  8%|▊         | 25/300 [04:05<40:49,  8.91s/it]"
          ]
        },
        {
          "output_type": "stream",
          "name": "stdout",
          "text": [
            "\n",
            "====================Training Progress Episode 25====================\n",
            "Mean Episode Reward:  -56.87600000000014\n",
            "Mean Episode Length:  290.96\n",
            "Current Episode Reward: 19.6\n",
            "Current Episode Length: 8\n",
            "\n"
          ]
        },
        {
          "output_type": "stream",
          "name": "stderr",
          "text": [
            "\r  9%|▊         | 26/300 [04:08<33:00,  7.23s/it]"
          ]
        },
        {
          "output_type": "stream",
          "name": "stdout",
          "text": [
            "\n",
            "====================Training Progress Episode 26====================\n",
            "Mean Episode Reward:  -54.67692307692322\n",
            "Mean Episode Length:  283.38461538461536\n",
            "Current Episode Reward: 0.3000000000000078\n",
            "Current Episode Length: 94\n",
            "\n"
          ]
        },
        {
          "output_type": "stream",
          "name": "stderr",
          "text": [
            "\r  9%|▉         | 27/300 [04:10<26:07,  5.74s/it]"
          ]
        },
        {
          "output_type": "stream",
          "name": "stdout",
          "text": [
            "\n",
            "====================Training Progress Episode 27====================\n",
            "Mean Episode Reward:  -52.45555555555569\n",
            "Mean Episode Length:  275.22222222222223\n",
            "Current Episode Reward: 5.299999999999995\n",
            "Current Episode Length: 63\n",
            "\n"
          ]
        },
        {
          "output_type": "stream",
          "name": "stderr",
          "text": [
            "\r  9%|▉         | 28/300 [04:28<41:55,  9.25s/it]"
          ]
        },
        {
          "output_type": "stream",
          "name": "stdout",
          "text": [
            "\n",
            "====================Training Progress Episode 28====================\n",
            "Mean Episode Reward:  -54.44285714285728\n",
            "Mean Episode Length:  283.25\n",
            "Current Episode Reward: -108.10000000000021\n",
            "Current Episode Length: 500\n",
            "\n"
          ]
        },
        {
          "output_type": "stream",
          "name": "stderr",
          "text": [
            "\r 10%|▉         | 29/300 [04:45<52:49, 11.69s/it]"
          ]
        },
        {
          "output_type": "stream",
          "name": "stdout",
          "text": [
            "\n",
            "====================Training Progress Episode 29====================\n",
            "Mean Episode Reward:  -56.475862068965654\n",
            "Mean Episode Length:  290.7241379310345\n",
            "Current Episode Reward: -113.40000000000038\n",
            "Current Episode Length: 500\n",
            "\n"
          ]
        },
        {
          "output_type": "stream",
          "name": "stderr",
          "text": [
            "\r 10%|█         | 30/300 [05:03<1:00:25, 13.43s/it]"
          ]
        },
        {
          "output_type": "stream",
          "name": "stdout",
          "text": [
            "\n",
            "====================Training Progress Episode 30====================\n",
            "Mean Episode Reward:  -58.55666666666681\n",
            "Mean Episode Length:  297.7\n",
            "Current Episode Reward: -118.90000000000012\n",
            "Current Episode Length: 500\n",
            "\n"
          ]
        },
        {
          "output_type": "stream",
          "name": "stderr",
          "text": [
            "\r 10%|█         | 31/300 [05:13<55:24, 12.36s/it]  "
          ]
        },
        {
          "output_type": "stream",
          "name": "stdout",
          "text": [
            "\n",
            "====================Training Progress Episode 31====================\n",
            "Mean Episode Reward:  -58.36129032258078\n",
            "Mean Episode Length:  297.16129032258067\n",
            "Current Episode Reward: -52.50000000000005\n",
            "Current Episode Length: 281\n",
            "\n"
          ]
        },
        {
          "output_type": "stream",
          "name": "stderr",
          "text": [
            "\r 11%|█         | 32/300 [05:30<1:01:54, 13.86s/it]"
          ]
        },
        {
          "output_type": "stream",
          "name": "stdout",
          "text": [
            "\n",
            "====================Training Progress Episode 32====================\n",
            "Mean Episode Reward:  -60.05000000000014\n",
            "Mean Episode Length:  303.5\n",
            "Current Episode Reward: -112.40000000000032\n",
            "Current Episode Length: 500\n",
            "\n"
          ]
        },
        {
          "output_type": "stream",
          "name": "stderr",
          "text": [
            "\r 11%|█         | 33/300 [05:30<43:41,  9.82s/it]  "
          ]
        },
        {
          "output_type": "stream",
          "name": "stdout",
          "text": [
            "\n",
            "====================Training Progress Episode 33====================\n",
            "Mean Episode Reward:  -57.642424242424376\n",
            "Mean Episode Length:  294.6363636363636\n",
            "Current Episode Reward: 19.4\n",
            "Current Episode Length: 11\n",
            "\n"
          ]
        },
        {
          "output_type": "stream",
          "name": "stderr",
          "text": [
            "\r 11%|█▏        | 34/300 [05:33<34:31,  7.79s/it]"
          ]
        },
        {
          "output_type": "stream",
          "name": "stdout",
          "text": [
            "\n",
            "====================Training Progress Episode 34====================\n",
            "Mean Episode Reward:  -55.94411764705895\n",
            "Mean Episode Length:  288.55882352941177\n",
            "Current Episode Reward: 0.10000000000001208\n",
            "Current Episode Length: 88\n",
            "\n"
          ]
        },
        {
          "output_type": "stream",
          "name": "stderr",
          "text": [
            "\r 12%|█▏        | 35/300 [05:51<47:15, 10.70s/it]"
          ]
        },
        {
          "output_type": "stream",
          "name": "stdout",
          "text": [
            "\n",
            "====================Training Progress Episode 35====================\n",
            "Mean Episode Reward:  -57.79428571428584\n",
            "Mean Episode Length:  294.6\n",
            "Current Episode Reward: -120.70000000000009\n",
            "Current Episode Length: 500\n",
            "\n"
          ]
        },
        {
          "output_type": "stream",
          "name": "stderr",
          "text": [
            "\r 12%|█▏        | 36/300 [05:51<33:19,  7.58s/it]"
          ]
        },
        {
          "output_type": "stream",
          "name": "stdout",
          "text": [
            "\n",
            "====================Training Progress Episode 36====================\n",
            "Mean Episode Reward:  -55.636111111111234\n",
            "Mean Episode Length:  286.6388888888889\n",
            "Current Episode Reward: 19.9\n",
            "Current Episode Length: 8\n",
            "\n"
          ]
        },
        {
          "output_type": "stream",
          "name": "stderr",
          "text": [
            "\r 12%|█▏        | 37/300 [06:09<46:08, 10.53s/it]"
          ]
        },
        {
          "output_type": "stream",
          "name": "stdout",
          "text": [
            "\n",
            "====================Training Progress Episode 37====================\n",
            "Mean Episode Reward:  -57.05945945945959\n",
            "Mean Episode Length:  292.4054054054054\n",
            "Current Episode Reward: -108.30000000000038\n",
            "Current Episode Length: 500\n",
            "\n"
          ]
        },
        {
          "output_type": "stream",
          "name": "stderr",
          "text": [
            "\r 13%|█▎        | 38/300 [06:26<55:11, 12.64s/it]"
          ]
        },
        {
          "output_type": "stream",
          "name": "stdout",
          "text": [
            "\n",
            "====================Training Progress Episode 38====================\n",
            "Mean Episode Reward:  -58.56578947368434\n",
            "Mean Episode Length:  297.86842105263156\n",
            "Current Episode Reward: -114.30000000000035\n",
            "Current Episode Length: 500\n",
            "\n"
          ]
        },
        {
          "output_type": "stream",
          "name": "stderr",
          "text": [
            "\r 13%|█▎        | 39/300 [06:44<1:01:24, 14.12s/it]"
          ]
        },
        {
          "output_type": "stream",
          "name": "stdout",
          "text": [
            "\n",
            "====================Training Progress Episode 39====================\n",
            "Mean Episode Reward:  -60.27692307692321\n",
            "Mean Episode Length:  303.05128205128204\n",
            "Current Episode Reward: -125.30000000000013\n",
            "Current Episode Length: 500\n",
            "\n"
          ]
        },
        {
          "output_type": "stream",
          "name": "stderr",
          "text": [
            "\r 13%|█▎        | 40/300 [07:01<1:05:44, 15.17s/it]"
          ]
        },
        {
          "output_type": "stream",
          "name": "stdout",
          "text": [
            "\n",
            "====================Training Progress Episode 40====================\n",
            "Mean Episode Reward:  -62.160000000000124\n",
            "Mean Episode Length:  307.975\n",
            "Current Episode Reward: -135.59999999999968\n",
            "Current Episode Length: 500\n",
            "\n"
          ]
        },
        {
          "output_type": "stream",
          "name": "stderr",
          "text": [
            "\r 14%|█▎        | 41/300 [07:19<1:08:32, 15.88s/it]"
          ]
        },
        {
          "output_type": "stream",
          "name": "stdout",
          "text": [
            "\n",
            "====================Training Progress Episode 41====================\n",
            "Mean Episode Reward:  -63.5707317073172\n",
            "Mean Episode Length:  312.6585365853659\n",
            "Current Episode Reward: -119.99999999999991\n",
            "Current Episode Length: 500\n",
            "\n"
          ]
        },
        {
          "output_type": "stream",
          "name": "stderr",
          "text": [
            "\r 14%|█▍        | 42/300 [07:21<50:08, 11.66s/it]  "
          ]
        },
        {
          "output_type": "stream",
          "name": "stdout",
          "text": [
            "\n",
            "====================Training Progress Episode 42====================\n",
            "Mean Episode Reward:  -61.81904761904774\n",
            "Mean Episode Length:  306.45238095238096\n",
            "Current Episode Reward: 10.000000000000005\n",
            "Current Episode Length: 52\n",
            "\n"
          ]
        },
        {
          "output_type": "stream",
          "name": "stderr",
          "text": [
            "\r 14%|█▍        | 43/300 [07:23<37:43,  8.81s/it]"
          ]
        },
        {
          "output_type": "stream",
          "name": "stdout",
          "text": [
            "\n",
            "====================Training Progress Episode 43====================\n",
            "Mean Episode Reward:  -60.29069767441872\n",
            "Mean Episode Length:  300.7674418604651\n",
            "Current Episode Reward: 3.8999999999999844\n",
            "Current Episode Length: 62\n",
            "\n"
          ]
        },
        {
          "output_type": "stream",
          "name": "stderr",
          "text": [
            "\r 15%|█▍        | 44/300 [07:25<29:29,  6.91s/it]"
          ]
        },
        {
          "output_type": "stream",
          "name": "stdout",
          "text": [
            "\n",
            "====================Training Progress Episode 44====================\n",
            "Mean Episode Reward:  -58.850000000000115\n",
            "Mean Episode Length:  295.5681818181818\n",
            "Current Episode Reward: 3.1000000000000085\n",
            "Current Episode Length: 72\n",
            "\n"
          ]
        },
        {
          "output_type": "stream",
          "name": "stderr",
          "text": [
            "\r 15%|█▌        | 45/300 [07:43<42:58, 10.11s/it]"
          ]
        },
        {
          "output_type": "stream",
          "name": "stdout",
          "text": [
            "\n",
            "====================Training Progress Episode 45====================\n",
            "Mean Episode Reward:  -60.18444444444456\n",
            "Mean Episode Length:  300.1111111111111\n",
            "Current Episode Reward: -118.90000000000018\n",
            "Current Episode Length: 500\n",
            "\n"
          ]
        },
        {
          "output_type": "stream",
          "name": "stderr",
          "text": [
            "\r 15%|█▌        | 46/300 [08:00<52:05, 12.31s/it]"
          ]
        },
        {
          "output_type": "stream",
          "name": "stdout",
          "text": [
            "\n",
            "====================Training Progress Episode 46====================\n",
            "Mean Episode Reward:  -61.69565217391315\n",
            "Mean Episode Length:  304.45652173913044\n",
            "Current Episode Reward: -129.6999999999997\n",
            "Current Episode Length: 500\n",
            "\n"
          ]
        },
        {
          "output_type": "stream",
          "name": "stderr",
          "text": [
            "\r 16%|█▌        | 47/300 [08:02<38:36,  9.15s/it]"
          ]
        },
        {
          "output_type": "stream",
          "name": "stdout",
          "text": [
            "\n",
            "====================Training Progress Episode 47====================\n",
            "Mean Episode Reward:  -60.19148936170223\n",
            "Mean Episode Length:  299.0851063829787\n",
            "Current Episode Reward: 9.000000000000005\n",
            "Current Episode Length: 52\n",
            "\n"
          ]
        },
        {
          "output_type": "stream",
          "name": "stderr",
          "text": [
            "\r 16%|█▌        | 48/300 [08:05<30:42,  7.31s/it]"
          ]
        },
        {
          "output_type": "stream",
          "name": "stdout",
          "text": [
            "\n",
            "====================Training Progress Episode 48====================\n",
            "Mean Episode Reward:  -58.952083333333434\n",
            "Mean Episode Length:  294.6458333333333\n",
            "Current Episode Reward: -0.7000000000000135\n",
            "Current Episode Length: 86\n",
            "\n"
          ]
        },
        {
          "output_type": "stream",
          "name": "stderr",
          "text": [
            "\r 16%|█▋        | 49/300 [08:23<43:27, 10.39s/it]"
          ]
        },
        {
          "output_type": "stream",
          "name": "stdout",
          "text": [
            "\n",
            "====================Training Progress Episode 49====================\n",
            "Mean Episode Reward:  -59.94489795918378\n",
            "Mean Episode Length:  298.83673469387753\n",
            "Current Episode Reward: -107.6000000000005\n",
            "Current Episode Length: 500\n",
            "\n"
          ]
        },
        {
          "output_type": "stream",
          "name": "stderr",
          "text": [
            " 17%|█▋        | 51/300 [08:40<36:32,  8.80s/it]"
          ]
        },
        {
          "output_type": "stream",
          "name": "stdout",
          "text": [
            "\n",
            "====================Training Progress Episode 50====================\n",
            "Mean Episode Reward:  -60.91200000000012\n",
            "Mean Episode Length:  302.86\n",
            "Current Episode Reward: -108.30000000000068\n",
            "Current Episode Length: 500\n",
            "\n",
            "\n",
            "====================Training Progress Episode 51====================\n",
            "Mean Episode Reward:  -59.31176470588247\n",
            "Mean Episode Length:  297.0\n",
            "Current Episode Reward: 20.7\n",
            "Current Episode Length: 4\n",
            "\n"
          ]
        },
        {
          "output_type": "stream",
          "name": "stderr",
          "text": [
            "\r 17%|█▋        | 52/300 [08:48<34:29,  8.35s/it]"
          ]
        },
        {
          "output_type": "stream",
          "name": "stdout",
          "text": [
            "\n",
            "====================Training Progress Episode 52====================\n",
            "Mean Episode Reward:  -58.72692307692319\n",
            "Mean Episode Length:  295.2692307692308\n",
            "Current Episode Reward: -28.899999999999935\n",
            "Current Episode Length: 207\n",
            "\n"
          ]
        },
        {
          "output_type": "stream",
          "name": "stderr",
          "text": [
            "\r 18%|█▊        | 53/300 [09:05<45:38, 11.09s/it]"
          ]
        },
        {
          "output_type": "stream",
          "name": "stdout",
          "text": [
            "\n",
            "====================Training Progress Episode 53====================\n",
            "Mean Episode Reward:  -59.79622641509446\n",
            "Mean Episode Length:  299.1320754716981\n",
            "Current Episode Reward: -115.40000000000023\n",
            "Current Episode Length: 500\n",
            "\n"
          ]
        },
        {
          "output_type": "stream",
          "name": "stderr",
          "text": [
            "\r 18%|█▊        | 54/300 [09:23<53:22, 13.02s/it]"
          ]
        },
        {
          "output_type": "stream",
          "name": "stdout",
          "text": [
            "\n",
            "====================Training Progress Episode 54====================\n",
            "Mean Episode Reward:  -60.89629629629641\n",
            "Mean Episode Length:  302.85185185185185\n",
            "Current Episode Reward: -119.20000000000016\n",
            "Current Episode Length: 500\n",
            "\n"
          ]
        },
        {
          "output_type": "stream",
          "name": "stderr",
          "text": [
            "\r 18%|█▊        | 55/300 [09:27<42:37, 10.44s/it]"
          ]
        },
        {
          "output_type": "stream",
          "name": "stdout",
          "text": [
            "\n",
            "====================Training Progress Episode 55====================\n",
            "Mean Episode Reward:  -60.00363636363648\n",
            "Mean Episode Length:  299.6545454545454\n",
            "Current Episode Reward: -11.800000000000004\n",
            "Current Episode Length: 127\n",
            "\n"
          ]
        },
        {
          "output_type": "stream",
          "name": "stderr",
          "text": [
            "\r 19%|█▊        | 56/300 [09:27<29:58,  7.37s/it]"
          ]
        },
        {
          "output_type": "stream",
          "name": "stdout",
          "text": [
            "\n",
            "====================Training Progress Episode 56====================\n",
            "Mean Episode Reward:  -58.57678571428583\n",
            "Mean Episode Length:  294.4107142857143\n",
            "Current Episode Reward: 19.9\n",
            "Current Episode Length: 6\n",
            "\n"
          ]
        },
        {
          "output_type": "stream",
          "name": "stderr",
          "text": [
            "\r 19%|█▉        | 57/300 [09:45<42:14, 10.43s/it]"
          ]
        },
        {
          "output_type": "stream",
          "name": "stdout",
          "text": [
            "\n",
            "====================Training Progress Episode 57====================\n",
            "Mean Episode Reward:  -59.74385964912292\n",
            "Mean Episode Length:  298.0175438596491\n",
            "Current Episode Reward: -125.09999999999998\n",
            "Current Episode Length: 500\n",
            "\n"
          ]
        },
        {
          "output_type": "stream",
          "name": "stderr",
          "text": [
            "\r 19%|█▉        | 58/300 [10:02<50:41, 12.57s/it]"
          ]
        },
        {
          "output_type": "stream",
          "name": "stdout",
          "text": [
            "\n",
            "====================Training Progress Episode 58====================\n",
            "Mean Episode Reward:  -60.801724137931146\n",
            "Mean Episode Length:  301.5\n",
            "Current Episode Reward: -121.09999999999998\n",
            "Current Episode Length: 500\n",
            "\n"
          ]
        },
        {
          "output_type": "stream",
          "name": "stderr",
          "text": [
            " 20%|██        | 60/300 [10:20<39:24,  9.85s/it]"
          ]
        },
        {
          "output_type": "stream",
          "name": "stdout",
          "text": [
            "\n",
            "====================Training Progress Episode 59====================\n",
            "Mean Episode Reward:  -61.82033898305096\n",
            "Mean Episode Length:  304.864406779661\n",
            "Current Episode Reward: -120.90000000000012\n",
            "Current Episode Length: 500\n",
            "\n",
            "\n",
            "====================Training Progress Episode 60====================\n",
            "Mean Episode Reward:  -60.440000000000104\n",
            "Mean Episode Length:  299.8333333333333\n",
            "Current Episode Reward: 21.0\n",
            "Current Episode Length: 3\n",
            "\n"
          ]
        },
        {
          "output_type": "stream",
          "name": "stderr",
          "text": [
            "\r 20%|██        | 61/300 [10:37<48:20, 12.14s/it]"
          ]
        },
        {
          "output_type": "stream",
          "name": "stdout",
          "text": [
            "\n",
            "====================Training Progress Episode 61====================\n",
            "Mean Episode Reward:  -61.362295081967325\n",
            "Mean Episode Length:  303.11475409836066\n",
            "Current Episode Reward: -116.70000000000014\n",
            "Current Episode Length: 500\n",
            "\n"
          ]
        },
        {
          "output_type": "stream",
          "name": "stderr",
          "text": [
            "\r 21%|██        | 62/300 [10:55<54:31, 13.74s/it]"
          ]
        },
        {
          "output_type": "stream",
          "name": "stdout",
          "text": [
            "\n",
            "====================Training Progress Episode 62====================\n",
            "Mean Episode Reward:  -62.32741935483882\n",
            "Mean Episode Length:  306.2903225806452\n",
            "Current Episode Reward: -121.19999999999992\n",
            "Current Episode Length: 500\n",
            "\n"
          ]
        },
        {
          "output_type": "stream",
          "name": "stderr",
          "text": [
            " 21%|██▏       | 64/300 [11:13<41:05, 10.45s/it]"
          ]
        },
        {
          "output_type": "stream",
          "name": "stdout",
          "text": [
            "\n",
            "====================Training Progress Episode 63====================\n",
            "Mean Episode Reward:  -63.0920634920636\n",
            "Mean Episode Length:  309.36507936507934\n",
            "Current Episode Reward: -110.50000000000038\n",
            "Current Episode Length: 500\n",
            "\n",
            "\n",
            "====================Training Progress Episode 64====================\n",
            "Mean Episode Reward:  -61.78437500000011\n",
            "Mean Episode Length:  304.609375\n",
            "Current Episode Reward: 20.6\n",
            "Current Episode Length: 5\n",
            "\n"
          ]
        },
        {
          "output_type": "stream",
          "name": "stderr",
          "text": [
            "\r 22%|██▏       | 65/300 [11:30<49:11, 12.56s/it]"
          ]
        },
        {
          "output_type": "stream",
          "name": "stdout",
          "text": [
            "\n",
            "====================Training Progress Episode 65====================\n",
            "Mean Episode Reward:  -62.56000000000011\n",
            "Mean Episode Length:  307.61538461538464\n",
            "Current Episode Reward: -112.20000000000005\n",
            "Current Episode Length: 500\n",
            "\n"
          ]
        },
        {
          "output_type": "stream",
          "name": "stderr",
          "text": [
            "\r 22%|██▏       | 66/300 [11:47<54:36, 14.00s/it]"
          ]
        },
        {
          "output_type": "stream",
          "name": "stdout",
          "text": [
            "\n",
            "====================Training Progress Episode 66====================\n",
            "Mean Episode Reward:  -63.4939393939395\n",
            "Mean Episode Length:  310.530303030303\n",
            "Current Episode Reward: -124.19999999999982\n",
            "Current Episode Length: 500\n",
            "\n"
          ]
        },
        {
          "output_type": "stream",
          "name": "stderr",
          "text": [
            "\r 22%|██▏       | 67/300 [11:51<42:44, 11.01s/it]"
          ]
        },
        {
          "output_type": "stream",
          "name": "stdout",
          "text": [
            "\n",
            "====================Training Progress Episode 67====================\n",
            "Mean Episode Reward:  -62.70149253731353\n",
            "Mean Episode Length:  307.6119402985075\n",
            "Current Episode Reward: -10.40000000000003\n",
            "Current Episode Length: 115\n",
            "\n"
          ]
        },
        {
          "output_type": "stream",
          "name": "stderr",
          "text": [
            "\r 23%|██▎       | 68/300 [11:52<30:32,  7.90s/it]"
          ]
        },
        {
          "output_type": "stream",
          "name": "stdout",
          "text": [
            "\n",
            "====================Training Progress Episode 68====================\n",
            "Mean Episode Reward:  -61.54411764705892\n",
            "Mean Episode Length:  303.3529411764706\n",
            "Current Episode Reward: 16.0\n",
            "Current Episode Length: 18\n",
            "\n"
          ]
        },
        {
          "output_type": "stream",
          "name": "stderr",
          "text": [
            " 23%|██▎       | 70/300 [12:02<22:49,  5.96s/it]"
          ]
        },
        {
          "output_type": "stream",
          "name": "stdout",
          "text": [
            "\n",
            "====================Training Progress Episode 69====================\n",
            "Mean Episode Reward:  -61.559420289855154\n",
            "Mean Episode Length:  303.0144927536232\n",
            "Current Episode Reward: -62.59999999999978\n",
            "Current Episode Length: 280\n",
            "\n",
            "\n",
            "====================Training Progress Episode 70====================\n",
            "Mean Episode Reward:  -60.38000000000008\n",
            "Mean Episode Length:  298.72857142857146\n",
            "Current Episode Reward: 21.0\n",
            "Current Episode Length: 3\n",
            "\n"
          ]
        },
        {
          "output_type": "stream",
          "name": "stderr",
          "text": [
            "\r 24%|██▎       | 71/300 [12:02<16:21,  4.29s/it]"
          ]
        },
        {
          "output_type": "stream",
          "name": "stdout",
          "text": [
            "\n",
            "====================Training Progress Episode 71====================\n",
            "Mean Episode Reward:  -59.26478873239444\n",
            "Mean Episode Length:  294.67605633802816\n",
            "Current Episode Reward: 18.8\n",
            "Current Episode Length: 11\n",
            "\n"
          ]
        },
        {
          "output_type": "stream",
          "name": "stderr",
          "text": [
            "\r 24%|██▍       | 72/300 [12:06<15:50,  4.17s/it]"
          ]
        },
        {
          "output_type": "stream",
          "name": "stdout",
          "text": [
            "\n",
            "====================Training Progress Episode 72====================\n",
            "Mean Episode Reward:  -58.51527777777786\n",
            "Mean Episode Length:  292.09722222222223\n",
            "Current Episode Reward: -5.299999999999997\n",
            "Current Episode Length: 109\n",
            "\n"
          ]
        },
        {
          "output_type": "stream",
          "name": "stderr",
          "text": [
            "\r 24%|██▍       | 73/300 [12:24<30:47,  8.14s/it]"
          ]
        },
        {
          "output_type": "stream",
          "name": "stdout",
          "text": [
            "\n",
            "====================Training Progress Episode 73====================\n",
            "Mean Episode Reward:  -59.473972602739806\n",
            "Mean Episode Length:  294.94520547945206\n",
            "Current Episode Reward: -128.49999999999983\n",
            "Current Episode Length: 500\n",
            "\n"
          ]
        },
        {
          "output_type": "stream",
          "name": "stderr",
          "text": [
            "\r 25%|██▍       | 74/300 [12:24<22:11,  5.89s/it]"
          ]
        },
        {
          "output_type": "stream",
          "name": "stdout",
          "text": [
            "\n",
            "====================Training Progress Episode 74====================\n",
            "Mean Episode Reward:  -58.45405405405413\n",
            "Mean Episode Length:  291.2162162162162\n",
            "Current Episode Reward: 16.0\n",
            "Current Episode Length: 19\n",
            "\n"
          ]
        },
        {
          "output_type": "stream",
          "name": "stderr",
          "text": [
            "\r 25%|██▌       | 75/300 [12:42<35:09,  9.38s/it]"
          ]
        },
        {
          "output_type": "stream",
          "name": "stdout",
          "text": [
            "\n",
            "====================Training Progress Episode 75====================\n",
            "Mean Episode Reward:  -59.37466666666674\n",
            "Mean Episode Length:  294.0\n",
            "Current Episode Reward: -127.49999999999986\n",
            "Current Episode Length: 500\n",
            "\n"
          ]
        },
        {
          "output_type": "stream",
          "name": "stderr",
          "text": [
            "\r 25%|██▌       | 76/300 [12:47<29:57,  8.02s/it]"
          ]
        },
        {
          "output_type": "stream",
          "name": "stdout",
          "text": [
            "\n",
            "====================Training Progress Episode 76====================\n",
            "Mean Episode Reward:  -58.722368421052714\n",
            "Mean Episode Length:  291.9605263157895\n",
            "Current Episode Reward: -9.799999999999994\n",
            "Current Episode Length: 139\n",
            "\n"
          ]
        },
        {
          "output_type": "stream",
          "name": "stderr",
          "text": [
            "\r 26%|██▌       | 77/300 [12:48<21:52,  5.89s/it]"
          ]
        },
        {
          "output_type": "stream",
          "name": "stdout",
          "text": [
            "\n",
            "====================Training Progress Episode 77====================\n",
            "Mean Episode Reward:  -57.76753246753254\n",
            "Mean Episode Length:  288.5064935064935\n",
            "Current Episode Reward: 14.8\n",
            "Current Episode Length: 26\n",
            "\n"
          ]
        },
        {
          "output_type": "stream",
          "name": "stderr",
          "text": [
            "\r 26%|██▌       | 78/300 [13:05<34:31,  9.33s/it]"
          ]
        },
        {
          "output_type": "stream",
          "name": "stdout",
          "text": [
            "\n",
            "====================Training Progress Episode 78====================\n",
            "Mean Episode Reward:  -58.70384615384622\n",
            "Mean Episode Length:  291.21794871794873\n",
            "Current Episode Reward: -130.79999999999973\n",
            "Current Episode Length: 500\n",
            "\n",
            "\n",
            "====================Training Progress Episode 79====================\n",
            "Mean Episode Reward:  -57.69746835443044\n",
            "Mean Episode Length:  287.55696202531647\n",
            "Current Episode Reward: 20.8\n",
            "Current Episode Length: 2\n",
            "\n"
          ]
        },
        {
          "output_type": "stream",
          "name": "stderr",
          "text": [
            "\r 27%|██▋       | 80/300 [13:22<33:14,  9.07s/it]"
          ]
        },
        {
          "output_type": "stream",
          "name": "stdout",
          "text": [
            "\n",
            "====================Training Progress Episode 80====================\n",
            "Mean Episode Reward:  -58.46625000000006\n",
            "Mean Episode Length:  290.2125\n",
            "Current Episode Reward: -119.20000000000019\n",
            "Current Episode Length: 500\n",
            "\n"
          ]
        },
        {
          "output_type": "stream",
          "name": "stderr",
          "text": [
            "\r 27%|██▋       | 81/300 [13:30<31:58,  8.76s/it]"
          ]
        },
        {
          "output_type": "stream",
          "name": "stdout",
          "text": [
            "\n",
            "====================Training Progress Episode 81====================\n",
            "Mean Episode Reward:  -58.137037037037096\n",
            "Mean Episode Length:  289.41975308641975\n",
            "Current Episode Reward: -31.800000000000182\n",
            "Current Episode Length: 226\n",
            "\n"
          ]
        },
        {
          "output_type": "stream",
          "name": "stderr",
          "text": [
            "\r 27%|██▋       | 82/300 [13:48<40:09, 11.05s/it]"
          ]
        },
        {
          "output_type": "stream",
          "name": "stdout",
          "text": [
            "\n",
            "====================Training Progress Episode 82====================\n",
            "Mean Episode Reward:  -58.68292682926836\n",
            "Mean Episode Length:  291.9878048780488\n",
            "Current Episode Reward: -102.9000000000001\n",
            "Current Episode Length: 500\n",
            "\n"
          ]
        },
        {
          "output_type": "stream",
          "name": "stderr",
          "text": [
            "\r 28%|██▊       | 83/300 [14:05<46:11, 12.77s/it]"
          ]
        },
        {
          "output_type": "stream",
          "name": "stdout",
          "text": [
            "\n",
            "====================Training Progress Episode 83====================\n",
            "Mean Episode Reward:  -59.38313253012055\n",
            "Mean Episode Length:  294.49397590361446\n",
            "Current Episode Reward: -116.80000000000034\n",
            "Current Episode Length: 500\n",
            "\n"
          ]
        },
        {
          "output_type": "stream",
          "name": "stderr",
          "text": [
            "\r 28%|██▊       | 84/300 [14:06<34:14,  9.51s/it]"
          ]
        },
        {
          "output_type": "stream",
          "name": "stdout",
          "text": [
            "\n",
            "====================Training Progress Episode 84====================\n",
            "Mean Episode Reward:  -58.50595238095244\n",
            "Mean Episode Length:  291.3690476190476\n",
            "Current Episode Reward: 14.299999999999997\n",
            "Current Episode Length: 32\n",
            "\n"
          ]
        },
        {
          "output_type": "stream",
          "name": "stderr",
          "text": [
            " 29%|██▉       | 87/300 [14:24<23:09,  6.52s/it]"
          ]
        },
        {
          "output_type": "stream",
          "name": "stdout",
          "text": [
            "\n",
            "====================Training Progress Episode 85====================\n",
            "Mean Episode Reward:  -59.221176470588304\n",
            "Mean Episode Length:  293.8235294117647\n",
            "Current Episode Reward: -119.3000000000002\n",
            "Current Episode Length: 500\n",
            "\n",
            "\n",
            "====================Training Progress Episode 86====================\n",
            "Mean Episode Reward:  -58.28837209302332\n",
            "Mean Episode Length:  290.43023255813955\n",
            "Current Episode Reward: 21.0\n",
            "Current Episode Length: 2\n",
            "\n",
            "\n",
            "====================Training Progress Episode 87====================\n",
            "Mean Episode Reward:  -57.37701149425294\n",
            "Mean Episode Length:  287.11494252873564\n",
            "Current Episode Reward: 21.0\n",
            "Current Episode Length: 2\n",
            "\n"
          ]
        },
        {
          "output_type": "stream",
          "name": "stderr",
          "text": [
            "\r 29%|██▉       | 88/300 [14:27<20:23,  5.77s/it]"
          ]
        },
        {
          "output_type": "stream",
          "name": "stdout",
          "text": [
            "\n",
            "====================Training Progress Episode 88====================\n",
            "Mean Episode Reward:  -56.78409090909097\n",
            "Mean Episode Length:  284.97727272727275\n",
            "Current Episode Reward: -5.200000000000024\n",
            "Current Episode Length: 99\n",
            "\n"
          ]
        },
        {
          "output_type": "stream",
          "name": "stderr",
          "text": [
            "\r 30%|██▉       | 89/300 [14:28<15:52,  4.52s/it]"
          ]
        },
        {
          "output_type": "stream",
          "name": "stdout",
          "text": [
            "\n",
            "====================Training Progress Episode 89====================\n",
            "Mean Episode Reward:  -55.99325842696635\n",
            "Mean Episode Length:  282.0674157303371\n",
            "Current Episode Reward: 13.600000000000003\n",
            "Current Episode Length: 26\n",
            "\n"
          ]
        },
        {
          "output_type": "stream",
          "name": "stderr",
          "text": [
            "\r 30%|███       | 90/300 [14:46<28:11,  8.06s/it]"
          ]
        },
        {
          "output_type": "stream",
          "name": "stdout",
          "text": [
            "\n",
            "====================Training Progress Episode 90====================\n",
            "Mean Episode Reward:  -56.903333333333386\n",
            "Mean Episode Length:  284.4888888888889\n",
            "Current Episode Reward: -137.8999999999995\n",
            "Current Episode Length: 500\n",
            "\n"
          ]
        },
        {
          "output_type": "stream",
          "name": "stderr",
          "text": [
            "\r 30%|███       | 91/300 [15:03<37:11, 10.68s/it]"
          ]
        },
        {
          "output_type": "stream",
          "name": "stdout",
          "text": [
            "\n",
            "====================Training Progress Episode 91====================\n",
            "Mean Episode Reward:  -57.64175824175829\n",
            "Mean Episode Length:  286.85714285714283\n",
            "Current Episode Reward: -124.09999999999943\n",
            "Current Episode Length: 500\n",
            "\n"
          ]
        },
        {
          "output_type": "stream",
          "name": "stderr",
          "text": [
            "\r 31%|███       | 92/300 [15:21<43:40, 12.60s/it]"
          ]
        },
        {
          "output_type": "stream",
          "name": "stdout",
          "text": [
            "\n",
            "====================Training Progress Episode 92====================\n",
            "Mean Episode Reward:  -58.38478260869569\n",
            "Mean Episode Length:  289.17391304347825\n",
            "Current Episode Reward: -125.99999999999945\n",
            "Current Episode Length: 500\n",
            "\n"
          ]
        },
        {
          "output_type": "stream",
          "name": "stderr",
          "text": [
            "\r 31%|███       | 93/300 [15:38<48:18, 14.00s/it]"
          ]
        },
        {
          "output_type": "stream",
          "name": "stdout",
          "text": [
            "\n",
            "====================Training Progress Episode 93====================\n",
            "Mean Episode Reward:  -59.15161290322584\n",
            "Mean Episode Length:  291.44086021505376\n",
            "Current Episode Reward: -129.6999999999998\n",
            "Current Episode Length: 500\n",
            "\n"
          ]
        },
        {
          "output_type": "stream",
          "name": "stderr",
          "text": [
            "\r 31%|███▏      | 94/300 [15:56<51:36, 15.03s/it]"
          ]
        },
        {
          "output_type": "stream",
          "name": "stdout",
          "text": [
            "\n",
            "====================Training Progress Episode 94====================\n",
            "Mean Episode Reward:  -59.83723404255323\n",
            "Mean Episode Length:  293.6595744680851\n",
            "Current Episode Reward: -123.60000000000005\n",
            "Current Episode Length: 500\n",
            "\n",
            "\n",
            "====================Training Progress Episode 95====================\n",
            "Mean Episode Reward:  -58.98631578947372\n",
            "Mean Episode Length:  290.57894736842104\n",
            "Current Episode Reward: 21.0\n",
            "Current Episode Length: 1\n",
            "\n",
            "\n",
            "====================Training Progress Episode 96====================\n",
            "Mean Episode Reward:  -58.15312500000004\n",
            "Mean Episode Length:  287.5625\n",
            "Current Episode Reward: 21.0\n",
            "Current Episode Length: 1\n",
            "\n"
          ]
        },
        {
          "output_type": "stream",
          "name": "stderr",
          "text": [
            "\r 32%|███▏      | 97/300 [16:13<33:34,  9.92s/it]"
          ]
        },
        {
          "output_type": "stream",
          "name": "stdout",
          "text": [
            "\n",
            "====================Training Progress Episode 97====================\n",
            "Mean Episode Reward:  -58.78865979381447\n",
            "Mean Episode Length:  289.7525773195876\n",
            "Current Episode Reward: -119.79999999999995\n",
            "Current Episode Length: 500\n",
            "\n"
          ]
        },
        {
          "output_type": "stream",
          "name": "stderr",
          "text": [
            "\r 33%|███▎      | 98/300 [16:16<28:14,  8.39s/it]"
          ]
        },
        {
          "output_type": "stream",
          "name": "stdout",
          "text": [
            "\n",
            "====================Training Progress Episode 98====================\n",
            "Mean Episode Reward:  -58.123469387755144\n",
            "Mean Episode Length:  287.5408163265306\n",
            "Current Episode Reward: 6.399999999999986\n",
            "Current Episode Length: 73\n",
            "\n"
          ]
        },
        {
          "output_type": "stream",
          "name": "stderr",
          "text": [
            "\r 33%|███▎      | 99/300 [16:33<35:07, 10.49s/it]"
          ]
        },
        {
          "output_type": "stream",
          "name": "stdout",
          "text": [
            "\n",
            "====================Training Progress Episode 99====================\n",
            "Mean Episode Reward:  -58.67474747474751\n",
            "Mean Episode Length:  289.6868686868687\n",
            "Current Episode Reward: -112.70000000000024\n",
            "Current Episode Length: 500\n",
            "\n"
          ]
        },
        {
          "output_type": "stream",
          "name": "stderr",
          "text": [
            "\r 33%|███▎      | 100/300 [16:34<26:33,  7.97s/it]"
          ]
        },
        {
          "output_type": "stream",
          "name": "stdout",
          "text": [
            "\n",
            "====================Training Progress Episode 100====================\n",
            "Mean Episode Reward:  -57.89400000000004\n",
            "Mean Episode Length:  286.88\n",
            "Current Episode Reward: 19.4\n",
            "Current Episode Length: 9\n",
            "\n"
          ]
        },
        {
          "output_type": "stream",
          "name": "stderr",
          "text": [
            " 34%|███▍      | 102/300 [16:51<25:13,  7.65s/it]"
          ]
        },
        {
          "output_type": "stream",
          "name": "stdout",
          "text": [
            "\n",
            "====================Training Progress Episode 101====================\n",
            "Mean Episode Reward:  -58.47425742574262\n",
            "Mean Episode Length:  288.990099009901\n",
            "Current Episode Reward: -116.5000000000005\n",
            "Current Episode Length: 500\n",
            "\n",
            "\n",
            "====================Training Progress Episode 102====================\n",
            "Mean Episode Reward:  -57.69705882352946\n",
            "Mean Episode Length:  286.19607843137254\n",
            "Current Episode Reward: 20.8\n",
            "Current Episode Length: 4\n",
            "\n"
          ]
        },
        {
          "output_type": "stream",
          "name": "stderr",
          "text": [
            "\r 34%|███▍      | 103/300 [16:52<18:12,  5.55s/it]"
          ]
        },
        {
          "output_type": "stream",
          "name": "stdout",
          "text": [
            "\n",
            "====================Training Progress Episode 103====================\n",
            "Mean Episode Reward:  -56.93495145631073\n",
            "Mean Episode Length:  283.45631067961165\n",
            "Current Episode Reward: 20.8\n",
            "Current Episode Length: 4\n",
            "\n"
          ]
        },
        {
          "output_type": "stream",
          "name": "stderr",
          "text": [
            "\r 35%|███▍      | 104/300 [17:09<29:29,  9.03s/it]"
          ]
        },
        {
          "output_type": "stream",
          "name": "stdout",
          "text": [
            "\n",
            "====================Training Progress Episode 104====================\n",
            "Mean Episode Reward:  -57.66538461538466\n",
            "Mean Episode Length:  285.53846153846155\n",
            "Current Episode Reward: -132.89999999999975\n",
            "Current Episode Length: 500\n",
            "\n"
          ]
        },
        {
          "output_type": "stream",
          "name": "stderr",
          "text": [
            "\r 35%|███▌      | 105/300 [17:27<37:15, 11.46s/it]"
          ]
        },
        {
          "output_type": "stream",
          "name": "stdout",
          "text": [
            "\n",
            "====================Training Progress Episode 105====================\n",
            "Mean Episode Reward:  -58.25904761904765\n",
            "Mean Episode Length:  287.5809523809524\n",
            "Current Episode Reward: -119.99999999999946\n",
            "Current Episode Length: 500\n",
            "\n"
          ]
        },
        {
          "output_type": "stream",
          "name": "stderr",
          "text": [
            "\r 35%|███▌      | 106/300 [17:30<29:49,  9.22s/it]"
          ]
        },
        {
          "output_type": "stream",
          "name": "stdout",
          "text": [
            "\n",
            "====================Training Progress Episode 106====================\n",
            "Mean Episode Reward:  -57.792452830188715\n",
            "Mean Episode Length:  285.9056603773585\n",
            "Current Episode Reward: -8.800000000000026\n",
            "Current Episode Length: 110\n",
            "\n"
          ]
        },
        {
          "output_type": "stream",
          "name": "stderr",
          "text": [
            "\r 36%|███▌      | 107/300 [17:48<37:32, 11.67s/it]"
          ]
        },
        {
          "output_type": "stream",
          "name": "stdout",
          "text": [
            "\n",
            "====================Training Progress Episode 107====================\n",
            "Mean Episode Reward:  -58.4439252336449\n",
            "Mean Episode Length:  287.9065420560748\n",
            "Current Episode Reward: -127.4999999999998\n",
            "Current Episode Length: 500\n",
            "\n"
          ]
        },
        {
          "output_type": "stream",
          "name": "stderr",
          "text": [
            "\r 36%|███▌      | 108/300 [18:05<42:49, 13.38s/it]"
          ]
        },
        {
          "output_type": "stream",
          "name": "stdout",
          "text": [
            "\n",
            "====================Training Progress Episode 108====================\n",
            "Mean Episode Reward:  -58.993518518518556\n",
            "Mean Episode Length:  289.8703703703704\n",
            "Current Episode Reward: -117.80000000000007\n",
            "Current Episode Length: 500\n",
            "\n"
          ]
        },
        {
          "output_type": "stream",
          "name": "stderr",
          "text": [
            "\r 36%|███▋      | 109/300 [18:06<30:12,  9.49s/it]"
          ]
        },
        {
          "output_type": "stream",
          "name": "stdout",
          "text": [
            "\n",
            "====================Training Progress Episode 109====================\n",
            "Mean Episode Reward:  -58.27798165137618\n",
            "Mean Episode Length:  287.2844036697248\n",
            "Current Episode Reward: 19.0\n",
            "Current Episode Length: 8\n",
            "\n"
          ]
        },
        {
          "output_type": "stream",
          "name": "stderr",
          "text": [
            "\r 37%|███▋      | 110/300 [18:23<37:39, 11.89s/it]"
          ]
        },
        {
          "output_type": "stream",
          "name": "stdout",
          "text": [
            "\n",
            "====================Training Progress Episode 110====================\n",
            "Mean Episode Reward:  -58.9327272727273\n",
            "Mean Episode Length:  289.2181818181818\n",
            "Current Episode Reward: -130.29999999999922\n",
            "Current Episode Length: 500\n",
            "\n",
            "\n",
            "====================Training Progress Episode 111====================\n",
            "Mean Episode Reward:  -58.21261261261264\n",
            "Mean Episode Length:  286.6306306306306\n",
            "Current Episode Reward: 21.0\n",
            "Current Episode Length: 2\n",
            "\n"
          ]
        },
        {
          "output_type": "stream",
          "name": "stderr",
          "text": [
            "\r 37%|███▋      | 112/300 [18:41<32:46, 10.46s/it]"
          ]
        },
        {
          "output_type": "stream",
          "name": "stdout",
          "text": [
            "\n",
            "====================Training Progress Episode 112====================\n",
            "Mean Episode Reward:  -58.83482142857145\n",
            "Mean Episode Length:  288.5357142857143\n",
            "Current Episode Reward: -127.89999999999974\n",
            "Current Episode Length: 500\n",
            "\n"
          ]
        },
        {
          "output_type": "stream",
          "name": "stderr",
          "text": [
            "\r 38%|███▊      | 113/300 [18:58<37:59, 12.19s/it]"
          ]
        },
        {
          "output_type": "stream",
          "name": "stdout",
          "text": [
            "\n",
            "====================Training Progress Episode 113====================\n",
            "Mean Episode Reward:  -59.507079646017715\n",
            "Mean Episode Length:  290.4070796460177\n",
            "Current Episode Reward: -134.7999999999997\n",
            "Current Episode Length: 500\n",
            "\n"
          ]
        },
        {
          "output_type": "stream",
          "name": "stderr",
          "text": [
            "\r 38%|███▊      | 114/300 [19:16<42:08, 13.60s/it]"
          ]
        },
        {
          "output_type": "stream",
          "name": "stdout",
          "text": [
            "\n",
            "====================Training Progress Episode 114====================\n",
            "Mean Episode Reward:  -60.02368421052634\n",
            "Mean Episode Length:  292.2456140350877\n",
            "Current Episode Reward: -118.40000000000028\n",
            "Current Episode Length: 500\n",
            "\n",
            "\n",
            "====================Training Progress Episode 115====================\n",
            "Mean Episode Reward:  -59.31913043478263\n",
            "Mean Episode Length:  289.7217391304348\n",
            "Current Episode Reward: 21.0\n",
            "Current Episode Length: 2\n",
            "\n"
          ]
        },
        {
          "output_type": "stream",
          "name": "stderr",
          "text": [
            "\r 39%|███▊      | 116/300 [19:33<35:24, 11.55s/it]"
          ]
        },
        {
          "output_type": "stream",
          "name": "stdout",
          "text": [
            "\n",
            "====================Training Progress Episode 116====================\n",
            "Mean Episode Reward:  -59.706896551724164\n",
            "Mean Episode Length:  291.5344827586207\n",
            "Current Episode Reward: -104.30000000000051\n",
            "Current Episode Length: 500\n",
            "\n"
          ]
        },
        {
          "output_type": "stream",
          "name": "stderr",
          "text": [
            "\r 39%|███▉      | 117/300 [19:51<39:32, 12.96s/it]"
          ]
        },
        {
          "output_type": "stream",
          "name": "stdout",
          "text": [
            "\n",
            "====================Training Progress Episode 117====================\n",
            "Mean Episode Reward:  -60.414529914529936\n",
            "Mean Episode Length:  293.3162393162393\n",
            "Current Episode Reward: -142.49999999999983\n",
            "Current Episode Length: 500\n",
            "\n"
          ]
        },
        {
          "output_type": "stream",
          "name": "stderr",
          "text": [
            "\r 39%|███▉      | 118/300 [20:09<42:42, 14.08s/it]"
          ]
        },
        {
          "output_type": "stream",
          "name": "stdout",
          "text": [
            "\n",
            "====================Training Progress Episode 118====================\n",
            "Mean Episode Reward:  -60.96525423728816\n",
            "Mean Episode Length:  295.06779661016947\n",
            "Current Episode Reward: -125.39999999999993\n",
            "Current Episode Length: 500\n",
            "\n",
            "\n",
            "====================Training Progress Episode 119====================\n",
            "Mean Episode Reward:  -60.27647058823531\n",
            "Mean Episode Length:  292.60504201680675\n",
            "Current Episode Reward: 21.0\n",
            "Current Episode Length: 2\n",
            "\n"
          ]
        },
        {
          "output_type": "stream",
          "name": "stderr",
          "text": [
            "\r 40%|████      | 120/300 [20:09<24:48,  8.27s/it]"
          ]
        },
        {
          "output_type": "stream",
          "name": "stdout",
          "text": [
            "\n",
            "====================Training Progress Episode 120====================\n",
            "Mean Episode Reward:  -59.60500000000002\n",
            "Mean Episode Length:  290.21666666666664\n",
            "Current Episode Reward: 20.3\n",
            "Current Episode Length: 6\n",
            "\n"
          ]
        },
        {
          "output_type": "stream",
          "name": "stderr",
          "text": [
            "\r 40%|████      | 121/300 [20:26<30:58, 10.38s/it]"
          ]
        },
        {
          "output_type": "stream",
          "name": "stdout",
          "text": [
            "\n",
            "====================Training Progress Episode 121====================\n",
            "Mean Episode Reward:  -60.29834710743803\n",
            "Mean Episode Length:  291.9504132231405\n",
            "Current Episode Reward: -143.4999999999998\n",
            "Current Episode Length: 500\n",
            "\n"
          ]
        },
        {
          "output_type": "stream",
          "name": "stderr",
          "text": [
            " 41%|████      | 123/300 [20:44<26:33,  9.00s/it]"
          ]
        },
        {
          "output_type": "stream",
          "name": "stdout",
          "text": [
            "\n",
            "====================Training Progress Episode 122====================\n",
            "Mean Episode Reward:  -60.81557377049182\n",
            "Mean Episode Length:  293.655737704918\n",
            "Current Episode Reward: -123.39999999999989\n",
            "Current Episode Length: 500\n",
            "\n",
            "\n",
            "====================Training Progress Episode 123====================\n",
            "Mean Episode Reward:  -60.15040650406505\n",
            "Mean Episode Length:  291.2926829268293\n",
            "Current Episode Reward: 21.0\n",
            "Current Episode Length: 3\n",
            "\n"
          ]
        },
        {
          "output_type": "stream",
          "name": "stderr",
          "text": [
            "\r 41%|████▏     | 124/300 [21:01<33:07, 11.29s/it]"
          ]
        },
        {
          "output_type": "stream",
          "name": "stdout",
          "text": [
            "\n",
            "====================Training Progress Episode 124====================\n",
            "Mean Episode Reward:  -60.77822580645163\n",
            "Mean Episode Length:  292.9758064516129\n",
            "Current Episode Reward: -137.99999999999957\n",
            "Current Episode Length: 500\n",
            "\n"
          ]
        },
        {
          "output_type": "stream",
          "name": "stderr",
          "text": [
            "\r 42%|████▏     | 125/300 [21:19<38:03, 13.05s/it]"
          ]
        },
        {
          "output_type": "stream",
          "name": "stdout",
          "text": [
            "\n",
            "====================Training Progress Episode 125====================\n",
            "Mean Episode Reward:  -61.19600000000002\n",
            "Mean Episode Length:  294.632\n",
            "Current Episode Reward: -113.00000000000054\n",
            "Current Episode Length: 500\n",
            "\n"
          ]
        },
        {
          "output_type": "stream",
          "name": "stderr",
          "text": [
            " 42%|████▏     | 127/300 [21:36<29:24, 10.20s/it]"
          ]
        },
        {
          "output_type": "stream",
          "name": "stdout",
          "text": [
            "\n",
            "====================Training Progress Episode 126====================\n",
            "Mean Episode Reward:  -61.76111111111113\n",
            "Mean Episode Length:  296.26190476190476\n",
            "Current Episode Reward: -132.3999999999998\n",
            "Current Episode Length: 500\n",
            "\n",
            "\n",
            "====================Training Progress Episode 127====================\n",
            "Mean Episode Reward:  -61.11102362204726\n",
            "Mean Episode Length:  293.96062992125985\n",
            "Current Episode Reward: 20.8\n",
            "Current Episode Length: 4\n",
            "\n"
          ]
        },
        {
          "output_type": "stream",
          "name": "stderr",
          "text": [
            "\r 43%|████▎     | 128/300 [21:54<35:23, 12.34s/it]"
          ]
        },
        {
          "output_type": "stream",
          "name": "stdout",
          "text": [
            "\n",
            "====================Training Progress Episode 128====================\n",
            "Mean Episode Reward:  -61.615625000000016\n",
            "Mean Episode Length:  295.5703125\n",
            "Current Episode Reward: -125.69999999999987\n",
            "Current Episode Length: 500\n",
            "\n"
          ]
        },
        {
          "output_type": "stream",
          "name": "stderr",
          "text": [
            "\r 43%|████▎     | 129/300 [22:12<39:38, 13.91s/it]"
          ]
        },
        {
          "output_type": "stream",
          "name": "stdout",
          "text": [
            "\n",
            "====================Training Progress Episode 129====================\n",
            "Mean Episode Reward:  -62.04728682170544\n",
            "Mean Episode Length:  297.15503875968994\n",
            "Current Episode Reward: -117.30000000000044\n",
            "Current Episode Length: 500\n",
            "\n",
            "\n",
            "====================Training Progress Episode 130====================\n",
            "Mean Episode Reward:  -61.40846153846155\n",
            "Mean Episode Length:  294.87692307692305\n",
            "Current Episode Reward: 21.0\n",
            "Current Episode Length: 1\n",
            "\n"
          ]
        },
        {
          "output_type": "stream",
          "name": "stderr",
          "text": [
            "\r 44%|████▎     | 131/300 [22:29<32:33, 11.56s/it]"
          ]
        },
        {
          "output_type": "stream",
          "name": "stdout",
          "text": [
            "\n",
            "====================Training Progress Episode 131====================\n",
            "Mean Episode Reward:  -61.96946564885498\n",
            "Mean Episode Length:  296.44274809160305\n",
            "Current Episode Reward: -134.89999999999998\n",
            "Current Episode Length: 500\n",
            "\n"
          ]
        },
        {
          "output_type": "stream",
          "name": "stderr",
          "text": [
            "\r 44%|████▍     | 132/300 [22:47<36:29, 13.03s/it]"
          ]
        },
        {
          "output_type": "stream",
          "name": "stdout",
          "text": [
            "\n",
            "====================Training Progress Episode 132====================\n",
            "Mean Episode Reward:  -62.535606060606064\n",
            "Mean Episode Length:  297.9848484848485\n",
            "Current Episode Reward: -136.69999999999973\n",
            "Current Episode Length: 500\n",
            "\n"
          ]
        },
        {
          "output_type": "stream",
          "name": "stderr",
          "text": [
            "\r 44%|████▍     | 133/300 [22:47<27:05,  9.73s/it]"
          ]
        },
        {
          "output_type": "stream",
          "name": "stdout",
          "text": [
            "\n",
            "====================Training Progress Episode 133====================\n",
            "Mean Episode Reward:  -61.91278195488723\n",
            "Mean Episode Length:  295.81954887218046\n",
            "Current Episode Reward: 20.3\n",
            "Current Episode Length: 10\n",
            "\n"
          ]
        },
        {
          "output_type": "stream",
          "name": "stderr",
          "text": [
            "\r 45%|████▍     | 134/300 [23:05<32:43, 11.83s/it]"
          ]
        },
        {
          "output_type": "stream",
          "name": "stdout",
          "text": [
            "\n",
            "====================Training Progress Episode 134====================\n",
            "Mean Episode Reward:  -62.33208955223882\n",
            "Mean Episode Length:  297.34328358208955\n",
            "Current Episode Reward: -118.0999999999998\n",
            "Current Episode Length: 500\n",
            "\n",
            "\n",
            "====================Training Progress Episode 135====================\n",
            "Mean Episode Reward:  -61.71481481481483\n",
            "Mean Episode Length:  295.14814814814815\n",
            "Current Episode Reward: 21.0\n",
            "Current Episode Length: 1\n",
            "\n"
          ]
        },
        {
          "output_type": "stream",
          "name": "stderr",
          "text": [
            "\r 45%|████▌     | 136/300 [23:22<28:42, 10.50s/it]"
          ]
        },
        {
          "output_type": "stream",
          "name": "stdout",
          "text": [
            "\n",
            "====================Training Progress Episode 136====================\n",
            "Mean Episode Reward:  -62.18161764705884\n",
            "Mean Episode Length:  296.65441176470586\n",
            "Current Episode Reward: -125.19999999999983\n",
            "Current Episode Length: 500\n",
            "\n"
          ]
        },
        {
          "output_type": "stream",
          "name": "stderr",
          "text": [
            " 46%|████▌     | 138/300 [23:40<24:37,  9.12s/it]"
          ]
        },
        {
          "output_type": "stream",
          "name": "stdout",
          "text": [
            "\n",
            "====================Training Progress Episode 137====================\n",
            "Mean Episode Reward:  -62.44014598540148\n",
            "Mean Episode Length:  298.13868613138686\n",
            "Current Episode Reward: -97.60000000000039\n",
            "Current Episode Length: 500\n",
            "\n",
            "\n",
            "====================Training Progress Episode 138====================\n",
            "Mean Episode Reward:  -61.838405797101466\n",
            "Mean Episode Length:  296.0144927536232\n",
            "Current Episode Reward: 20.6\n",
            "Current Episode Length: 5\n",
            "\n"
          ]
        },
        {
          "output_type": "stream",
          "name": "stderr",
          "text": [
            "\r 46%|████▋     | 139/300 [23:40<18:17,  6.81s/it]"
          ]
        },
        {
          "output_type": "stream",
          "name": "stdout",
          "text": [
            "\n",
            "====================Training Progress Episode 139====================\n",
            "Mean Episode Reward:  -61.260431654676275\n",
            "Mean Episode Length:  293.978417266187\n",
            "Current Episode Reward: 18.5\n",
            "Current Episode Length: 13\n",
            "\n"
          ]
        },
        {
          "output_type": "stream",
          "name": "stderr",
          "text": [
            " 47%|████▋     | 141/300 [23:58<18:35,  7.02s/it]"
          ]
        },
        {
          "output_type": "stream",
          "name": "stdout",
          "text": [
            "\n",
            "====================Training Progress Episode 140====================\n",
            "Mean Episode Reward:  -61.80714285714287\n",
            "Mean Episode Length:  295.45\n",
            "Current Episode Reward: -137.79999999999956\n",
            "Current Episode Length: 500\n",
            "\n",
            "\n",
            "====================Training Progress Episode 141====================\n",
            "Mean Episode Reward:  -61.21985815602838\n",
            "Mean Episode Length:  293.3758865248227\n",
            "Current Episode Reward: 21.0\n",
            "Current Episode Length: 3\n",
            "\n"
          ]
        },
        {
          "output_type": "stream",
          "name": "stderr",
          "text": [
            " 48%|████▊     | 143/300 [24:15<18:42,  7.15s/it]"
          ]
        },
        {
          "output_type": "stream",
          "name": "stdout",
          "text": [
            "\n",
            "====================Training Progress Episode 142====================\n",
            "Mean Episode Reward:  -61.727464788732405\n",
            "Mean Episode Length:  294.83098591549293\n",
            "Current Episode Reward: -133.29999999999973\n",
            "Current Episode Length: 500\n",
            "\n",
            "\n",
            "====================Training Progress Episode 143====================\n",
            "Mean Episode Reward:  -61.15244755244756\n",
            "Mean Episode Length:  292.7972027972028\n",
            "Current Episode Reward: 20.5\n",
            "Current Episode Length: 4\n",
            "\n"
          ]
        },
        {
          "output_type": "stream",
          "name": "stderr",
          "text": [
            "\r 48%|████▊     | 144/300 [24:17<14:18,  5.50s/it]"
          ]
        },
        {
          "output_type": "stream",
          "name": "stdout",
          "text": [
            "\n",
            "====================Training Progress Episode 144====================\n",
            "Mean Episode Reward:  -60.66666666666668\n",
            "Mean Episode Length:  291.06944444444446\n",
            "Current Episode Reward: 8.799999999999994\n",
            "Current Episode Length: 44\n",
            "\n"
          ]
        },
        {
          "output_type": "stream",
          "name": "stderr",
          "text": [
            "\r 48%|████▊     | 145/300 [24:34<23:18,  9.02s/it]"
          ]
        },
        {
          "output_type": "stream",
          "name": "stdout",
          "text": [
            "\n",
            "====================Training Progress Episode 145====================\n",
            "Mean Episode Reward:  -61.24000000000001\n",
            "Mean Episode Length:  292.5103448275862\n",
            "Current Episode Reward: -143.79999999999959\n",
            "Current Episode Length: 500\n",
            "\n"
          ]
        },
        {
          "output_type": "stream",
          "name": "stderr",
          "text": [
            " 49%|████▉     | 147/300 [24:52<20:49,  8.17s/it]"
          ]
        },
        {
          "output_type": "stream",
          "name": "stdout",
          "text": [
            "\n",
            "====================Training Progress Episode 146====================\n",
            "Mean Episode Reward:  -61.78561643835617\n",
            "Mean Episode Length:  293.93150684931504\n",
            "Current Episode Reward: -140.8999999999996\n",
            "Current Episode Length: 500\n",
            "\n",
            "\n",
            "====================Training Progress Episode 147====================\n",
            "Mean Episode Reward:  -61.22244897959184\n",
            "Mean Episode Length:  291.95238095238096\n",
            "Current Episode Reward: 21.0\n",
            "Current Episode Length: 3\n",
            "\n"
          ]
        },
        {
          "output_type": "stream",
          "name": "stderr",
          "text": [
            "\r 49%|████▉     | 148/300 [25:00<20:36,  8.14s/it]"
          ]
        },
        {
          "output_type": "stream",
          "name": "stdout",
          "text": [
            "\n",
            "====================Training Progress Episode 148====================\n",
            "Mean Episode Reward:  -61.1277027027027\n",
            "Mean Episode Length:  291.5472972972973\n",
            "Current Episode Reward: -47.19999999999973\n",
            "Current Episode Length: 232\n",
            "\n",
            "\n",
            "====================Training Progress Episode 149====================\n",
            "Mean Episode Reward:  -60.57651006711409\n",
            "Mean Episode Length:  289.5973154362416\n",
            "Current Episode Reward: 21.0\n",
            "Current Episode Length: 1\n",
            "\n"
          ]
        },
        {
          "output_type": "stream",
          "name": "stderr",
          "text": [
            "\r 50%|█████     | 150/300 [25:00<11:09,  4.46s/it]"
          ]
        },
        {
          "output_type": "stream",
          "name": "stdout",
          "text": [
            "\n",
            "====================Training Progress Episode 150====================\n",
            "Mean Episode Reward:  -60.046\n",
            "Mean Episode Length:  287.72\n",
            "Current Episode Reward: 19.0\n",
            "Current Episode Length: 8\n",
            "\n"
          ]
        },
        {
          "output_type": "stream",
          "name": "stderr",
          "text": [
            "\r 50%|█████     | 151/300 [25:09<13:28,  5.42s/it]"
          ]
        },
        {
          "output_type": "stream",
          "name": "stdout",
          "text": [
            "\n",
            "====================Training Progress Episode 151====================\n",
            "Mean Episode Reward:  -59.92582781456953\n",
            "Mean Episode Length:  287.3907284768212\n",
            "Current Episode Reward: -41.89999999999995\n",
            "Current Episode Length: 238\n",
            "\n"
          ]
        },
        {
          "output_type": "stream",
          "name": "stderr",
          "text": [
            "\r 51%|█████     | 152/300 [25:20<17:10,  6.96s/it]"
          ]
        },
        {
          "output_type": "stream",
          "name": "stdout",
          "text": [
            "\n",
            "====================Training Progress Episode 152====================\n",
            "Mean Episode Reward:  -59.97828947368421\n",
            "Mean Episode Length:  287.625\n",
            "Current Episode Reward: -67.89999999999992\n",
            "Current Episode Length: 323\n",
            "\n"
          ]
        },
        {
          "output_type": "stream",
          "name": "stderr",
          "text": [
            "\r 51%|█████     | 153/300 [25:38<24:01,  9.81s/it]"
          ]
        },
        {
          "output_type": "stream",
          "name": "stdout",
          "text": [
            "\n",
            "====================Training Progress Episode 153====================\n",
            "Mean Episode Reward:  -60.46405228758169\n",
            "Mean Episode Length:  289.01307189542484\n",
            "Current Episode Reward: -134.29999999999967\n",
            "Current Episode Length: 500\n",
            "\n"
          ]
        },
        {
          "output_type": "stream",
          "name": "stderr",
          "text": [
            "\r 51%|█████▏    | 154/300 [25:55<29:10, 11.99s/it]"
          ]
        },
        {
          "output_type": "stream",
          "name": "stdout",
          "text": [
            "\n",
            "====================Training Progress Episode 154====================\n",
            "Mean Episode Reward:  -60.862987012987\n",
            "Mean Episode Length:  290.3831168831169\n",
            "Current Episode Reward: -121.90000000000018\n",
            "Current Episode Length: 500\n",
            "\n"
          ]
        },
        {
          "output_type": "stream",
          "name": "stderr",
          "text": [
            "\r 52%|█████▏    | 155/300 [25:57<21:53,  9.06s/it]"
          ]
        },
        {
          "output_type": "stream",
          "name": "stdout",
          "text": [
            "\n",
            "====================Training Progress Episode 155====================\n",
            "Mean Episode Reward:  -60.40129032258063\n",
            "Mean Episode Length:  288.8258064516129\n",
            "Current Episode Reward: 10.700000000000003\n",
            "Current Episode Length: 49\n",
            "\n"
          ]
        },
        {
          "output_type": "stream",
          "name": "stderr",
          "text": [
            "\r 52%|█████▏    | 156/300 [25:58<16:24,  6.84s/it]"
          ]
        },
        {
          "output_type": "stream",
          "name": "stdout",
          "text": [
            "\n",
            "====================Training Progress Episode 156====================\n",
            "Mean Episode Reward:  -59.94743589743588\n",
            "Mean Episode Length:  287.2307692307692\n",
            "Current Episode Reward: 10.4\n",
            "Current Episode Length: 40\n",
            "\n"
          ]
        },
        {
          "output_type": "stream",
          "name": "stderr",
          "text": [
            "\r 52%|█████▏    | 157/300 [26:16<23:43,  9.95s/it]"
          ]
        },
        {
          "output_type": "stream",
          "name": "stdout",
          "text": [
            "\n",
            "====================Training Progress Episode 157====================\n",
            "Mean Episode Reward:  -60.44904458598724\n",
            "Mean Episode Length:  288.5859872611465\n",
            "Current Episode Reward: -138.69999999999982\n",
            "Current Episode Length: 500\n",
            "\n"
          ]
        },
        {
          "output_type": "stream",
          "name": "stderr",
          "text": [
            "\r 53%|█████▎    | 158/300 [26:33<28:51, 12.19s/it]"
          ]
        },
        {
          "output_type": "stream",
          "name": "stdout",
          "text": [
            "\n",
            "====================Training Progress Episode 158====================\n",
            "Mean Episode Reward:  -60.92215189873416\n",
            "Mean Episode Length:  289.9240506329114\n",
            "Current Episode Reward: -135.1999999999999\n",
            "Current Episode Length: 500\n",
            "\n"
          ]
        },
        {
          "output_type": "stream",
          "name": "stderr",
          "text": [
            " 53%|█████▎    | 160/300 [26:51<22:44,  9.75s/it]"
          ]
        },
        {
          "output_type": "stream",
          "name": "stdout",
          "text": [
            "\n",
            "====================Training Progress Episode 159====================\n",
            "Mean Episode Reward:  -61.447798742138346\n",
            "Mean Episode Length:  291.24528301886795\n",
            "Current Episode Reward: -144.49999999999983\n",
            "Current Episode Length: 500\n",
            "\n",
            "\n",
            "====================Training Progress Episode 160====================\n",
            "Mean Episode Reward:  -60.93249999999998\n",
            "Mean Episode Length:  289.45625\n",
            "Current Episode Reward: 21.0\n",
            "Current Episode Length: 5\n",
            "\n"
          ]
        },
        {
          "output_type": "stream",
          "name": "stderr",
          "text": [
            "\r 54%|█████▎    | 161/300 [27:09<28:02, 12.10s/it]"
          ]
        },
        {
          "output_type": "stream",
          "name": "stdout",
          "text": [
            "\n",
            "====================Training Progress Episode 161====================\n",
            "Mean Episode Reward:  -61.39316770186334\n",
            "Mean Episode Length:  290.7639751552795\n",
            "Current Episode Reward: -135.09999999999957\n",
            "Current Episode Length: 500\n",
            "\n"
          ]
        },
        {
          "output_type": "stream",
          "name": "stderr",
          "text": [
            " 54%|█████▍    | 163/300 [27:26<22:03,  9.66s/it]"
          ]
        },
        {
          "output_type": "stream",
          "name": "stdout",
          "text": [
            "\n",
            "====================Training Progress Episode 162====================\n",
            "Mean Episode Reward:  -61.87469135802468\n",
            "Mean Episode Length:  292.05555555555554\n",
            "Current Episode Reward: -139.39999999999972\n",
            "Current Episode Length: 500\n",
            "\n",
            "\n",
            "====================Training Progress Episode 163====================\n",
            "Mean Episode Reward:  -61.36625766871164\n",
            "Mean Episode Length:  290.2822085889571\n",
            "Current Episode Reward: 21.0\n",
            "Current Episode Length: 3\n",
            "\n"
          ]
        },
        {
          "output_type": "stream",
          "name": "stderr",
          "text": [
            "\r 55%|█████▍    | 164/300 [27:27<15:25,  6.81s/it]"
          ]
        },
        {
          "output_type": "stream",
          "name": "stdout",
          "text": [
            "\n",
            "====================Training Progress Episode 164====================\n",
            "Mean Episode Reward:  -60.864024390243884\n",
            "Mean Episode Length:  288.530487804878\n",
            "Current Episode Reward: 21.0\n",
            "Current Episode Length: 3\n",
            "\n"
          ]
        },
        {
          "output_type": "stream",
          "name": "stderr",
          "text": [
            " 55%|█████▌    | 166/300 [27:39<13:16,  5.94s/it]"
          ]
        },
        {
          "output_type": "stream",
          "name": "stdout",
          "text": [
            "\n",
            "====================Training Progress Episode 165====================\n",
            "Mean Episode Reward:  -60.99999999999998\n",
            "Mean Episode Length:  288.9030303030303\n",
            "Current Episode Reward: -83.29999999999987\n",
            "Current Episode Length: 350\n",
            "\n",
            "\n",
            "====================Training Progress Episode 166====================\n",
            "Mean Episode Reward:  -60.506024096385524\n",
            "Mean Episode Length:  287.1807228915663\n",
            "Current Episode Reward: 21.0\n",
            "Current Episode Length: 3\n",
            "\n"
          ]
        },
        {
          "output_type": "stream",
          "name": "stderr",
          "text": [
            "\r 56%|█████▌    | 167/300 [27:56<20:51,  9.41s/it]"
          ]
        },
        {
          "output_type": "stream",
          "name": "stdout",
          "text": [
            "\n",
            "====================Training Progress Episode 167====================\n",
            "Mean Episode Reward:  -60.97425149700596\n",
            "Mean Episode Length:  288.45508982035926\n",
            "Current Episode Reward: -138.69999999999956\n",
            "Current Episode Length: 500\n",
            "\n",
            "\n",
            "====================Training Progress Episode 168====================\n",
            "Mean Episode Reward:  -60.486309523809496\n",
            "Mean Episode Length:  286.75\n",
            "Current Episode Reward: 21.0\n",
            "Current Episode Length: 2\n",
            "\n"
          ]
        },
        {
          "output_type": "stream",
          "name": "stderr",
          "text": [
            "\r 56%|█████▋    | 169/300 [28:14<19:58,  9.15s/it]"
          ]
        },
        {
          "output_type": "stream",
          "name": "stdout",
          "text": [
            "\n",
            "====================Training Progress Episode 169====================\n",
            "Mean Episode Reward:  -60.93846153846151\n",
            "Mean Episode Length:  288.0118343195266\n",
            "Current Episode Reward: -136.89999999999975\n",
            "Current Episode Length: 500\n",
            "\n"
          ]
        },
        {
          "output_type": "stream",
          "name": "stderr",
          "text": [
            "\r 57%|█████▋    | 170/300 [28:32<24:18, 11.22s/it]"
          ]
        },
        {
          "output_type": "stream",
          "name": "stdout",
          "text": [
            "\n",
            "====================Training Progress Episode 170====================\n",
            "Mean Episode Reward:  -61.31705882352938\n",
            "Mean Episode Length:  289.25882352941176\n",
            "Current Episode Reward: -125.29999999999956\n",
            "Current Episode Length: 500\n",
            "\n"
          ]
        },
        {
          "output_type": "stream",
          "name": "stderr",
          "text": [
            "\r 57%|█████▋    | 171/300 [28:46<25:58, 12.08s/it]"
          ]
        },
        {
          "output_type": "stream",
          "name": "stdout",
          "text": [
            "\n",
            "====================Training Progress Episode 171====================\n",
            "Mean Episode Reward:  -61.540935672514586\n",
            "Mean Episode Length:  289.99415204678365\n",
            "Current Episode Reward: -99.59999999999982\n",
            "Current Episode Length: 415\n",
            "\n"
          ]
        },
        {
          "output_type": "stream",
          "name": "stderr",
          "text": [
            "\r 57%|█████▋    | 172/300 [28:54<23:30, 11.02s/it]"
          ]
        },
        {
          "output_type": "stream",
          "name": "stdout",
          "text": [
            "\n",
            "====================Training Progress Episode 172====================\n",
            "Mean Episode Reward:  -61.42441860465113\n",
            "Mean Episode Length:  289.6511627906977\n",
            "Current Episode Reward: -41.499999999999865\n",
            "Current Episode Length: 231\n",
            "\n"
          ]
        },
        {
          "output_type": "stream",
          "name": "stderr",
          "text": [
            "\r 58%|█████▊    | 173/300 [28:55<17:03,  8.06s/it]"
          ]
        },
        {
          "output_type": "stream",
          "name": "stdout",
          "text": [
            "\n",
            "====================Training Progress Episode 173====================\n",
            "Mean Episode Reward:  -60.966473988439276\n",
            "Mean Episode Length:  288.05202312138726\n",
            "Current Episode Reward: 17.8\n",
            "Current Episode Length: 13\n",
            "\n",
            "\n",
            "====================Training Progress Episode 174====================\n",
            "Mean Episode Reward:  -60.49540229885055\n",
            "Mean Episode Length:  286.4022988505747\n",
            "Current Episode Reward: 21.0\n",
            "Current Episode Length: 1\n",
            "\n"
          ]
        },
        {
          "output_type": "stream",
          "name": "stderr",
          "text": [
            "\r 58%|█████▊    | 175/300 [29:12<17:26,  8.37s/it]"
          ]
        },
        {
          "output_type": "stream",
          "name": "stdout",
          "text": [
            "\n",
            "====================Training Progress Episode 175====================\n",
            "Mean Episode Reward:  -60.82628571428568\n",
            "Mean Episode Length:  287.62285714285713\n",
            "Current Episode Reward: -118.40000000000035\n",
            "Current Episode Length: 500\n",
            "\n"
          ]
        },
        {
          "output_type": "stream",
          "name": "stderr",
          "text": [
            " 59%|█████▉    | 177/300 [29:30<16:14,  7.92s/it]"
          ]
        },
        {
          "output_type": "stream",
          "name": "stdout",
          "text": [
            "\n",
            "====================Training Progress Episode 176====================\n",
            "Mean Episode Reward:  -61.278977272727246\n",
            "Mean Episode Length:  288.82954545454544\n",
            "Current Episode Reward: -140.4999999999999\n",
            "Current Episode Length: 500\n",
            "\n",
            "\n",
            "====================Training Progress Episode 177====================\n",
            "Mean Episode Reward:  -60.81638418079093\n",
            "Mean Episode Length:  287.225988700565\n",
            "Current Episode Reward: 20.6\n",
            "Current Episode Length: 5\n",
            "\n"
          ]
        },
        {
          "output_type": "stream",
          "name": "stderr",
          "text": [
            "\r 59%|█████▉    | 178/300 [29:48<21:26, 10.55s/it]"
          ]
        },
        {
          "output_type": "stream",
          "name": "stdout",
          "text": [
            "\n",
            "====================Training Progress Episode 178====================\n",
            "Mean Episode Reward:  -61.21966292134829\n",
            "Mean Episode Length:  288.42134831460675\n",
            "Current Episode Reward: -132.5999999999995\n",
            "Current Episode Length: 500\n",
            "\n"
          ]
        },
        {
          "output_type": "stream",
          "name": "stderr",
          "text": [
            "\r 60%|█████▉    | 179/300 [30:05<25:09, 12.48s/it]"
          ]
        },
        {
          "output_type": "stream",
          "name": "stdout",
          "text": [
            "\n",
            "====================Training Progress Episode 179====================\n",
            "Mean Episode Reward:  -61.68044692737427\n",
            "Mean Episode Length:  289.6033519553073\n",
            "Current Episode Reward: -143.69999999999973\n",
            "Current Episode Length: 500\n",
            "\n"
          ]
        },
        {
          "output_type": "stream",
          "name": "stderr",
          "text": [
            "\r 60%|██████    | 180/300 [30:06<18:06,  9.06s/it]"
          ]
        },
        {
          "output_type": "stream",
          "name": "stdout",
          "text": [
            "\n",
            "====================Training Progress Episode 180====================\n",
            "Mean Episode Reward:  -61.23388888888885\n",
            "Mean Episode Length:  288.05555555555554\n",
            "Current Episode Reward: 18.7\n",
            "Current Episode Length: 11\n",
            "\n"
          ]
        },
        {
          "output_type": "stream",
          "name": "stderr",
          "text": [
            " 61%|██████    | 182/300 [30:23<16:07,  8.20s/it]"
          ]
        },
        {
          "output_type": "stream",
          "name": "stdout",
          "text": [
            "\n",
            "====================Training Progress Episode 181====================\n",
            "Mean Episode Reward:  -61.646961325966814\n",
            "Mean Episode Length:  289.22651933701655\n",
            "Current Episode Reward: -135.99999999999972\n",
            "Current Episode Length: 500\n",
            "\n",
            "\n",
            "====================Training Progress Episode 182====================\n",
            "Mean Episode Reward:  -61.197252747252705\n",
            "Mean Episode Length:  287.65934065934067\n",
            "Current Episode Reward: 20.2\n",
            "Current Episode Length: 4\n",
            "\n"
          ]
        },
        {
          "output_type": "stream",
          "name": "stderr",
          "text": [
            "\r 61%|██████    | 183/300 [30:24<11:20,  5.82s/it]"
          ]
        },
        {
          "output_type": "stream",
          "name": "stdout",
          "text": [
            "\n",
            "====================Training Progress Episode 183====================\n",
            "Mean Episode Reward:  -60.748087431693946\n",
            "Mean Episode Length:  286.10382513661204\n",
            "Current Episode Reward: 21.0\n",
            "Current Episode Length: 3\n",
            "\n"
          ]
        },
        {
          "output_type": "stream",
          "name": "stderr",
          "text": [
            "\r 61%|██████▏   | 184/300 [30:41<17:54,  9.27s/it]"
          ]
        },
        {
          "output_type": "stream",
          "name": "stdout",
          "text": [
            "\n",
            "====================Training Progress Episode 184====================\n",
            "Mean Episode Reward:  -61.188586956521696\n",
            "Mean Episode Length:  287.26630434782606\n",
            "Current Episode Reward: -141.79999999999959\n",
            "Current Episode Length: 500\n",
            "\n"
          ]
        },
        {
          "output_type": "stream",
          "name": "stderr",
          "text": [
            "\r 62%|██████▏   | 185/300 [30:59<22:35, 11.79s/it]"
          ]
        },
        {
          "output_type": "stream",
          "name": "stdout",
          "text": [
            "\n",
            "====================Training Progress Episode 185====================\n",
            "Mean Episode Reward:  -61.43351351351347\n",
            "Mean Episode Length:  288.41621621621624\n",
            "Current Episode Reward: -106.50000000000041\n",
            "Current Episode Length: 500\n",
            "\n"
          ]
        },
        {
          "output_type": "stream",
          "name": "stderr",
          "text": [
            " 62%|██████▏   | 187/300 [31:16<17:54,  9.51s/it]"
          ]
        },
        {
          "output_type": "stream",
          "name": "stdout",
          "text": [
            "\n",
            "====================Training Progress Episode 186====================\n",
            "Mean Episode Reward:  -61.869892473118234\n",
            "Mean Episode Length:  289.5537634408602\n",
            "Current Episode Reward: -142.5999999999998\n",
            "Current Episode Length: 500\n",
            "\n",
            "\n",
            "====================Training Progress Episode 187====================\n",
            "Mean Episode Reward:  -61.42887700534755\n",
            "Mean Episode Length:  288.03208556149735\n",
            "Current Episode Reward: 20.6\n",
            "Current Episode Length: 5\n",
            "\n"
          ]
        },
        {
          "output_type": "stream",
          "name": "stderr",
          "text": [
            "\r 63%|██████▎   | 188/300 [31:34<22:13, 11.91s/it]"
          ]
        },
        {
          "output_type": "stream",
          "name": "stdout",
          "text": [
            "\n",
            "====================Training Progress Episode 188====================\n",
            "Mean Episode Reward:  -61.878723404255275\n",
            "Mean Episode Length:  289.1595744680851\n",
            "Current Episode Reward: -145.99999999999977\n",
            "Current Episode Length: 500\n",
            "\n"
          ]
        },
        {
          "output_type": "stream",
          "name": "stderr",
          "text": [
            "\r 63%|██████▎   | 189/300 [31:51<25:07, 13.58s/it]"
          ]
        },
        {
          "output_type": "stream",
          "name": "stdout",
          "text": [
            "\n",
            "====================Training Progress Episode 189====================\n",
            "Mean Episode Reward:  -62.196296296296254\n",
            "Mean Episode Length:  290.27513227513225\n",
            "Current Episode Reward: -121.89999999999935\n",
            "Current Episode Length: 500\n",
            "\n"
          ]
        },
        {
          "output_type": "stream",
          "name": "stderr",
          "text": [
            "\r 63%|██████▎   | 190/300 [31:57<20:27, 11.16s/it]"
          ]
        },
        {
          "output_type": "stream",
          "name": "stdout",
          "text": [
            "\n",
            "====================Training Progress Episode 190====================\n",
            "Mean Episode Reward:  -61.979999999999954\n",
            "Mean Episode Length:  289.57894736842104\n",
            "Current Episode Reward: -21.099999999999966\n",
            "Current Episode Length: 158\n",
            "\n"
          ]
        },
        {
          "output_type": "stream",
          "name": "stderr",
          "text": [
            "\r 64%|██████▎   | 191/300 [31:58<14:57,  8.24s/it]"
          ]
        },
        {
          "output_type": "stream",
          "name": "stdout",
          "text": [
            "\n",
            "====================Training Progress Episode 191====================\n",
            "Mean Episode Reward:  -61.58691099476435\n",
            "Mean Episode Length:  288.27225130890054\n",
            "Current Episode Reward: 13.099999999999994\n",
            "Current Episode Length: 40\n",
            "\n"
          ]
        },
        {
          "output_type": "stream",
          "name": "stderr",
          "text": [
            "\r 64%|██████▍   | 192/300 [31:59<10:37,  5.90s/it]"
          ]
        },
        {
          "output_type": "stream",
          "name": "stdout",
          "text": [
            "\n",
            "====================Training Progress Episode 192====================\n",
            "Mean Episode Reward:  -61.17395833333328\n",
            "Mean Episode Length:  286.8385416666667\n",
            "Current Episode Reward: 17.7\n",
            "Current Episode Length: 13\n",
            "\n"
          ]
        },
        {
          "output_type": "stream",
          "name": "stderr",
          "text": [
            "\r 64%|██████▍   | 193/300 [32:09<12:52,  7.22s/it]"
          ]
        },
        {
          "output_type": "stream",
          "name": "stdout",
          "text": [
            "\n",
            "====================Training Progress Episode 193====================\n",
            "Mean Episode Reward:  -61.20932642487042\n",
            "Mean Episode Length:  286.8704663212435\n",
            "Current Episode Reward: -67.99999999999972\n",
            "Current Episode Length: 293\n",
            "\n"
          ]
        },
        {
          "output_type": "stream",
          "name": "stderr",
          "text": [
            "\r 65%|██████▍   | 194/300 [32:27<18:16, 10.35s/it]"
          ]
        },
        {
          "output_type": "stream",
          "name": "stdout",
          "text": [
            "\n",
            "====================Training Progress Episode 194====================\n",
            "Mean Episode Reward:  -61.501546391752534\n",
            "Mean Episode Length:  287.96907216494844\n",
            "Current Episode Reward: -117.90000000000066\n",
            "Current Episode Length: 500\n",
            "\n"
          ]
        },
        {
          "output_type": "stream",
          "name": "stderr",
          "text": [
            "\r 65%|██████▌   | 195/300 [32:44<21:50, 12.48s/it]"
          ]
        },
        {
          "output_type": "stream",
          "name": "stdout",
          "text": [
            "\n",
            "====================Training Progress Episode 195====================\n",
            "Mean Episode Reward:  -61.88461538461534\n",
            "Mean Episode Length:  289.05641025641023\n",
            "Current Episode Reward: -136.1999999999997\n",
            "Current Episode Length: 500\n",
            "\n"
          ]
        },
        {
          "output_type": "stream",
          "name": "stderr",
          "text": [
            "\r 65%|██████▌   | 196/300 [32:58<22:28, 12.97s/it]"
          ]
        },
        {
          "output_type": "stream",
          "name": "stdout",
          "text": [
            "\n",
            "====================Training Progress Episode 196====================\n",
            "Mean Episode Reward:  -62.0413265306122\n",
            "Mean Episode Length:  289.6479591836735\n",
            "Current Episode Reward: -92.59999999999972\n",
            "Current Episode Length: 405\n",
            "\n"
          ]
        },
        {
          "output_type": "stream",
          "name": "stderr",
          "text": [
            "\r 66%|██████▌   | 197/300 [33:16<24:35, 14.33s/it]"
          ]
        },
        {
          "output_type": "stream",
          "name": "stdout",
          "text": [
            "\n",
            "====================Training Progress Episode 197====================\n",
            "Mean Episode Reward:  -62.42182741116747\n",
            "Mean Episode Length:  290.71573604060916\n",
            "Current Episode Reward: -136.9999999999997\n",
            "Current Episode Length: 500\n",
            "\n"
          ]
        },
        {
          "output_type": "stream",
          "name": "stderr",
          "text": [
            "\r 66%|██████▌   | 198/300 [33:33<25:58, 15.28s/it]"
          ]
        },
        {
          "output_type": "stream",
          "name": "stdout",
          "text": [
            "\n",
            "====================Training Progress Episode 198====================\n",
            "Mean Episode Reward:  -62.80555555555551\n",
            "Mean Episode Length:  291.77272727272725\n",
            "Current Episode Reward: -138.39999999999972\n",
            "Current Episode Length: 500\n",
            "\n"
          ]
        },
        {
          "output_type": "stream",
          "name": "stderr",
          "text": [
            "\r 66%|██████▋   | 199/300 [33:51<26:49, 15.94s/it]"
          ]
        },
        {
          "output_type": "stream",
          "name": "stdout",
          "text": [
            "\n",
            "====================Training Progress Episode 199====================\n",
            "Mean Episode Reward:  -63.14773869346729\n",
            "Mean Episode Length:  292.81909547738695\n",
            "Current Episode Reward: -130.89999999999972\n",
            "Current Episode Length: 500\n",
            "\n"
          ]
        },
        {
          "output_type": "stream",
          "name": "stderr",
          "text": [
            "\r 67%|██████▋   | 200/300 [34:08<27:20, 16.41s/it]"
          ]
        },
        {
          "output_type": "stream",
          "name": "stdout",
          "text": [
            "\n",
            "====================Training Progress Episode 200====================\n",
            "Mean Episode Reward:  -63.43599999999995\n",
            "Mean Episode Length:  293.855\n",
            "Current Episode Reward: -120.80000000000017\n",
            "Current Episode Length: 500\n",
            "\n"
          ]
        },
        {
          "output_type": "stream",
          "name": "stderr",
          "text": [
            "\r 67%|██████▋   | 201/300 [34:26<27:35, 16.72s/it]"
          ]
        },
        {
          "output_type": "stream",
          "name": "stdout",
          "text": [
            "\n",
            "====================Training Progress Episode 201====================\n",
            "Mean Episode Reward:  -63.809452736318356\n",
            "Mean Episode Length:  294.8805970149254\n",
            "Current Episode Reward: -138.49999999999983\n",
            "Current Episode Length: 500\n",
            "\n"
          ]
        },
        {
          "output_type": "stream",
          "name": "stderr",
          "text": [
            "\r 67%|██████▋   | 202/300 [34:26<19:22, 11.86s/it]"
          ]
        },
        {
          "output_type": "stream",
          "name": "stdout",
          "text": [
            "\n",
            "====================Training Progress Episode 202====================\n",
            "Mean Episode Reward:  -63.406930693069256\n",
            "Mean Episode Length:  293.4950495049505\n",
            "Current Episode Reward: 17.5\n",
            "Current Episode Length: 15\n",
            "\n"
          ]
        },
        {
          "output_type": "stream",
          "name": "stderr",
          "text": [
            "\r 68%|██████▊   | 203/300 [34:44<21:54, 13.55s/it]"
          ]
        },
        {
          "output_type": "stream",
          "name": "stdout",
          "text": [
            "\n",
            "====================Training Progress Episode 203====================\n",
            "Mean Episode Reward:  -63.64532019704429\n",
            "Mean Episode Length:  294.51231527093597\n",
            "Current Episode Reward: -111.80000000000045\n",
            "Current Episode Length: 500\n",
            "\n"
          ]
        },
        {
          "output_type": "stream",
          "name": "stderr",
          "text": [
            "\r 68%|██████▊   | 204/300 [34:45<16:00, 10.00s/it]"
          ]
        },
        {
          "output_type": "stream",
          "name": "stdout",
          "text": [
            "\n",
            "====================Training Progress Episode 204====================\n",
            "Mean Episode Reward:  -63.2882352941176\n",
            "Mean Episode Length:  293.29901960784315\n",
            "Current Episode Reward: 9.2\n",
            "Current Episode Length: 47\n",
            "\n"
          ]
        },
        {
          "output_type": "stream",
          "name": "stderr",
          "text": [
            "\r 68%|██████▊   | 205/300 [35:03<19:25, 12.26s/it]"
          ]
        },
        {
          "output_type": "stream",
          "name": "stdout",
          "text": [
            "\n",
            "====================Training Progress Episode 205====================\n",
            "Mean Episode Reward:  -63.61902439024386\n",
            "Mean Episode Length:  294.30731707317074\n",
            "Current Episode Reward: -131.09999999999957\n",
            "Current Episode Length: 500\n",
            "\n"
          ]
        },
        {
          "output_type": "stream",
          "name": "stderr",
          "text": [
            "\r 69%|██████▊   | 206/300 [35:20<21:38, 13.82s/it]"
          ]
        },
        {
          "output_type": "stream",
          "name": "stdout",
          "text": [
            "\n",
            "====================Training Progress Episode 206====================\n",
            "Mean Episode Reward:  -63.55873786407763\n",
            "Mean Episode Length:  295.30582524271847\n",
            "Current Episode Reward: -51.200000000000145\n",
            "Current Episode Length: 500\n",
            "\n"
          ]
        },
        {
          "output_type": "stream",
          "name": "stderr",
          "text": [
            "\r 69%|██████▉   | 207/300 [35:38<23:11, 14.96s/it]"
          ]
        },
        {
          "output_type": "stream",
          "name": "stdout",
          "text": [
            "\n",
            "====================Training Progress Episode 207====================\n",
            "Mean Episode Reward:  -63.9236714975845\n",
            "Mean Episode Length:  296.29468599033817\n",
            "Current Episode Reward: -139.09999999999965\n",
            "Current Episode Length: 500\n",
            "\n"
          ]
        },
        {
          "output_type": "stream",
          "name": "stderr",
          "text": [
            " 70%|██████▉   | 209/300 [35:56<16:43, 11.02s/it]"
          ]
        },
        {
          "output_type": "stream",
          "name": "stdout",
          "text": [
            "\n",
            "====================Training Progress Episode 208====================\n",
            "Mean Episode Reward:  -64.28028846153842\n",
            "Mean Episode Length:  297.27403846153845\n",
            "Current Episode Reward: -138.0999999999999\n",
            "Current Episode Length: 500\n",
            "\n",
            "\n",
            "====================Training Progress Episode 209====================\n",
            "Mean Episode Reward:  -63.872248803827716\n",
            "Mean Episode Length:  295.86602870813397\n",
            "Current Episode Reward: 21.0\n",
            "Current Episode Length: 3\n",
            "\n"
          ]
        },
        {
          "output_type": "stream",
          "name": "stderr",
          "text": [
            "\r 70%|███████   | 210/300 [36:10<18:06, 12.07s/it]"
          ]
        },
        {
          "output_type": "stream",
          "name": "stdout",
          "text": [
            "\n",
            "====================Training Progress Episode 210====================\n",
            "Mean Episode Reward:  -64.07476190476187\n",
            "Mean Episode Length:  296.43809523809523\n",
            "Current Episode Reward: -106.3999999999995\n",
            "Current Episode Length: 416\n",
            "\n"
          ]
        },
        {
          "output_type": "stream",
          "name": "stderr",
          "text": [
            "\r 70%|███████   | 211/300 [36:28<20:22, 13.74s/it]"
          ]
        },
        {
          "output_type": "stream",
          "name": "stdout",
          "text": [
            "\n",
            "====================Training Progress Episode 211====================\n",
            "Mean Episode Reward:  -64.37535545023692\n",
            "Mean Episode Length:  297.4028436018957\n",
            "Current Episode Reward: -127.50000000000004\n",
            "Current Episode Length: 500\n",
            "\n"
          ]
        },
        {
          "output_type": "stream",
          "name": "stderr",
          "text": [
            "\r 71%|███████   | 212/300 [36:45<21:48, 14.87s/it]"
          ]
        },
        {
          "output_type": "stream",
          "name": "stdout",
          "text": [
            "\n",
            "====================Training Progress Episode 212====================\n",
            "Mean Episode Reward:  -64.68207547169807\n",
            "Mean Episode Length:  298.35849056603774\n",
            "Current Episode Reward: -129.39999999999952\n",
            "Current Episode Length: 500\n",
            "\n"
          ]
        },
        {
          "output_type": "stream",
          "name": "stderr",
          "text": [
            "\r 71%|███████   | 213/300 [37:03<22:45, 15.69s/it]"
          ]
        },
        {
          "output_type": "stream",
          "name": "stdout",
          "text": [
            "\n",
            "====================Training Progress Episode 213====================\n",
            "Mean Episode Reward:  -65.03239436619714\n",
            "Mean Episode Length:  299.30516431924883\n",
            "Current Episode Reward: -139.29999999999973\n",
            "Current Episode Length: 500\n",
            "\n"
          ]
        },
        {
          "output_type": "stream",
          "name": "stderr",
          "text": [
            "\r 71%|███████▏  | 214/300 [37:21<23:24, 16.34s/it]"
          ]
        },
        {
          "output_type": "stream",
          "name": "stdout",
          "text": [
            "\n",
            "====================Training Progress Episode 214====================\n",
            "Mean Episode Reward:  -65.37803738317753\n",
            "Mean Episode Length:  300.2429906542056\n",
            "Current Episode Reward: -138.99999999999946\n",
            "Current Episode Length: 500\n",
            "\n"
          ]
        },
        {
          "output_type": "stream",
          "name": "stderr",
          "text": [
            "\r 72%|███████▏  | 215/300 [37:38<23:37, 16.68s/it]"
          ]
        },
        {
          "output_type": "stream",
          "name": "stdout",
          "text": [
            "\n",
            "====================Training Progress Episode 215====================\n",
            "Mean Episode Reward:  -65.73023255813949\n",
            "Mean Episode Length:  301.1720930232558\n",
            "Current Episode Reward: -141.09999999999977\n",
            "Current Episode Length: 500\n",
            "\n"
          ]
        },
        {
          "output_type": "stream",
          "name": "stderr",
          "text": [
            " 72%|███████▏  | 217/300 [37:56<16:27, 11.90s/it]"
          ]
        },
        {
          "output_type": "stream",
          "name": "stdout",
          "text": [
            "\n",
            "====================Training Progress Episode 216====================\n",
            "Mean Episode Reward:  -65.93240740740737\n",
            "Mean Episode Length:  302.0925925925926\n",
            "Current Episode Reward: -109.40000000000094\n",
            "Current Episode Length: 500\n",
            "\n",
            "\n",
            "====================Training Progress Episode 217====================\n",
            "Mean Episode Reward:  -65.53317972350227\n",
            "Mean Episode Length:  300.71889400921657\n",
            "Current Episode Reward: 20.7\n",
            "Current Episode Length: 4\n",
            "\n"
          ]
        },
        {
          "output_type": "stream",
          "name": "stderr",
          "text": [
            "\r 73%|███████▎  | 218/300 [38:13<18:32, 13.57s/it]"
          ]
        },
        {
          "output_type": "stream",
          "name": "stdout",
          "text": [
            "\n",
            "====================Training Progress Episode 218====================\n",
            "Mean Episode Reward:  -65.83990825688069\n",
            "Mean Episode Length:  301.6330275229358\n",
            "Current Episode Reward: -132.39999999999972\n",
            "Current Episode Length: 500\n",
            "\n"
          ]
        },
        {
          "output_type": "stream",
          "name": "stderr",
          "text": [
            " 73%|███████▎  | 220/300 [38:31<13:51, 10.39s/it]"
          ]
        },
        {
          "output_type": "stream",
          "name": "stdout",
          "text": [
            "\n",
            "====================Training Progress Episode 219====================\n",
            "Mean Episode Reward:  -66.18401826484015\n",
            "Mean Episode Length:  302.53881278538813\n",
            "Current Episode Reward: -141.19999999999987\n",
            "Current Episode Length: 500\n",
            "\n",
            "\n",
            "====================Training Progress Episode 220====================\n",
            "Mean Episode Reward:  -65.78954545454542\n",
            "Mean Episode Length:  301.1818181818182\n",
            "Current Episode Reward: 20.6\n",
            "Current Episode Length: 4\n",
            "\n"
          ]
        },
        {
          "output_type": "stream",
          "name": "stderr",
          "text": [
            "\r 74%|███████▎  | 221/300 [38:49<16:28, 12.52s/it]"
          ]
        },
        {
          "output_type": "stream",
          "name": "stdout",
          "text": [
            "\n",
            "====================Training Progress Episode 221====================\n",
            "Mean Episode Reward:  -66.15384615384612\n",
            "Mean Episode Length:  302.0814479638009\n",
            "Current Episode Reward: -146.29999999999984\n",
            "Current Episode Length: 500\n",
            "\n",
            "\n",
            "====================Training Progress Episode 222====================\n",
            "Mean Episode Reward:  -65.76126126126123\n",
            "Mean Episode Length:  300.72522522522524\n",
            "Current Episode Reward: 21.0\n",
            "Current Episode Length: 1\n",
            "\n"
          ]
        },
        {
          "output_type": "stream",
          "name": "stderr",
          "text": [
            "\r 74%|███████▍  | 223/300 [39:06<13:49, 10.77s/it]"
          ]
        },
        {
          "output_type": "stream",
          "name": "stdout",
          "text": [
            "\n",
            "====================Training Progress Episode 223====================\n",
            "Mean Episode Reward:  -66.04977578475332\n",
            "Mean Episode Length:  301.6188340807175\n",
            "Current Episode Reward: -130.09999999999994\n",
            "Current Episode Length: 500\n",
            "\n"
          ]
        },
        {
          "output_type": "stream",
          "name": "stderr",
          "text": [
            "\r 75%|███████▍  | 224/300 [39:24<15:45, 12.45s/it]"
          ]
        },
        {
          "output_type": "stream",
          "name": "stdout",
          "text": [
            "\n",
            "====================Training Progress Episode 224====================\n",
            "Mean Episode Reward:  -66.38303571428567\n",
            "Mean Episode Length:  302.5044642857143\n",
            "Current Episode Reward: -140.6999999999998\n",
            "Current Episode Length: 500\n",
            "\n"
          ]
        },
        {
          "output_type": "stream",
          "name": "stderr",
          "text": [
            "\r 75%|███████▌  | 225/300 [39:41<17:11, 13.76s/it]"
          ]
        },
        {
          "output_type": "stream",
          "name": "stdout",
          "text": [
            "\n",
            "====================Training Progress Episode 225====================\n",
            "Mean Episode Reward:  -66.72222222222217\n",
            "Mean Episode Length:  303.3822222222222\n",
            "Current Episode Reward: -142.69999999999973\n",
            "Current Episode Length: 500\n",
            "\n"
          ]
        },
        {
          "output_type": "stream",
          "name": "stderr",
          "text": [
            "\r 75%|███████▌  | 226/300 [39:59<18:15, 14.80s/it]"
          ]
        },
        {
          "output_type": "stream",
          "name": "stdout",
          "text": [
            "\n",
            "====================Training Progress Episode 226====================\n",
            "Mean Episode Reward:  -66.99247787610614\n",
            "Mean Episode Length:  304.25221238938053\n",
            "Current Episode Reward: -127.79999999999963\n",
            "Current Episode Length: 500\n",
            "\n"
          ]
        },
        {
          "output_type": "stream",
          "name": "stderr",
          "text": [
            " 76%|███████▌  | 228/300 [40:06<10:48,  9.01s/it]"
          ]
        },
        {
          "output_type": "stream",
          "name": "stdout",
          "text": [
            "\n",
            "====================Training Progress Episode 227====================\n",
            "Mean Episode Reward:  -66.83656387665194\n",
            "Mean Episode Length:  303.7753303964758\n",
            "Current Episode Reward: -31.59999999999979\n",
            "Current Episode Length: 196\n",
            "\n",
            "\n",
            "====================Training Progress Episode 228====================\n",
            "Mean Episode Reward:  -66.45131578947364\n",
            "Mean Episode Length:  302.4561403508772\n",
            "Current Episode Reward: 21.0\n",
            "Current Episode Length: 3\n",
            "\n"
          ]
        },
        {
          "output_type": "stream",
          "name": "stderr",
          "text": [
            "\r 76%|███████▋  | 229/300 [40:23<13:34, 11.48s/it]"
          ]
        },
        {
          "output_type": "stream",
          "name": "stdout",
          "text": [
            "\n",
            "====================Training Progress Episode 229====================\n",
            "Mean Episode Reward:  -66.74541484716151\n",
            "Mean Episode Length:  303.31877729257644\n",
            "Current Episode Reward: -133.7999999999995\n",
            "Current Episode Length: 500\n",
            "\n",
            "\n",
            "====================Training Progress Episode 230====================\n",
            "Mean Episode Reward:  -66.3639130434782\n",
            "Mean Episode Length:  302.004347826087\n",
            "Current Episode Reward: 21.0\n",
            "Current Episode Length: 1\n",
            "\n"
          ]
        },
        {
          "output_type": "stream",
          "name": "stderr",
          "text": [
            "\r 77%|███████▋  | 231/300 [40:41<11:48, 10.27s/it]"
          ]
        },
        {
          "output_type": "stream",
          "name": "stdout",
          "text": [
            "\n",
            "====================Training Progress Episode 231====================\n",
            "Mean Episode Reward:  -66.62554112554108\n",
            "Mean Episode Length:  302.86147186147184\n",
            "Current Episode Reward: -126.8000000000002\n",
            "Current Episode Length: 500\n",
            "\n"
          ]
        },
        {
          "output_type": "stream",
          "name": "stderr",
          "text": [
            "\r 77%|███████▋  | 232/300 [40:58<13:39, 12.05s/it]"
          ]
        },
        {
          "output_type": "stream",
          "name": "stdout",
          "text": [
            "\n",
            "====================Training Progress Episode 232====================\n",
            "Mean Episode Reward:  -66.86896551724134\n",
            "Mean Episode Length:  303.71120689655174\n",
            "Current Episode Reward: -123.09999999999988\n",
            "Current Episode Length: 500\n",
            "\n"
          ]
        },
        {
          "output_type": "stream",
          "name": "stderr",
          "text": [
            "\r 78%|███████▊  | 233/300 [41:00<10:30,  9.41s/it]"
          ]
        },
        {
          "output_type": "stream",
          "name": "stdout",
          "text": [
            "\n",
            "====================Training Progress Episode 233====================\n",
            "Mean Episode Reward:  -66.54849785407721\n",
            "Mean Episode Length:  302.6351931330472\n",
            "Current Episode Reward: 7.799999999999995\n",
            "Current Episode Length: 53\n",
            "\n"
          ]
        },
        {
          "output_type": "stream",
          "name": "stderr",
          "text": [
            " 78%|███████▊  | 235/300 [41:01<05:33,  5.13s/it]"
          ]
        },
        {
          "output_type": "stream",
          "name": "stdout",
          "text": [
            "\n",
            "====================Training Progress Episode 234====================\n",
            "Mean Episode Reward:  -66.19572649572645\n",
            "Mean Episode Length:  301.4230769230769\n",
            "Current Episode Reward: 16.0\n",
            "Current Episode Length: 19\n",
            "\n",
            "\n",
            "====================Training Progress Episode 235====================\n",
            "Mean Episode Reward:  -65.82468085106379\n",
            "Mean Episode Length:  300.1531914893617\n",
            "Current Episode Reward: 21.0\n",
            "Current Episode Length: 3\n",
            "\n"
          ]
        },
        {
          "output_type": "stream",
          "name": "stderr",
          "text": [
            " 79%|███████▉  | 237/300 [41:19<06:29,  6.19s/it]"
          ]
        },
        {
          "output_type": "stream",
          "name": "stdout",
          "text": [
            "\n",
            "====================Training Progress Episode 236====================\n",
            "Mean Episode Reward:  -66.16610169491521\n",
            "Mean Episode Length:  301.0\n",
            "Current Episode Reward: -146.3999999999999\n",
            "Current Episode Length: 500\n",
            "\n",
            "\n",
            "====================Training Progress Episode 237====================\n",
            "Mean Episode Reward:  -65.79831223628688\n",
            "Mean Episode Length:  299.74261603375527\n",
            "Current Episode Reward: 21.0\n",
            "Current Episode Length: 3\n",
            "\n"
          ]
        },
        {
          "output_type": "stream",
          "name": "stderr",
          "text": [
            "\r 79%|███████▉  | 238/300 [41:36<09:48,  9.49s/it]"
          ]
        },
        {
          "output_type": "stream",
          "name": "stdout",
          "text": [
            "\n",
            "====================Training Progress Episode 238====================\n",
            "Mean Episode Reward:  -66.07941176470584\n",
            "Mean Episode Length:  300.5840336134454\n",
            "Current Episode Reward: -132.69999999999996\n",
            "Current Episode Length: 500\n",
            "\n"
          ]
        },
        {
          "output_type": "stream",
          "name": "stderr",
          "text": [
            "\r 80%|███████▉  | 239/300 [41:54<12:04, 11.88s/it]"
          ]
        },
        {
          "output_type": "stream",
          "name": "stdout",
          "text": [
            "\n",
            "====================Training Progress Episode 239====================\n",
            "Mean Episode Reward:  -66.35062761506272\n",
            "Mean Episode Length:  301.418410041841\n",
            "Current Episode Reward: -130.8999999999997\n",
            "Current Episode Length: 500\n",
            "\n"
          ]
        },
        {
          "output_type": "stream",
          "name": "stderr",
          "text": [
            "\r 80%|████████  | 240/300 [42:11<13:33, 13.55s/it]"
          ]
        },
        {
          "output_type": "stream",
          "name": "stdout",
          "text": [
            "\n",
            "====================Training Progress Episode 240====================\n",
            "Mean Episode Reward:  -66.57416666666663\n",
            "Mean Episode Length:  302.24583333333334\n",
            "Current Episode Reward: -120.00000000000036\n",
            "Current Episode Length: 500\n",
            "\n"
          ]
        },
        {
          "output_type": "stream",
          "name": "stderr",
          "text": [
            "\r 80%|████████  | 241/300 [42:29<14:31, 14.77s/it]"
          ]
        },
        {
          "output_type": "stream",
          "name": "stdout",
          "text": [
            "\n",
            "====================Training Progress Episode 241====================\n",
            "Mean Episode Reward:  -66.85103734439829\n",
            "Mean Episode Length:  303.0663900414938\n",
            "Current Episode Reward: -133.29999999999973\n",
            "Current Episode Length: 500\n",
            "\n"
          ]
        },
        {
          "output_type": "stream",
          "name": "stderr",
          "text": [
            "\r 81%|████████  | 242/300 [42:46<15:04, 15.59s/it]"
          ]
        },
        {
          "output_type": "stream",
          "name": "stdout",
          "text": [
            "\n",
            "====================Training Progress Episode 242====================\n",
            "Mean Episode Reward:  -67.10661157024789\n",
            "Mean Episode Length:  303.8801652892562\n",
            "Current Episode Reward: -128.69999999999968\n",
            "Current Episode Length: 500\n",
            "\n"
          ]
        },
        {
          "output_type": "stream",
          "name": "stderr",
          "text": [
            "\r 81%|████████  | 243/300 [43:04<15:22, 16.19s/it]"
          ]
        },
        {
          "output_type": "stream",
          "name": "stdout",
          "text": [
            "\n",
            "====================Training Progress Episode 243====================\n",
            "Mean Episode Reward:  -67.3921810699588\n",
            "Mean Episode Length:  304.6872427983539\n",
            "Current Episode Reward: -136.4999999999997\n",
            "Current Episode Length: 500\n",
            "\n"
          ]
        },
        {
          "output_type": "stream",
          "name": "stderr",
          "text": [
            "\r 81%|████████▏ | 244/300 [43:22<15:31, 16.63s/it]"
          ]
        },
        {
          "output_type": "stream",
          "name": "stdout",
          "text": [
            "\n",
            "====================Training Progress Episode 244====================\n",
            "Mean Episode Reward:  -67.68237704918029\n",
            "Mean Episode Length:  305.48770491803276\n",
            "Current Episode Reward: -138.19999999999956\n",
            "Current Episode Length: 500\n",
            "\n"
          ]
        },
        {
          "output_type": "stream",
          "name": "stderr",
          "text": [
            "\r 82%|████████▏ | 245/300 [43:39<15:30, 16.91s/it]"
          ]
        },
        {
          "output_type": "stream",
          "name": "stdout",
          "text": [
            "\n",
            "====================Training Progress Episode 245====================\n",
            "Mean Episode Reward:  -67.97020408163262\n",
            "Mean Episode Length:  306.28163265306125\n",
            "Current Episode Reward: -138.19999999999956\n",
            "Current Episode Length: 500\n",
            "\n"
          ]
        },
        {
          "output_type": "stream",
          "name": "stderr",
          "text": [
            " 82%|████████▏ | 247/300 [43:57<10:39, 12.06s/it]"
          ]
        },
        {
          "output_type": "stream",
          "name": "stdout",
          "text": [
            "\n",
            "====================Training Progress Episode 246====================\n",
            "Mean Episode Reward:  -68.23373983739833\n",
            "Mean Episode Length:  307.0691056910569\n",
            "Current Episode Reward: -132.79999999999976\n",
            "Current Episode Length: 500\n",
            "\n",
            "\n",
            "====================Training Progress Episode 247====================\n",
            "Mean Episode Reward:  -67.87408906882587\n",
            "Mean Episode Length:  305.84615384615387\n",
            "Current Episode Reward: 20.6\n",
            "Current Episode Length: 5\n",
            "\n"
          ]
        },
        {
          "output_type": "stream",
          "name": "stderr",
          "text": [
            "\r 83%|████████▎ | 248/300 [43:57<07:22,  8.51s/it]"
          ]
        },
        {
          "output_type": "stream",
          "name": "stdout",
          "text": [
            "\n",
            "====================Training Progress Episode 248====================\n",
            "Mean Episode Reward:  -67.51854838709674\n",
            "Mean Episode Length:  304.63709677419354\n",
            "Current Episode Reward: 20.3\n",
            "Current Episode Length: 6\n",
            "\n"
          ]
        },
        {
          "output_type": "stream",
          "name": "stderr",
          "text": [
            "\r 83%|████████▎ | 249/300 [44:15<09:33, 11.24s/it]"
          ]
        },
        {
          "output_type": "stream",
          "name": "stdout",
          "text": [
            "\n",
            "====================Training Progress Episode 249====================\n",
            "Mean Episode Reward:  -67.80080321285136\n",
            "Mean Episode Length:  305.421686746988\n",
            "Current Episode Reward: -137.79999999999953\n",
            "Current Episode Length: 500\n",
            "\n"
          ]
        },
        {
          "output_type": "stream",
          "name": "stderr",
          "text": [
            "\r 83%|████████▎ | 250/300 [44:32<10:57, 13.14s/it]"
          ]
        },
        {
          "output_type": "stream",
          "name": "stdout",
          "text": [
            "\n",
            "====================Training Progress Episode 250====================\n",
            "Mean Episode Reward:  -68.05119999999997\n",
            "Mean Episode Length:  306.2\n",
            "Current Episode Reward: -130.39999999999975\n",
            "Current Episode Length: 500\n",
            "\n"
          ]
        },
        {
          "output_type": "stream",
          "name": "stderr",
          "text": [
            "\r 84%|████████▎ | 251/300 [44:50<11:49, 14.48s/it]"
          ]
        },
        {
          "output_type": "stream",
          "name": "stdout",
          "text": [
            "\n",
            "====================Training Progress Episode 251====================\n",
            "Mean Episode Reward:  -68.29203187250992\n",
            "Mean Episode Length:  306.9721115537849\n",
            "Current Episode Reward: -128.49999999999997\n",
            "Current Episode Length: 500\n",
            "\n"
          ]
        },
        {
          "output_type": "stream",
          "name": "stderr",
          "text": [
            "\r 84%|████████▍ | 252/300 [45:08<12:19, 15.41s/it]"
          ]
        },
        {
          "output_type": "stream",
          "name": "stdout",
          "text": [
            "\n",
            "====================Training Progress Episode 252====================\n",
            "Mean Episode Reward:  -68.53531746031743\n",
            "Mean Episode Length:  307.73809523809524\n",
            "Current Episode Reward: -129.6000000000001\n",
            "Current Episode Length: 500\n",
            "\n"
          ]
        },
        {
          "output_type": "stream",
          "name": "stderr",
          "text": [
            "\r 84%|████████▍ | 253/300 [45:14<09:51, 12.59s/it]"
          ]
        },
        {
          "output_type": "stream",
          "name": "stdout",
          "text": [
            "\n",
            "====================Training Progress Episode 253====================\n",
            "Mean Episode Reward:  -68.37588932806321\n",
            "Mean Episode Length:  307.19367588932806\n",
            "Current Episode Reward: -28.19999999999991\n",
            "Current Episode Length: 170\n",
            "\n"
          ]
        },
        {
          "output_type": "stream",
          "name": "stderr",
          "text": [
            "\r 85%|████████▍ | 254/300 [45:31<10:47, 14.07s/it]"
          ]
        },
        {
          "output_type": "stream",
          "name": "stdout",
          "text": [
            "\n",
            "====================Training Progress Episode 254====================\n",
            "Mean Episode Reward:  -68.65157480314957\n",
            "Mean Episode Length:  307.9527559055118\n",
            "Current Episode Reward: -138.39999999999966\n",
            "Current Episode Length: 500\n",
            "\n"
          ]
        },
        {
          "output_type": "stream",
          "name": "stderr",
          "text": [
            " 85%|████████▌ | 256/300 [45:49<07:46, 10.61s/it]"
          ]
        },
        {
          "output_type": "stream",
          "name": "stdout",
          "text": [
            "\n",
            "====================Training Progress Episode 255====================\n",
            "Mean Episode Reward:  -68.94392156862743\n",
            "Mean Episode Length:  308.70588235294116\n",
            "Current Episode Reward: -143.19999999999982\n",
            "Current Episode Length: 500\n",
            "\n",
            "\n",
            "====================Training Progress Episode 256====================\n",
            "Mean Episode Reward:  -68.59257812499997\n",
            "Mean Episode Length:  307.51171875\n",
            "Current Episode Reward: 21.0\n",
            "Current Episode Length: 3\n",
            "\n"
          ]
        },
        {
          "output_type": "stream",
          "name": "stderr",
          "text": [
            "\r 86%|████████▌ | 257/300 [45:59<07:27, 10.41s/it]"
          ]
        },
        {
          "output_type": "stream",
          "name": "stdout",
          "text": [
            "\n",
            "====================Training Progress Episode 257====================\n",
            "Mean Episode Reward:  -68.5657587548638\n",
            "Mean Episode Length:  307.42412451361866\n",
            "Current Episode Reward: -61.699999999999946\n",
            "Current Episode Length: 285\n",
            "\n"
          ]
        },
        {
          "output_type": "stream",
          "name": "stderr",
          "text": [
            "\r 86%|████████▌ | 258/300 [46:16<08:48, 12.58s/it]"
          ]
        },
        {
          "output_type": "stream",
          "name": "stdout",
          "text": [
            "\n",
            "====================Training Progress Episode 258====================\n",
            "Mean Episode Reward:  -68.86162790697672\n",
            "Mean Episode Length:  308.17054263565893\n",
            "Current Episode Reward: -144.89999999999984\n",
            "Current Episode Length: 500\n",
            "\n"
          ]
        },
        {
          "output_type": "stream",
          "name": "stderr",
          "text": [
            " 87%|████████▋ | 260/300 [46:34<06:35,  9.88s/it]"
          ]
        },
        {
          "output_type": "stream",
          "name": "stdout",
          "text": [
            "\n",
            "====================Training Progress Episode 259====================\n",
            "Mean Episode Reward:  -69.09150579150578\n",
            "Mean Episode Length:  308.9111969111969\n",
            "Current Episode Reward: -128.3999999999998\n",
            "Current Episode Length: 500\n",
            "\n",
            "\n",
            "====================Training Progress Episode 260====================\n",
            "Mean Episode Reward:  -68.74692307692307\n",
            "Mean Episode Length:  307.7346153846154\n",
            "Current Episode Reward: 20.5\n",
            "Current Episode Length: 3\n",
            "\n"
          ]
        },
        {
          "output_type": "stream",
          "name": "stderr",
          "text": [
            "\r 87%|████████▋ | 261/300 [46:52<07:55, 12.18s/it]"
          ]
        },
        {
          "output_type": "stream",
          "name": "stdout",
          "text": [
            "\n",
            "====================Training Progress Episode 261====================\n",
            "Mean Episode Reward:  -69.02375478927202\n",
            "Mean Episode Length:  308.4712643678161\n",
            "Current Episode Reward: -140.9999999999997\n",
            "Current Episode Length: 500\n",
            "\n"
          ]
        },
        {
          "output_type": "stream",
          "name": "stderr",
          "text": [
            "\r 87%|████████▋ | 262/300 [47:09<08:43, 13.79s/it]"
          ]
        },
        {
          "output_type": "stream",
          "name": "stdout",
          "text": [
            "\n",
            "====================Training Progress Episode 262====================\n",
            "Mean Episode Reward:  -69.29160305343511\n",
            "Mean Episode Length:  309.2022900763359\n",
            "Current Episode Reward: -139.19999999999953\n",
            "Current Episode Length: 500\n",
            "\n"
          ]
        },
        {
          "output_type": "stream",
          "name": "stderr",
          "text": [
            "\r 88%|████████▊ | 263/300 [47:17<07:24, 12.02s/it]"
          ]
        },
        {
          "output_type": "stream",
          "name": "stdout",
          "text": [
            "\n",
            "====================Training Progress Episode 263====================\n",
            "Mean Episode Reward:  -69.19087452471481\n",
            "Mean Episode Length:  308.8783269961977\n",
            "Current Episode Reward: -42.79999999999983\n",
            "Current Episode Length: 224\n",
            "\n"
          ]
        },
        {
          "output_type": "stream",
          "name": "stderr",
          "text": [
            "\r 88%|████████▊ | 264/300 [47:35<08:13, 13.71s/it]"
          ]
        },
        {
          "output_type": "stream",
          "name": "stdout",
          "text": [
            "\n",
            "====================Training Progress Episode 264====================\n",
            "Mean Episode Reward:  -69.47007575757576\n",
            "Mean Episode Length:  309.60227272727275\n",
            "Current Episode Reward: -142.89999999999975\n",
            "Current Episode Length: 500\n",
            "\n"
          ]
        },
        {
          "output_type": "stream",
          "name": "stderr",
          "text": [
            "\r 88%|████████▊ | 265/300 [47:52<08:40, 14.87s/it]"
          ]
        },
        {
          "output_type": "stream",
          "name": "stdout",
          "text": [
            "\n",
            "====================Training Progress Episode 265====================\n",
            "Mean Episode Reward:  -69.6920754716981\n",
            "Mean Episode Length:  310.3207547169811\n",
            "Current Episode Reward: -128.29999999999993\n",
            "Current Episode Length: 500\n",
            "\n"
          ]
        },
        {
          "output_type": "stream",
          "name": "stderr",
          "text": [
            "\r 89%|████████▊ | 266/300 [48:10<08:53, 15.69s/it]"
          ]
        },
        {
          "output_type": "stream",
          "name": "stdout",
          "text": [
            "\n",
            "====================Training Progress Episode 266====================\n",
            "Mean Episode Reward:  -69.9672932330827\n",
            "Mean Episode Length:  311.0338345864662\n",
            "Current Episode Reward: -142.8999999999998\n",
            "Current Episode Length: 500\n",
            "\n"
          ]
        },
        {
          "output_type": "stream",
          "name": "stderr",
          "text": [
            "\r 89%|████████▉ | 267/300 [48:10<06:04, 11.04s/it]"
          ]
        },
        {
          "output_type": "stream",
          "name": "stdout",
          "text": [
            "\n",
            "====================Training Progress Episode 267====================\n",
            "Mean Episode Reward:  -69.62921348314607\n",
            "Mean Episode Length:  309.89138576779027\n",
            "Current Episode Reward: 20.3\n",
            "Current Episode Length: 6\n",
            "\n"
          ]
        },
        {
          "output_type": "stream",
          "name": "stderr",
          "text": [
            "\r 89%|████████▉ | 268/300 [48:24<06:22, 11.96s/it]"
          ]
        },
        {
          "output_type": "stream",
          "name": "stdout",
          "text": [
            "\n",
            "====================Training Progress Episode 268====================\n",
            "Mean Episode Reward:  -69.72052238805969\n",
            "Mean Episode Length:  310.2350746268657\n",
            "Current Episode Reward: -94.09999999999945\n",
            "Current Episode Length: 402\n",
            "\n"
          ]
        },
        {
          "output_type": "stream",
          "name": "stderr",
          "text": [
            " 90%|█████████ | 270/300 [48:42<04:47,  9.57s/it]"
          ]
        },
        {
          "output_type": "stream",
          "name": "stdout",
          "text": [
            "\n",
            "====================Training Progress Episode 269====================\n",
            "Mean Episode Reward:  -69.97881040892193\n",
            "Mean Episode Length:  310.9405204460966\n",
            "Current Episode Reward: -139.1999999999997\n",
            "Current Episode Length: 500\n",
            "\n",
            "\n",
            "====================Training Progress Episode 270====================\n",
            "Mean Episode Reward:  -69.64185185185185\n",
            "Mean Episode Length:  309.8\n",
            "Current Episode Reward: 21.0\n",
            "Current Episode Length: 3\n",
            "\n"
          ]
        },
        {
          "output_type": "stream",
          "name": "stderr",
          "text": [
            "\r 90%|█████████ | 271/300 [48:42<03:15,  6.73s/it]"
          ]
        },
        {
          "output_type": "stream",
          "name": "stdout",
          "text": [
            "\n",
            "====================Training Progress Episode 271====================\n",
            "Mean Episode Reward:  -69.30738007380073\n",
            "Mean Episode Length:  308.66789667896677\n",
            "Current Episode Reward: 21.0\n",
            "Current Episode Length: 3\n",
            "\n"
          ]
        },
        {
          "output_type": "stream",
          "name": "stderr",
          "text": [
            "\r 91%|█████████ | 272/300 [48:59<04:40, 10.00s/it]"
          ]
        },
        {
          "output_type": "stream",
          "name": "stdout",
          "text": [
            "\n",
            "====================Training Progress Episode 272====================\n",
            "Mean Episode Reward:  -69.56691176470588\n",
            "Mean Episode Length:  309.37132352941177\n",
            "Current Episode Reward: -139.8999999999998\n",
            "Current Episode Length: 500\n",
            "\n"
          ]
        },
        {
          "output_type": "stream",
          "name": "stderr",
          "text": [
            "\r 91%|█████████ | 273/300 [49:17<05:31, 12.27s/it]"
          ]
        },
        {
          "output_type": "stream",
          "name": "stdout",
          "text": [
            "\n",
            "====================Training Progress Episode 273====================\n",
            "Mean Episode Reward:  -69.82600732600733\n",
            "Mean Episode Length:  310.0695970695971\n",
            "Current Episode Reward: -140.29999999999882\n",
            "Current Episode Length: 500\n",
            "\n"
          ]
        },
        {
          "output_type": "stream",
          "name": "stderr",
          "text": [
            "\r 91%|█████████▏| 274/300 [49:35<06:00, 13.85s/it]"
          ]
        },
        {
          "output_type": "stream",
          "name": "stdout",
          "text": [
            "\n",
            "====================Training Progress Episode 274====================\n",
            "Mean Episode Reward:  -70.01751824817518\n",
            "Mean Episode Length:  310.76277372262774\n",
            "Current Episode Reward: -122.29999999999983\n",
            "Current Episode Length: 500\n",
            "\n"
          ]
        },
        {
          "output_type": "stream",
          "name": "stderr",
          "text": [
            "\r 92%|█████████▏| 275/300 [49:52<06:13, 14.95s/it]"
          ]
        },
        {
          "output_type": "stream",
          "name": "stdout",
          "text": [
            "\n",
            "====================Training Progress Episode 275====================\n",
            "Mean Episode Reward:  -70.28472727272727\n",
            "Mean Episode Length:  311.4509090909091\n",
            "Current Episode Reward: -143.49999999999977\n",
            "Current Episode Length: 500\n",
            "\n"
          ]
        },
        {
          "output_type": "stream",
          "name": "stderr",
          "text": [
            "\r 92%|█████████▏| 276/300 [50:10<06:18, 15.78s/it]"
          ]
        },
        {
          "output_type": "stream",
          "name": "stdout",
          "text": [
            "\n",
            "====================Training Progress Episode 276====================\n",
            "Mean Episode Reward:  -70.54202898550724\n",
            "Mean Episode Length:  312.1340579710145\n",
            "Current Episode Reward: -141.29999999999967\n",
            "Current Episode Length: 500\n",
            "\n"
          ]
        },
        {
          "output_type": "stream",
          "name": "stderr",
          "text": [
            "\r 92%|█████████▏| 277/300 [50:27<06:15, 16.35s/it]"
          ]
        },
        {
          "output_type": "stream",
          "name": "stdout",
          "text": [
            "\n",
            "====================Training Progress Episode 277====================\n",
            "Mean Episode Reward:  -70.7884476534296\n",
            "Mean Episode Length:  312.81227436823104\n",
            "Current Episode Reward: -138.79999999999984\n",
            "Current Episode Length: 500\n",
            "\n"
          ]
        },
        {
          "output_type": "stream",
          "name": "stderr",
          "text": [
            "\r 93%|█████████▎| 278/300 [50:45<06:07, 16.72s/it]"
          ]
        },
        {
          "output_type": "stream",
          "name": "stdout",
          "text": [
            "\n",
            "====================Training Progress Episode 278====================\n",
            "Mean Episode Reward:  -71.01798561151078\n",
            "Mean Episode Length:  313.4856115107914\n",
            "Current Episode Reward: -134.59999999999974\n",
            "Current Episode Length: 500\n",
            "\n"
          ]
        },
        {
          "output_type": "stream",
          "name": "stderr",
          "text": [
            "\r 93%|█████████▎| 279/300 [51:03<05:56, 16.95s/it]"
          ]
        },
        {
          "output_type": "stream",
          "name": "stdout",
          "text": [
            "\n",
            "====================Training Progress Episode 279====================\n",
            "Mean Episode Reward:  -71.23225806451612\n",
            "Mean Episode Length:  314.1541218637993\n",
            "Current Episode Reward: -130.79999999999953\n",
            "Current Episode Length: 500\n",
            "\n"
          ]
        },
        {
          "output_type": "stream",
          "name": "stderr",
          "text": [
            " 94%|█████████▎| 281/300 [51:20<03:48, 12.02s/it]"
          ]
        },
        {
          "output_type": "stream",
          "name": "stdout",
          "text": [
            "\n",
            "====================Training Progress Episode 280====================\n",
            "Mean Episode Reward:  -71.48714285714284\n",
            "Mean Episode Length:  314.8178571428571\n",
            "Current Episode Reward: -142.59999999999985\n",
            "Current Episode Length: 500\n",
            "\n",
            "\n",
            "====================Training Progress Episode 281====================\n",
            "Mean Episode Reward:  -71.1580071174377\n",
            "Mean Episode Length:  313.70818505338076\n",
            "Current Episode Reward: 21.0\n",
            "Current Episode Length: 3\n",
            "\n"
          ]
        },
        {
          "output_type": "stream",
          "name": "stderr",
          "text": [
            "\r 94%|█████████▍| 282/300 [51:38<04:05, 13.65s/it]"
          ]
        },
        {
          "output_type": "stream",
          "name": "stdout",
          "text": [
            "\n",
            "====================Training Progress Episode 282====================\n",
            "Mean Episode Reward:  -71.40638297872339\n",
            "Mean Episode Length:  314.36879432624113\n",
            "Current Episode Reward: -141.19999999999945\n",
            "Current Episode Length: 500\n",
            "\n"
          ]
        },
        {
          "output_type": "stream",
          "name": "stderr",
          "text": [
            "\r 94%|█████████▍| 283/300 [51:55<04:11, 14.81s/it]"
          ]
        },
        {
          "output_type": "stream",
          "name": "stdout",
          "text": [
            "\n",
            "====================Training Progress Episode 283====================\n",
            "Mean Episode Reward:  -71.63604240282683\n",
            "Mean Episode Length:  315.0247349823322\n",
            "Current Episode Reward: -136.39999999999955\n",
            "Current Episode Length: 500\n",
            "\n"
          ]
        },
        {
          "output_type": "stream",
          "name": "stderr",
          "text": [
            "\r 95%|█████████▍| 284/300 [52:13<04:09, 15.61s/it]"
          ]
        },
        {
          "output_type": "stream",
          "name": "stdout",
          "text": [
            "\n",
            "====================Training Progress Episode 284====================\n",
            "Mean Episode Reward:  -71.84683098591547\n",
            "Mean Episode Length:  315.67605633802816\n",
            "Current Episode Reward: -131.49999999999963\n",
            "Current Episode Length: 500\n",
            "\n"
          ]
        },
        {
          "output_type": "stream",
          "name": "stderr",
          "text": [
            "\r 95%|█████████▌| 285/300 [52:30<04:02, 16.19s/it]"
          ]
        },
        {
          "output_type": "stream",
          "name": "stdout",
          "text": [
            "\n",
            "====================Training Progress Episode 285====================\n",
            "Mean Episode Reward:  -72.0775438596491\n",
            "Mean Episode Length:  316.3228070175439\n",
            "Current Episode Reward: -137.59999999999965\n",
            "Current Episode Length: 500\n",
            "\n",
            "\n",
            "====================Training Progress Episode 286====================\n",
            "Mean Episode Reward:  -71.75209790209787\n",
            "Mean Episode Length:  315.2237762237762\n",
            "Current Episode Reward: 21.0\n",
            "Current Episode Length: 2\n",
            "\n"
          ]
        },
        {
          "output_type": "stream",
          "name": "stderr",
          "text": [
            "\r 96%|█████████▌| 287/300 [52:48<02:46, 12.78s/it]"
          ]
        },
        {
          "output_type": "stream",
          "name": "stdout",
          "text": [
            "\n",
            "====================Training Progress Episode 287====================\n",
            "Mean Episode Reward:  -72.0038327526132\n",
            "Mean Episode Length:  315.86759581881535\n",
            "Current Episode Reward: -143.99999999999983\n",
            "Current Episode Length: 500\n",
            "\n"
          ]
        },
        {
          "output_type": "stream",
          "name": "stderr",
          "text": [
            "\r 96%|█████████▌| 288/300 [53:05<02:47, 13.94s/it]"
          ]
        },
        {
          "output_type": "stream",
          "name": "stdout",
          "text": [
            "\n",
            "====================Training Progress Episode 288====================\n",
            "Mean Episode Reward:  -72.25173611111109\n",
            "Mean Episode Length:  316.50694444444446\n",
            "Current Episode Reward: -143.39999999999975\n",
            "Current Episode Length: 500\n",
            "\n"
          ]
        },
        {
          "output_type": "stream",
          "name": "stderr",
          "text": [
            "\r 96%|█████████▋| 289/300 [53:23<02:43, 14.89s/it]"
          ]
        },
        {
          "output_type": "stream",
          "name": "stdout",
          "text": [
            "\n",
            "====================Training Progress Episode 289====================\n",
            "Mean Episode Reward:  -72.46574394463664\n",
            "Mean Episode Length:  317.1418685121107\n",
            "Current Episode Reward: -134.09999999999948\n",
            "Current Episode Length: 500\n",
            "\n"
          ]
        },
        {
          "output_type": "stream",
          "name": "stderr",
          "text": [
            "\r 97%|█████████▋| 290/300 [53:27<01:59, 11.95s/it]"
          ]
        },
        {
          "output_type": "stream",
          "name": "stdout",
          "text": [
            "\n",
            "====================Training Progress Episode 290====================\n",
            "Mean Episode Reward:  -72.2613793103448\n",
            "Mean Episode Length:  316.451724137931\n",
            "Current Episode Reward: -13.200000000000038\n",
            "Current Episode Length: 117\n",
            "\n"
          ]
        },
        {
          "output_type": "stream",
          "name": "stderr",
          "text": [
            "\r 97%|█████████▋| 291/300 [53:44<02:01, 13.51s/it]"
          ]
        },
        {
          "output_type": "stream",
          "name": "stdout",
          "text": [
            "\n",
            "====================Training Progress Episode 291====================\n",
            "Mean Episode Reward:  -72.51580756013743\n",
            "Mean Episode Length:  317.08247422680415\n",
            "Current Episode Reward: -146.29999999999987\n",
            "Current Episode Length: 500\n",
            "\n",
            "\n",
            "====================Training Progress Episode 292====================\n",
            "Mean Episode Reward:  -72.19554794520545\n",
            "Mean Episode Length:  316.0\n",
            "Current Episode Reward: 21.0\n",
            "Current Episode Length: 1\n",
            "\n"
          ]
        },
        {
          "output_type": "stream",
          "name": "stderr",
          "text": [
            "\r 98%|█████████▊| 293/300 [54:01<01:17, 11.08s/it]"
          ]
        },
        {
          "output_type": "stream",
          "name": "stdout",
          "text": [
            "\n",
            "====================Training Progress Episode 293====================\n",
            "Mean Episode Reward:  -72.27474402730373\n",
            "Mean Episode Length:  316.4778156996587\n",
            "Current Episode Reward: -95.39999999999985\n",
            "Current Episode Length: 456\n",
            "\n"
          ]
        },
        {
          "output_type": "stream",
          "name": "stderr",
          "text": [
            "\r 98%|█████████▊| 294/300 [54:18<01:15, 12.64s/it]"
          ]
        },
        {
          "output_type": "stream",
          "name": "stdout",
          "text": [
            "\n",
            "====================Training Progress Episode 294====================\n",
            "Mean Episode Reward:  -72.48435374149656\n",
            "Mean Episode Length:  317.1020408163265\n",
            "Current Episode Reward: -133.8999999999996\n",
            "Current Episode Length: 500\n",
            "\n"
          ]
        },
        {
          "output_type": "stream",
          "name": "stderr",
          "text": [
            "\r 98%|█████████▊| 295/300 [54:36<01:09, 13.92s/it]"
          ]
        },
        {
          "output_type": "stream",
          "name": "stdout",
          "text": [
            "\n",
            "====================Training Progress Episode 295====================\n",
            "Mean Episode Reward:  -72.73118644067793\n",
            "Mean Episode Length:  317.7220338983051\n",
            "Current Episode Reward: -145.2999999999998\n",
            "Current Episode Length: 500\n",
            "\n"
          ]
        },
        {
          "output_type": "stream",
          "name": "stderr",
          "text": [
            "\r 99%|█████████▊| 296/300 [54:53<00:59, 14.90s/it]"
          ]
        },
        {
          "output_type": "stream",
          "name": "stdout",
          "text": [
            "\n",
            "====================Training Progress Episode 296====================\n",
            "Mean Episode Reward:  -72.90675675675672\n",
            "Mean Episode Length:  318.3378378378378\n",
            "Current Episode Reward: -124.69999999999949\n",
            "Current Episode Length: 500\n",
            "\n"
          ]
        },
        {
          "output_type": "stream",
          "name": "stderr",
          "text": [
            "\r 99%|█████████▉| 297/300 [55:08<00:44, 14.72s/it]"
          ]
        },
        {
          "output_type": "stream",
          "name": "stdout",
          "text": [
            "\n",
            "====================Training Progress Episode 297====================\n",
            "Mean Episode Reward:  -73.00875420875418\n",
            "Mean Episode Length:  318.62626262626264\n",
            "Current Episode Reward: -103.19999999999939\n",
            "Current Episode Length: 404\n",
            "\n"
          ]
        },
        {
          "output_type": "stream",
          "name": "stderr",
          "text": [
            "100%|█████████▉| 299/300 [55:25<00:11, 11.07s/it]"
          ]
        },
        {
          "output_type": "stream",
          "name": "stdout",
          "text": [
            "\n",
            "====================Training Progress Episode 298====================\n",
            "Mean Episode Reward:  -73.24026845637582\n",
            "Mean Episode Length:  319.23489932885906\n",
            "Current Episode Reward: -141.9999999999997\n",
            "Current Episode Length: 500\n",
            "\n",
            "\n",
            "====================Training Progress Episode 299====================\n",
            "Mean Episode Reward:  -72.9250836120401\n",
            "Mean Episode Length:  318.17725752508363\n",
            "Current Episode Reward: 21.0\n",
            "Current Episode Length: 3\n",
            "\n"
          ]
        },
        {
          "output_type": "stream",
          "name": "stderr",
          "text": [
            "100%|██████████| 300/300 [55:43<00:00, 11.14s/it]"
          ]
        },
        {
          "output_type": "stream",
          "name": "stdout",
          "text": [
            "\n",
            "====================Training Progress Episode 300====================\n",
            "Mean Episode Reward:  -73.14133333333331\n",
            "Mean Episode Length:  318.78333333333336\n",
            "Current Episode Reward: -137.7999999999995\n",
            "Current Episode Length: 500\n",
            "\n"
          ]
        },
        {
          "output_type": "stream",
          "name": "stderr",
          "text": [
            "\n"
          ]
        }
      ]
    },
    {
      "cell_type": "code",
      "source": [
        "plot_model_performance(mean_rewards, mean_lengths)"
      ],
      "metadata": {
        "colab": {
          "base_uri": "https://localhost:8080/",
          "height": 443
        },
        "id": "R3AuNaMz6bDv",
        "outputId": "1756132b-c6b1-4e92-b0c4-feea71cd50d9"
      },
      "execution_count": null,
      "outputs": [
        {
          "output_type": "display_data",
          "data": {
            "text/plain": [
              "<Figure size 1000x500 with 2 Axes>"
            ],
            "image/png": "[encoded data removed]"
          },
          "metadata": {}
        }
      ]
    }
  ],
  "metadata": {
    "colab": {
      "provenance": [],
      "gpuType": "T4"
    },
    "kernelspec": {
      "display_name": "Python 3",
      "name": "python3"
    },
    "accelerator": "GPU"
  },
  "nbformat": 4,
  "nbformat_minor": 0
}