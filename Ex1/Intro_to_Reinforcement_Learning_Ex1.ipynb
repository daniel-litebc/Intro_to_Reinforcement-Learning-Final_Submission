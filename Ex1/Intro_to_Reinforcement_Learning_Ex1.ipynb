{
  "cells": [
    {
      "cell_type": "markdown",
      "source": [
        "# Final Project - Reinforcements Learning - Ex1\n",
        "\n",
        "---\n",
        "\n",
        "<img src=\"https://play-lh.googleusercontent.com/e_oKlKPISbgdzut1H9opevS7-LTB8-8lsmpCdMkhlnqFenZhpjxbLmx7l158-xQQCIY\">\n",
        "\n",
        "Full Notebook:\n",
        "### https://colab.research.google.com/drive/1umfxWIoivhACC9YcWRZIxINsZch9JEaC?usp=sharing"
      ],
      "metadata": {
        "id": "dSvjwmu3vPMR"
      }
    },
    {
      "cell_type": "markdown",
      "source": [
        "# Installs"
      ],
      "metadata": {
        "id": "4T3qcykHFi15"
      }
    },
    {
      "cell_type": "code",
      "source": [
        "%%capture\n",
        "!sudo apt-get update\n",
        "!sudo apt-get install -y xvfb ffmpeg freeglut3-dev\n",
        "!pip install 'imageio==2.4.0'\n",
        "!pip install gym\n",
        "!pip install pygame\n",
        "!apt-get install python-opengl -y\n",
        "!apt install xvfb -y\n",
        "!pip install pyvirtualdisplay\n",
        "!pip install piglet\n",
        "!pip install gym\n",
        "!apt-get install python-opengl -y\n",
        "!apt install xvfb -y\n",
        "!pip install gym_sokoban\n",
        "!pip install stable-baselines3[extra]\n",
        "!git clone https://github.com/avivg7/sokoban-so.git\n",
        "!unzip /content/sokoban-so/Compress.zip\n",
        "!git clone https://github.com/daniel-litebc/Intro_to_Reinforcement-Learning-Final_Submission.git\n"
      ],
      "metadata": {
        "id": "2dah0RrY9Kmj"
      },
      "execution_count": 1,
      "outputs": []
    },
    {
      "cell_type": "markdown",
      "source": [
        "# Imports"
      ],
      "metadata": {
        "id": "yHbKbI7BwIwv"
      }
    },
    {
      "cell_type": "code",
      "source": [
        "import numpy as np\n",
        "import gym\n",
        "from gym import logger as gymlogger\n",
        "from gym.utils import seeding\n",
        "from gym import error, spaces, utils\n",
        "gymlogger.set_level(40) # error only\n",
        "from soko_pap import *\n",
        "import glob\n",
        "import io\n",
        "import base64\n",
        "import os\n",
        "import random\n",
        "import matplotlib.pyplot as plt\n",
        "%matplotlib inline\n",
        "import math\n",
        "import glob\n",
        "from pyvirtualdisplay import Display\n",
        "from IPython.display import HTML\n",
        "from IPython import display as ipythondisplay\n",
        "import pygame\n",
        "import pyvirtualdisplay\n",
        "import imageio\n",
        "import IPython\n",
        "import time\n",
        "import torch\n",
        "import torch.nn as nn\n",
        "import torch.optim as optim\n",
        "from collections import namedtuple, deque\n",
        "import torch.nn.functional as F\n",
        "from itertools import count\n",
        "from stable_baselines3 import PPO\n",
        "from tqdm import tqdm\n",
        "import matplotlib.pyplot as plt"
      ],
      "metadata": {
        "id": "1cNdWkV49OqN",
        "colab": {
          "base_uri": "https://localhost:8080/"
        },
        "outputId": "15a1e373-8d41-4262-a268-fd7e6c2b6852"
      },
      "execution_count": 2,
      "outputs": [
        {
          "output_type": "stream",
          "name": "stderr",
          "text": [
            "/usr/local/lib/python3.10/dist-packages/torch/utils/tensorboard/__init__.py:4: DeprecationWarning: distutils Version classes are deprecated. Use packaging.version instead.\n",
            "  if not hasattr(tensorboard, \"__version__\") or LooseVersion(\n"
          ]
        }
      ]
    },
    {
      "cell_type": "code",
      "source": [
        "assert torch.cuda.is_available()"
      ],
      "metadata": {
        "colab": {
          "base_uri": "https://localhost:8080/"
        },
        "id": "LO1XHdh42egd",
        "outputId": "e26faf20-c13f-4f1e-8dc5-f3bc83cf9fa3"
      },
      "execution_count": 3,
      "outputs": [
        {
          "output_type": "stream",
          "name": "stderr",
          "text": [
            "/usr/local/lib/python3.10/dist-packages/ipykernel/ipkernel.py:283: DeprecationWarning: `should_run_async` will not call `transform_cell` automatically in the future. Please pass the result to `transformed_cell` argument and any exception that happen during thetransform in `preprocessing_exc_tuple` in IPython 7.17 and above.\n",
            "  and should_run_async(code)\n"
          ]
        }
      ]
    },
    {
      "cell_type": "markdown",
      "source": [
        "# Display utils\n",
        "The cell below contains the video display configuration. No need to make changes here."
      ],
      "metadata": {
        "id": "J7bJeRHbwMIj"
      }
    },
    {
      "cell_type": "code",
      "source": [
        "def embed_mp4(filename):\n",
        "  \"\"\"Embeds an mp4 file in the notebook.\"\"\"\n",
        "  video = open(filename,'rb').read()\n",
        "  b64 = base64.b64encode(video)\n",
        "  tag = '''\n",
        "  <video width=\"640\" height=\"480\" controls>\n",
        "    <source src=\"data:video/mp4;base64,{0}\" type=\"video/mp4\">\n",
        "  Your browser does not support the video tag.\n",
        "  </video>'''.format(b64.decode())\n",
        "\n",
        "  return IPython.display.HTML(tag)\n",
        "display = pyvirtualdisplay.Display(visible=0, size=(1400, 900)).start()"
      ],
      "metadata": {
        "id": "z41WGwQt9i7_"
      },
      "execution_count": 4,
      "outputs": []
    },
    {
      "cell_type": "markdown",
      "source": [
        "Function - given an environment it will print us the details about observation, actions, agent's position and boxes locations"
      ],
      "metadata": {
        "id": "oyJXH2IO72xF"
      }
    },
    {
      "cell_type": "code",
      "source": [
        "def print_env_det(env):\n",
        "  print(f'Observation space: {env.observation_space}'\n",
        "      f'\\nAction space: {env.action_space}'\n",
        "      f'\\nPlayer position:{env.player_position}'\n",
        "      f'\\nBox location: {find_box_location(env)}')"
      ],
      "metadata": {
        "id": "1UwaHk7t7eIj",
        "colab": {
          "base_uri": "https://localhost:8080/"
        },
        "outputId": "df99bf56-7a93-4201-e7c0-cd787912038c"
      },
      "execution_count": 5,
      "outputs": [
        {
          "output_type": "stream",
          "name": "stderr",
          "text": [
            "/usr/local/lib/python3.10/dist-packages/ipykernel/ipkernel.py:283: DeprecationWarning: `should_run_async` will not call `transform_cell` automatically in the future. Please pass the result to `transformed_cell` argument and any exception that happen during thetransform in `preprocessing_exc_tuple` in IPython 7.17 and above.\n",
            "  and should_run_async(code)\n"
          ]
        }
      ]
    },
    {
      "cell_type": "markdown",
      "source": [
        "Function - given an environment it will return the indexes position and boxes locations"
      ],
      "metadata": {
        "id": "10ndmX86l4LJ"
      }
    },
    {
      "cell_type": "code",
      "source": [
        "def find_box_location(env):\n",
        "    idx = np.argmax(env.room_state == 4)\n",
        "    if env.room_state.flat[idx] == 4:\n",
        "        return np.unravel_index(idx, env.room_state.shape)\n",
        "    return None"
      ],
      "metadata": {
        "id": "1bfAeHJmlufr"
      },
      "execution_count": 6,
      "outputs": []
    },
    {
      "cell_type": "markdown",
      "source": [
        "## EX1 - FIX SCENARIO -  PUSH & PULL - ONE BOX"
      ],
      "metadata": {
        "id": "tDaTYUJ4iufr"
      }
    },
    {
      "cell_type": "code",
      "source": [
        "#=============== DO NOT DELETE ===============\n",
        "random.seed(2)\n",
        "sok = PushAndPullSokobanEnv(dim_room=(7, 7),num_boxes=1 ,max_steps=500)\n",
        "# ============================================"
      ],
      "metadata": {
        "id": "Vqa7N7WS9M8G"
      },
      "execution_count": 7,
      "outputs": []
    },
    {
      "cell_type": "markdown",
      "source": [
        "#Utils"
      ],
      "metadata": {
        "id": "trm1-R3M5Hs6"
      }
    },
    {
      "cell_type": "code",
      "source": [
        "def conv2d_size_out(size, kernel_size=5, stride=2):\n",
        "    return (size - (kernel_size - 1) - 1) // stride + 1\n",
        "\n",
        "h, w, c = sok.observation_space.shape\n",
        "\n",
        "# Capture the initial configuration for fixed environment (Ex1) and reset env method to use after every episode\n",
        "initial_room_state = sok.room_state.copy()\n",
        "initial_room_fixed = sok.room_fixed.copy()\n",
        "initial_player_position = sok.player_position.copy()\n",
        "initial_box_position = find_box_location(sok)\n",
        "\n",
        "\n",
        "def reset_to_initial(env, initial_room_state, initial_room_fixed, initial_player_position, initial_box_position):\n",
        "    env.room_state = initial_room_state.copy()\n",
        "    env.room_fixed = initial_room_fixed.copy()\n",
        "    env.player_position = initial_player_position.copy()\n",
        "\n",
        "    env.room_state[env.room_state == 4] = 2\n",
        "    env.room_state[initial_box_position] = 4\n",
        "\n",
        "    return env.render(mode='rgb_array')\n",
        "\n",
        "\n",
        "def save_checkpoint(filename, policy_model):\n",
        "    checkpoint = {\n",
        "        'policy_model_state_dict': policy_model.state_dict(),\n",
        "    }\n",
        "    torch.save(checkpoint, filename)\n",
        "\n",
        "\n",
        "def load_checkpoint(filename, policy_model, target_model):\n",
        "    checkpoint = torch.load(filename)\n",
        "    policy_model.load_state_dict(checkpoint['policy_model_state_dict'])\n",
        "    target_model.load_state_dict(policy_model.state_dict())\n",
        "    target_model.eval()\n",
        "\n",
        "\n",
        "def plot_model_performance(mean_rewards, mean_lengths):\n",
        "  plt.figure(figsize=(10, 5))\n",
        "  plt.subplot(1, 2, 1)\n",
        "  plt.plot(mean_rewards)\n",
        "  plt.title('Mean Episodic Reward')\n",
        "  plt.xlabel('Episode')\n",
        "  plt.ylabel('Mean Reward')\n",
        "\n",
        "  plt.subplot(1, 2, 2)\n",
        "  plt.plot(mean_lengths)\n",
        "  plt.title('Mean Episodic Length')\n",
        "  plt.xlabel('Episode')\n",
        "  plt.ylabel('Mean Length')\n",
        "\n",
        "  plt.show()"
      ],
      "metadata": {
        "id": "_kVlkVhz5FzQ"
      },
      "execution_count": 8,
      "outputs": []
    },
    {
      "cell_type": "markdown",
      "source": [
        "#DQN Model"
      ],
      "metadata": {
        "id": "z_zQRdDM5IIc"
      }
    },
    {
      "cell_type": "code",
      "source": [
        "# Calculate the dimensions after passing through all the convolutional layers\n",
        "convw = conv2d_size_out(conv2d_size_out(conv2d_size_out(w)))\n",
        "convh = conv2d_size_out(conv2d_size_out(conv2d_size_out(h)))\n",
        "linear_input_size = convw * convh * 32  # 32 is the output channel size of the last conv layer\n",
        "\n",
        "class DQN(nn.Module):\n",
        "    def __init__(self, h, w, outputs):\n",
        "        super(DQN, self).__init__()\n",
        "        self.conv1 = nn.Conv2d(3, 16, kernel_size=5, stride=2)\n",
        "        self.bn1 = nn.BatchNorm2d(16)\n",
        "        self.conv2 = nn.Conv2d(16, 32, kernel_size=5, stride=2)\n",
        "        self.bn2 = nn.BatchNorm2d(32)\n",
        "        self.conv3 = nn.Conv2d(32, 32, kernel_size=5, stride=2)\n",
        "        self.bn3 = nn.BatchNorm2d(32)\n",
        "        self.head = nn.Linear(linear_input_size, outputs)\n",
        "\n",
        "    def forward(self, x):\n",
        "        x = F.relu(self.bn1(self.conv1(x)))\n",
        "        x = F.relu(self.bn2(self.conv2(x)))\n",
        "        x = F.relu(self.bn3(self.conv3(x)))\n",
        "        return self.head(x.view(x.size(0), -1))"
      ],
      "metadata": {
        "id": "f4AjTr4q5F-1"
      },
      "execution_count": 9,
      "outputs": []
    },
    {
      "cell_type": "markdown",
      "source": [
        "#Experience Replay"
      ],
      "metadata": {
        "id": "oYsTbO4o5In4"
      }
    },
    {
      "cell_type": "code",
      "source": [
        "Experience = namedtuple('Experience', ('state', 'action', 'next_state', 'reward', 'done'))\n",
        "class ReplayMemory:\n",
        "    def __init__(self, capacity):\n",
        "        self.buffer = deque(maxlen=capacity)\n",
        "\n",
        "    def push(self, *args):\n",
        "        self.buffer.append(Experience(*args))\n",
        "\n",
        "    def sample(self, batch_size):\n",
        "        return random.sample(self.buffer, batch_size)\n",
        "\n",
        "    def __len__(self):\n",
        "        return len(self.buffer)"
      ],
      "metadata": {
        "id": "fsBpCXaQ5GBj"
      },
      "execution_count": 10,
      "outputs": []
    },
    {
      "cell_type": "markdown",
      "source": [
        "#Training"
      ],
      "metadata": {
        "id": "o8iqKoNP5JLz"
      }
    },
    {
      "cell_type": "code",
      "source": [
        "# Hyperparameters\n",
        "BATCH_SIZE = 256\n",
        "GAMMA = 0.95       #was 0.999\n",
        "EPS_START = 1.0    # was 0.9\n",
        "EPS_END = 0.1      # was 0.05\n",
        "EPS_DECAY = 20000  #was 10,000\n",
        "TARGET_UPDATE = 5\n",
        "\n",
        "# Bad way to update epsilon\n",
        "steps_done = 0\n",
        "\n",
        "# Set up device\n",
        "device = torch.device(\"cuda\" if torch.cuda.is_available() else \"cpu\")\n",
        "\n",
        "\n",
        "# Create the DQN and target network\n",
        "n_actions = sok.action_space.n\n",
        "policy_net = DQN(h, w, n_actions).to(device)\n",
        "target_net = DQN(h, w, n_actions).to(device)\n",
        "\n",
        "# Optimizer and Memory\n",
        "optimizer = optim.RMSprop(policy_net.parameters(), lr=0.001)\n",
        "memory = ReplayMemory(10000)"
      ],
      "metadata": {
        "id": "KpSBjDAI5GJE"
      },
      "execution_count": 11,
      "outputs": []
    },
    {
      "cell_type": "code",
      "source": [
        "def optimize_model():\n",
        "    if len(memory) < BATCH_SIZE:\n",
        "        return\n",
        "    transitions = memory.sample(BATCH_SIZE)\n",
        "    batch = Experience(*zip(*transitions))\n",
        "\n",
        "    non_final_mask = torch.tensor(tuple(map(lambda s: s is not None, batch.next_state)), device=device, dtype=torch.bool)\n",
        "    non_final_next_states = torch.cat([s for s in batch.next_state if s is not None])\n",
        "    state_batch = torch.cat(batch.state)\n",
        "    action_batch = torch.cat(batch.action)\n",
        "    reward_batch = torch.cat(batch.reward)\n",
        "\n",
        "    state_action_values = policy_net(state_batch).gather(1, action_batch)\n",
        "    next_state_values = torch.zeros(BATCH_SIZE, device=device)\n",
        "    next_state_values[non_final_mask] = target_net(non_final_next_states).max(1)[0].detach()\n",
        "    expected_state_action_values = (next_state_values * GAMMA) + reward_batch\n",
        "\n",
        "    loss = F.smooth_l1_loss(state_action_values, expected_state_action_values.unsqueeze(1))\n",
        "    optimizer.zero_grad()\n",
        "    loss.backward()\n",
        "    for param in policy_net.parameters():\n",
        "        param.grad.data.clamp_(-1, 1)\n",
        "    optimizer.step()"
      ],
      "metadata": {
        "id": "clY-x02V5GEO"
      },
      "execution_count": 12,
      "outputs": []
    },
    {
      "cell_type": "code",
      "source": [
        "def select_action(state):\n",
        "    global steps_done\n",
        "    sample = random.random()\n",
        "    eps_threshold = EPS_END + (EPS_START - EPS_END) * math.exp(-1. * steps_done / EPS_DECAY)\n",
        "    steps_done += 1\n",
        "    if sample > eps_threshold:\n",
        "        with torch.no_grad():\n",
        "            return policy_net(state).max(1)[1].view(1, 1)\n",
        "    else:\n",
        "        return torch.tensor([[random.randrange(n_actions)]], device=device, dtype=torch.long)"
      ],
      "metadata": {
        "id": "NcvEQwo0M-Rc"
      },
      "execution_count": 13,
      "outputs": []
    },
    {
      "cell_type": "code",
      "source": [
        "def train_loop(policy_net, target_net, optimizer, memory, max_steps_per_episode=500, num_episodes=100):\n",
        "\n",
        "  total_rewards = 0\n",
        "  total_lengths = 0\n",
        "  mean_rewards = []\n",
        "  mean_lengths = []\n",
        "\n",
        "  for i_episode in tqdm(range(num_episodes)):\n",
        "\n",
        "    episode_reward = 0.0\n",
        "\n",
        "    state_array = reset_to_initial(sok, initial_room_state, initial_room_fixed, initial_player_position, initial_box_position)\n",
        "    state = torch.tensor(state_array.transpose(2, 0, 1), device=device, dtype=torch.float32).unsqueeze(0)\n",
        "\n",
        "    previous_player_position = None\n",
        "\n",
        "    # Save once every 10 episodes\n",
        "    if (i_episode + 1) % 10 == 0:\n",
        "      save_checkpoint(\"DQN-checkpoint-v1-ep\" + str(i_episode), policy_net)\n",
        "\n",
        "    for t in range(max_steps_per_episode):\n",
        "      action = select_action(state)\n",
        "      next_state, reward, done, info = sok.step(action.item())\n",
        "\n",
        "      # Check if the episode ended and was successful\n",
        "      if done and t < 250:\n",
        "        reward += 10\n",
        "\n",
        "      # Check if the box has not moved and penalize\n",
        "      if not info['action.moved_box']:\n",
        "          reward -= 0.1\n",
        "      else:\n",
        "          reward += 0.1\n",
        "\n",
        "      current_player_position = sok.player_position\n",
        "      if np.array_equal(previous_player_position, current_player_position):\n",
        "        reward -= 0.1\n",
        "\n",
        "\n",
        "      previous_player_position = current_player_position\n",
        "      episode_reward += reward\n",
        "\n",
        "      next_state = torch.tensor(next_state.transpose(2, 0, 1), device=device, dtype=torch.float32).unsqueeze(0)\n",
        "      reward = torch.tensor([reward], device=device)\n",
        "      memory.push(state, action, next_state, reward, done)\n",
        "      state = next_state\n",
        "\n",
        "      optimize_model()\n",
        "      if done:\n",
        "          break\n",
        "\n",
        "    total_rewards += episode_reward\n",
        "    total_lengths += t + 1\n",
        "\n",
        "    mean_episodic_reward = total_rewards / (i_episode + 1)\n",
        "    mean_episodic_length = total_lengths / (i_episode + 1)\n",
        "\n",
        "    mean_rewards.append(mean_episodic_reward)\n",
        "    mean_lengths.append(mean_episodic_length)\n",
        "\n",
        "    print()\n",
        "    print(\"=\" * 20 + \"Training Progress \" + \"Episode \" + str(i_episode + 1) + \"=\" * 20)\n",
        "    print(\"Mean Episode Reward: \", mean_episodic_reward)\n",
        "    print(\"Mean Episode Length: \", mean_episodic_length)\n",
        "    print(f\"Current Episode Reward: {episode_reward}\")\n",
        "    print(f\"Current Episode Length: {t + 1}\")\n",
        "\n",
        "    print()\n",
        "\n",
        "\n",
        "\n",
        "    if i_episode % TARGET_UPDATE == 0:\n",
        "        target_net.load_state_dict(policy_net.state_dict())\n",
        "\n",
        "  return mean_rewards, mean_lengths"
      ],
      "metadata": {
        "id": "Ed8JDChW5GGy",
        "colab": {
          "base_uri": "https://localhost:8080/"
        },
        "outputId": "8c6dc386-c28e-44e0-dc99-dc20584dab82"
      },
      "execution_count": 16,
      "outputs": [
        {
          "output_type": "stream",
          "name": "stderr",
          "text": [
            "/usr/local/lib/python3.10/dist-packages/ipykernel/ipkernel.py:283: DeprecationWarning: `should_run_async` will not call `transform_cell` automatically in the future. Please pass the result to `transformed_cell` argument and any exception that happen during thetransform in `preprocessing_exc_tuple` in IPython 7.17 and above.\n",
            "  and should_run_async(code)\n"
          ]
        }
      ]
    },
    {
      "cell_type": "markdown",
      "source": [
        "# Train Model"
      ],
      "metadata": {
        "id": "EBpRmdfz0I8X"
      }
    },
    {
      "cell_type": "code",
      "source": [
        "mean_rewards, mean_lengths = train_loop(policy_net, target_net, optimizer, memory, max_steps_per_episode=500, num_episodes=100)"
      ],
      "metadata": {
        "colab": {
          "base_uri": "https://localhost:8080/"
        },
        "id": "chMCyINF0IXe",
        "outputId": "7c4a87c8-10ee-41f5-ae15-aec5f80e2368"
      },
      "execution_count": 17,
      "outputs": [
        {
          "output_type": "stream",
          "name": "stderr",
          "text": [
            "  1%|          | 1/100 [00:17<28:42, 17.40s/it]"
          ]
        },
        {
          "output_type": "stream",
          "name": "stdout",
          "text": [
            "\n",
            "====================Training Progress Episode 1====================\n",
            "Mean Episode Reward:  -116.20000000000037\n",
            "Mean Episode Length:  499.0\n",
            "Current Episode Reward: -116.20000000000037\n",
            "Current Episode Length: 499\n",
            "\n"
          ]
        },
        {
          "output_type": "stream",
          "name": "stderr",
          "text": [
            "\r  2%|▏         | 2/100 [00:34<28:19, 17.34s/it]"
          ]
        },
        {
          "output_type": "stream",
          "name": "stdout",
          "text": [
            "\n",
            "====================Training Progress Episode 2====================\n",
            "Mean Episode Reward:  -115.35000000000026\n",
            "Mean Episode Length:  499.5\n",
            "Current Episode Reward: -114.50000000000016\n",
            "Current Episode Length: 500\n",
            "\n"
          ]
        },
        {
          "output_type": "stream",
          "name": "stderr",
          "text": [
            "\r  3%|▎         | 3/100 [00:52<28:23, 17.56s/it]"
          ]
        },
        {
          "output_type": "stream",
          "name": "stdout",
          "text": [
            "\n",
            "====================Training Progress Episode 3====================\n",
            "Mean Episode Reward:  -115.63333333333355\n",
            "Mean Episode Length:  499.6666666666667\n",
            "Current Episode Reward: -116.20000000000014\n",
            "Current Episode Length: 500\n",
            "\n"
          ]
        },
        {
          "output_type": "stream",
          "name": "stderr",
          "text": [
            "\r  4%|▍         | 4/100 [01:10<28:31, 17.83s/it]"
          ]
        },
        {
          "output_type": "stream",
          "name": "stdout",
          "text": [
            "\n",
            "====================Training Progress Episode 4====================\n",
            "Mean Episode Reward:  -116.50000000000013\n",
            "Mean Episode Length:  499.75\n",
            "Current Episode Reward: -119.09999999999987\n",
            "Current Episode Length: 500\n",
            "\n"
          ]
        },
        {
          "output_type": "stream",
          "name": "stderr",
          "text": [
            "\r  5%|▌         | 5/100 [01:21<24:07, 15.24s/it]"
          ]
        },
        {
          "output_type": "stream",
          "name": "stdout",
          "text": [
            "\n",
            "====================Training Progress Episode 5====================\n",
            "Mean Episode Reward:  -103.9800000000001\n",
            "Mean Episode Length:  458.8\n",
            "Current Episode Reward: -53.90000000000009\n",
            "Current Episode Length: 295\n",
            "\n"
          ]
        },
        {
          "output_type": "stream",
          "name": "stderr",
          "text": [
            "\r  6%|▌         | 6/100 [01:40<25:56, 16.56s/it]"
          ]
        },
        {
          "output_type": "stream",
          "name": "stdout",
          "text": [
            "\n",
            "====================Training Progress Episode 6====================\n",
            "Mean Episode Reward:  -105.55000000000013\n",
            "Mean Episode Length:  465.6666666666667\n",
            "Current Episode Reward: -113.40000000000025\n",
            "Current Episode Length: 500\n",
            "\n"
          ]
        },
        {
          "output_type": "stream",
          "name": "stderr",
          "text": [
            "\r  7%|▋         | 7/100 [01:51<22:58, 14.82s/it]"
          ]
        },
        {
          "output_type": "stream",
          "name": "stdout",
          "text": [
            "\n",
            "====================Training Progress Episode 7====================\n",
            "Mean Episode Reward:  -99.00000000000013\n",
            "Mean Episode Length:  444.57142857142856\n",
            "Current Episode Reward: -59.70000000000012\n",
            "Current Episode Length: 318\n",
            "\n"
          ]
        },
        {
          "output_type": "stream",
          "name": "stderr",
          "text": [
            "\r  8%|▊         | 8/100 [02:09<24:08, 15.75s/it]"
          ]
        },
        {
          "output_type": "stream",
          "name": "stdout",
          "text": [
            "\n",
            "====================Training Progress Episode 8====================\n",
            "Mean Episode Reward:  -100.71250000000015\n",
            "Mean Episode Length:  451.5\n",
            "Current Episode Reward: -112.70000000000022\n",
            "Current Episode Length: 500\n",
            "\n"
          ]
        },
        {
          "output_type": "stream",
          "name": "stderr",
          "text": [
            "\r  9%|▉         | 9/100 [02:13<18:15, 12.04s/it]"
          ]
        },
        {
          "output_type": "stream",
          "name": "stdout",
          "text": [
            "\n",
            "====================Training Progress Episode 9====================\n",
            "Mean Episode Reward:  -89.90000000000013\n",
            "Mean Episode Length:  413.55555555555554\n",
            "Current Episode Reward: -3.399999999999995\n",
            "Current Episode Length: 110\n",
            "\n"
          ]
        },
        {
          "output_type": "stream",
          "name": "stderr",
          "text": [
            "\r 10%|█         | 10/100 [02:24<17:24, 11.61s/it]"
          ]
        },
        {
          "output_type": "stream",
          "name": "stdout",
          "text": [
            "\n",
            "====================Training Progress Episode 10====================\n",
            "Mean Episode Reward:  -86.26000000000013\n",
            "Mean Episode Length:  401.8\n",
            "Current Episode Reward: -53.50000000000013\n",
            "Current Episode Length: 296\n",
            "\n"
          ]
        },
        {
          "output_type": "stream",
          "name": "stderr",
          "text": [
            "\r 11%|█         | 11/100 [02:33<16:04, 10.84s/it]"
          ]
        },
        {
          "output_type": "stream",
          "name": "stdout",
          "text": [
            "\n",
            "====================Training Progress Episode 11====================\n",
            "Mean Episode Reward:  -82.6818181818183\n",
            "Mean Episode Length:  388.45454545454544\n",
            "Current Episode Reward: -46.90000000000012\n",
            "Current Episode Length: 255\n",
            "\n"
          ]
        },
        {
          "output_type": "stream",
          "name": "stderr",
          "text": [
            "\r 12%|█▏        | 12/100 [02:39<13:42,  9.34s/it]"
          ]
        },
        {
          "output_type": "stream",
          "name": "stdout",
          "text": [
            "\n",
            "====================Training Progress Episode 12====================\n",
            "Mean Episode Reward:  -77.22500000000012\n",
            "Mean Episode Length:  369.9166666666667\n",
            "Current Episode Reward: -17.20000000000004\n",
            "Current Episode Length: 166\n",
            "\n"
          ]
        },
        {
          "output_type": "stream",
          "name": "stderr",
          "text": [
            "\r 13%|█▎        | 13/100 [02:56<17:17, 11.92s/it]"
          ]
        },
        {
          "output_type": "stream",
          "name": "stdout",
          "text": [
            "\n",
            "====================Training Progress Episode 13====================\n",
            "Mean Episode Reward:  -79.7615384615386\n",
            "Mean Episode Length:  379.9230769230769\n",
            "Current Episode Reward: -110.20000000000041\n",
            "Current Episode Length: 500\n",
            "\n"
          ]
        },
        {
          "output_type": "stream",
          "name": "stderr",
          "text": [
            "\r 14%|█▍        | 14/100 [03:14<19:39, 13.71s/it]"
          ]
        },
        {
          "output_type": "stream",
          "name": "stdout",
          "text": [
            "\n",
            "====================Training Progress Episode 14====================\n",
            "Mean Episode Reward:  -82.09285714285731\n",
            "Mean Episode Length:  388.5\n",
            "Current Episode Reward: -112.40000000000045\n",
            "Current Episode Length: 500\n",
            "\n"
          ]
        },
        {
          "output_type": "stream",
          "name": "stderr",
          "text": [
            "\r 15%|█▌        | 15/100 [03:28<19:36, 13.84s/it]"
          ]
        },
        {
          "output_type": "stream",
          "name": "stdout",
          "text": [
            "\n",
            "====================Training Progress Episode 15====================\n",
            "Mean Episode Reward:  -81.61333333333351\n",
            "Mean Episode Length:  388.8666666666667\n",
            "Current Episode Reward: -74.90000000000026\n",
            "Current Episode Length: 394\n",
            "\n"
          ]
        },
        {
          "output_type": "stream",
          "name": "stderr",
          "text": [
            "\r 16%|█▌        | 16/100 [03:46<21:02, 15.03s/it]"
          ]
        },
        {
          "output_type": "stream",
          "name": "stdout",
          "text": [
            "\n",
            "====================Training Progress Episode 16====================\n",
            "Mean Episode Reward:  -83.3500000000002\n",
            "Mean Episode Length:  395.8125\n",
            "Current Episode Reward: -109.40000000000028\n",
            "Current Episode Length: 500\n",
            "\n"
          ]
        },
        {
          "output_type": "stream",
          "name": "stderr",
          "text": [
            "\r 17%|█▋        | 17/100 [04:04<22:04, 15.96s/it]"
          ]
        },
        {
          "output_type": "stream",
          "name": "stdout",
          "text": [
            "\n",
            "====================Training Progress Episode 17====================\n",
            "Mean Episode Reward:  -84.8294117647061\n",
            "Mean Episode Length:  401.94117647058823\n",
            "Current Episode Reward: -108.50000000000055\n",
            "Current Episode Length: 500\n",
            "\n"
          ]
        },
        {
          "output_type": "stream",
          "name": "stderr",
          "text": [
            "\r 18%|█▊        | 18/100 [04:06<16:07, 11.80s/it]"
          ]
        },
        {
          "output_type": "stream",
          "name": "stdout",
          "text": [
            "\n",
            "====================Training Progress Episode 18====================\n",
            "Mean Episode Reward:  -79.63333333333352\n",
            "Mean Episode Length:  382.94444444444446\n",
            "Current Episode Reward: 8.700000000000001\n",
            "Current Episode Length: 60\n",
            "\n"
          ]
        },
        {
          "output_type": "stream",
          "name": "stderr",
          "text": [
            "\r 19%|█▉        | 19/100 [04:24<18:22, 13.61s/it]"
          ]
        },
        {
          "output_type": "stream",
          "name": "stdout",
          "text": [
            "\n",
            "====================Training Progress Episode 19====================\n",
            "Mean Episode Reward:  -81.2263157894739\n",
            "Mean Episode Length:  389.10526315789474\n",
            "Current Episode Reward: -109.9000000000005\n",
            "Current Episode Length: 500\n",
            "\n"
          ]
        },
        {
          "output_type": "stream",
          "name": "stderr",
          "text": [
            "\r 20%|██        | 20/100 [04:36<17:35, 13.20s/it]"
          ]
        },
        {
          "output_type": "stream",
          "name": "stdout",
          "text": [
            "\n",
            "====================Training Progress Episode 20====================\n",
            "Mean Episode Reward:  -80.33000000000021\n",
            "Mean Episode Length:  386.85\n",
            "Current Episode Reward: -63.30000000000017\n",
            "Current Episode Length: 344\n",
            "\n"
          ]
        },
        {
          "output_type": "stream",
          "name": "stderr",
          "text": [
            "\r 21%|██        | 21/100 [04:39<13:03,  9.91s/it]"
          ]
        },
        {
          "output_type": "stream",
          "name": "stdout",
          "text": [
            "\n",
            "====================Training Progress Episode 21====================\n",
            "Mean Episode Reward:  -76.16666666666687\n",
            "Mean Episode Length:  371.3809523809524\n",
            "Current Episode Reward: 7.10000000000001\n",
            "Current Episode Length: 62\n",
            "\n"
          ]
        },
        {
          "output_type": "stream",
          "name": "stderr",
          "text": [
            "\r 22%|██▏       | 22/100 [04:53<14:30, 11.17s/it]"
          ]
        },
        {
          "output_type": "stream",
          "name": "stdout",
          "text": [
            "\n",
            "====================Training Progress Episode 22====================\n",
            "Mean Episode Reward:  -76.14545454545475\n",
            "Mean Episode Length:  372.45454545454544\n",
            "Current Episode Reward: -75.7000000000003\n",
            "Current Episode Length: 395\n",
            "\n"
          ]
        },
        {
          "output_type": "stream",
          "name": "stderr",
          "text": [
            "\r 23%|██▎       | 23/100 [05:01<13:00, 10.14s/it]"
          ]
        },
        {
          "output_type": "stream",
          "name": "stdout",
          "text": [
            "\n",
            "====================Training Progress Episode 23====================\n",
            "Mean Episode Reward:  -73.95217391304368\n",
            "Mean Episode Length:  365.60869565217394\n",
            "Current Episode Reward: -25.70000000000003\n",
            "Current Episode Length: 215\n",
            "\n"
          ]
        },
        {
          "output_type": "stream",
          "name": "stderr",
          "text": [
            "\r 24%|██▍       | 24/100 [05:02<09:37,  7.60s/it]"
          ]
        },
        {
          "output_type": "stream",
          "name": "stdout",
          "text": [
            "\n",
            "====================Training Progress Episode 24====================\n",
            "Mean Episode Reward:  -70.34166666666685\n",
            "Mean Episode Length:  351.9583333333333\n",
            "Current Episode Reward: 12.699999999999998\n",
            "Current Episode Length: 38\n",
            "\n"
          ]
        },
        {
          "output_type": "stream",
          "name": "stderr",
          "text": [
            "\r 25%|██▌       | 25/100 [05:15<11:29,  9.19s/it]"
          ]
        },
        {
          "output_type": "stream",
          "name": "stdout",
          "text": [
            "\n",
            "====================Training Progress Episode 25====================\n",
            "Mean Episode Reward:  -70.3960000000002\n",
            "Mean Episode Length:  352.32\n",
            "Current Episode Reward: -71.70000000000019\n",
            "Current Episode Length: 361\n",
            "\n"
          ]
        },
        {
          "output_type": "stream",
          "name": "stderr",
          "text": [
            "\r 26%|██▌       | 26/100 [05:20<09:52,  8.00s/it]"
          ]
        },
        {
          "output_type": "stream",
          "name": "stdout",
          "text": [
            "\n",
            "====================Training Progress Episode 26====================\n",
            "Mean Episode Reward:  -68.13846153846173\n",
            "Mean Episode Length:  344.4230769230769\n",
            "Current Episode Reward: -11.699999999999989\n",
            "Current Episode Length: 147\n",
            "\n"
          ]
        },
        {
          "output_type": "stream",
          "name": "stderr",
          "text": [
            "\r 27%|██▋       | 27/100 [05:38<13:21, 10.97s/it]"
          ]
        },
        {
          "output_type": "stream",
          "name": "stdout",
          "text": [
            "\n",
            "====================Training Progress Episode 27====================\n",
            "Mean Episode Reward:  -69.67037037037056\n",
            "Mean Episode Length:  350.18518518518516\n",
            "Current Episode Reward: -109.5000000000004\n",
            "Current Episode Length: 500\n",
            "\n"
          ]
        },
        {
          "output_type": "stream",
          "name": "stderr",
          "text": [
            "\r 28%|██▊       | 28/100 [05:56<15:39, 13.05s/it]"
          ]
        },
        {
          "output_type": "stream",
          "name": "stdout",
          "text": [
            "\n",
            "====================Training Progress Episode 28====================\n",
            "Mean Episode Reward:  -71.2357142857145\n",
            "Mean Episode Length:  355.5357142857143\n",
            "Current Episode Reward: -113.50000000000038\n",
            "Current Episode Length: 500\n",
            "\n"
          ]
        },
        {
          "output_type": "stream",
          "name": "stderr",
          "text": [
            "\r 29%|██▉       | 29/100 [06:01<12:32, 10.59s/it]"
          ]
        },
        {
          "output_type": "stream",
          "name": "stdout",
          "text": [
            "\n",
            "====================Training Progress Episode 29====================\n",
            "Mean Episode Reward:  -69.0551724137933\n",
            "Mean Episode Length:  348.0\n",
            "Current Episode Reward: -7.999999999999982\n",
            "Current Episode Length: 137\n",
            "\n"
          ]
        },
        {
          "output_type": "stream",
          "name": "stderr",
          "text": [
            "\r 30%|███       | 30/100 [06:05<10:00,  8.57s/it]"
          ]
        },
        {
          "output_type": "stream",
          "name": "stdout",
          "text": [
            "\n",
            "====================Training Progress Episode 30====================\n",
            "Mean Episode Reward:  -66.8800000000002\n",
            "Mean Episode Length:  339.96666666666664\n",
            "Current Episode Reward: -3.7999999999999936\n",
            "Current Episode Length: 107\n",
            "\n"
          ]
        },
        {
          "output_type": "stream",
          "name": "stderr",
          "text": [
            "\r 31%|███       | 31/100 [06:11<09:00,  7.84s/it]"
          ]
        },
        {
          "output_type": "stream",
          "name": "stdout",
          "text": [
            "\n",
            "====================Training Progress Episode 31====================\n",
            "Mean Episode Reward:  -65.23548387096793\n",
            "Mean Episode Length:  334.5483870967742\n",
            "Current Episode Reward: -15.900000000000006\n",
            "Current Episode Length: 172\n",
            "\n"
          ]
        },
        {
          "output_type": "stream",
          "name": "stderr",
          "text": [
            "\r 32%|███▏      | 32/100 [06:17<08:10,  7.22s/it]"
          ]
        },
        {
          "output_type": "stream",
          "name": "stdout",
          "text": [
            "\n",
            "====================Training Progress Episode 32====================\n",
            "Mean Episode Reward:  -63.65312500000018\n",
            "Mean Episode Length:  329.125\n",
            "Current Episode Reward: -14.599999999999987\n",
            "Current Episode Length: 161\n",
            "\n"
          ]
        },
        {
          "output_type": "stream",
          "name": "stderr",
          "text": [
            "\r 33%|███▎      | 33/100 [06:20<06:48,  6.10s/it]"
          ]
        },
        {
          "output_type": "stream",
          "name": "stdout",
          "text": [
            "\n",
            "====================Training Progress Episode 33====================\n",
            "Mean Episode Reward:  -61.706060606060774\n",
            "Mean Episode Length:  322.09090909090907\n",
            "Current Episode Reward: 0.6000000000000334\n",
            "Current Episode Length: 97\n",
            "\n"
          ]
        },
        {
          "output_type": "stream",
          "name": "stderr",
          "text": [
            "\r 34%|███▍      | 34/100 [06:23<05:41,  5.17s/it]"
          ]
        },
        {
          "output_type": "stream",
          "name": "stdout",
          "text": [
            "\n",
            "====================Training Progress Episode 34====================\n",
            "Mean Episode Reward:  -59.80882352941193\n",
            "Mean Episode Length:  315.11764705882354\n",
            "Current Episode Reward: 2.8000000000000185\n",
            "Current Episode Length: 85\n",
            "\n"
          ]
        },
        {
          "output_type": "stream",
          "name": "stderr",
          "text": [
            "\r 35%|███▌      | 35/100 [06:30<06:03,  5.60s/it]"
          ]
        },
        {
          "output_type": "stream",
          "name": "stdout",
          "text": [
            "\n",
            "====================Training Progress Episode 35====================\n",
            "Mean Episode Reward:  -58.73142857142874\n",
            "Mean Episode Length:  311.37142857142857\n",
            "Current Episode Reward: -22.10000000000008\n",
            "Current Episode Length: 184\n",
            "\n"
          ]
        },
        {
          "output_type": "stream",
          "name": "stderr",
          "text": [
            "\r 36%|███▌      | 36/100 [06:32<04:43,  4.44s/it]"
          ]
        },
        {
          "output_type": "stream",
          "name": "stdout",
          "text": [
            "\n",
            "====================Training Progress Episode 36====================\n",
            "Mean Episode Reward:  -56.80833333333349\n",
            "Mean Episode Length:  304.05555555555554\n",
            "Current Episode Reward: 10.500000000000005\n",
            "Current Episode Length: 48\n",
            "\n"
          ]
        },
        {
          "output_type": "stream",
          "name": "stderr",
          "text": [
            "\r 37%|███▋      | 37/100 [06:35<04:23,  4.18s/it]"
          ]
        },
        {
          "output_type": "stream",
          "name": "stdout",
          "text": [
            "\n",
            "====================Training Progress Episode 37====================\n",
            "Mean Episode Reward:  -55.31351351351367\n",
            "Mean Episode Length:  298.56756756756755\n",
            "Current Episode Reward: -1.4999999999999822\n",
            "Current Episode Length: 101\n",
            "\n"
          ]
        },
        {
          "output_type": "stream",
          "name": "stderr",
          "text": [
            "\r 38%|███▊      | 38/100 [06:36<03:16,  3.17s/it]"
          ]
        },
        {
          "output_type": "stream",
          "name": "stdout",
          "text": [
            "\n",
            "====================Training Progress Episode 38====================\n",
            "Mean Episode Reward:  -53.44210526315805\n",
            "Mean Episode Length:  291.3157894736842\n",
            "Current Episode Reward: 15.799999999999999\n",
            "Current Episode Length: 23\n",
            "\n"
          ]
        },
        {
          "output_type": "stream",
          "name": "stderr",
          "text": [
            "\r 39%|███▉      | 39/100 [06:37<02:41,  2.65s/it]"
          ]
        },
        {
          "output_type": "stream",
          "name": "stdout",
          "text": [
            "\n",
            "====================Training Progress Episode 39====================\n",
            "Mean Episode Reward:  -51.756410256410405\n",
            "Mean Episode Length:  284.87179487179486\n",
            "Current Episode Reward: 12.299999999999999\n",
            "Current Episode Length: 40\n",
            "\n"
          ]
        },
        {
          "output_type": "stream",
          "name": "stderr",
          "text": [
            "\r 40%|████      | 40/100 [06:40<02:31,  2.53s/it]"
          ]
        },
        {
          "output_type": "stream",
          "name": "stdout",
          "text": [
            "\n",
            "====================Training Progress Episode 40====================\n",
            "Mean Episode Reward:  -50.27500000000015\n",
            "Mean Episode Length:  279.325\n",
            "Current Episode Reward: 7.500000000000005\n",
            "Current Episode Length: 63\n",
            "\n"
          ]
        },
        {
          "output_type": "stream",
          "name": "stderr",
          "text": [
            "\r 41%|████      | 41/100 [06:42<02:20,  2.38s/it]"
          ]
        },
        {
          "output_type": "stream",
          "name": "stdout",
          "text": [
            "\n",
            "====================Training Progress Episode 41====================\n",
            "Mean Episode Reward:  -48.83170731707331\n",
            "Mean Episode Length:  273.8780487804878\n",
            "Current Episode Reward: 8.899999999999997\n",
            "Current Episode Length: 56\n",
            "\n"
          ]
        },
        {
          "output_type": "stream",
          "name": "stderr",
          "text": [
            "\r 42%|████▏     | 42/100 [06:44<02:12,  2.28s/it]"
          ]
        },
        {
          "output_type": "stream",
          "name": "stdout",
          "text": [
            "\n",
            "====================Training Progress Episode 42====================\n",
            "Mean Episode Reward:  -47.47142857142871\n",
            "Mean Episode Length:  268.7142857142857\n",
            "Current Episode Reward: 8.300000000000004\n",
            "Current Episode Length: 57\n",
            "\n"
          ]
        },
        {
          "output_type": "stream",
          "name": "stderr",
          "text": [
            "\r 43%|████▎     | 43/100 [06:45<01:46,  1.88s/it]"
          ]
        },
        {
          "output_type": "stream",
          "name": "stdout",
          "text": [
            "\n",
            "====================Training Progress Episode 43====================\n",
            "Mean Episode Reward:  -46.004651162790836\n",
            "Mean Episode Length:  263.06976744186045\n",
            "Current Episode Reward: 15.6\n",
            "Current Episode Length: 26\n",
            "\n"
          ]
        },
        {
          "output_type": "stream",
          "name": "stderr",
          "text": [
            "\r 44%|████▍     | 44/100 [06:46<01:36,  1.72s/it]"
          ]
        },
        {
          "output_type": "stream",
          "name": "stdout",
          "text": [
            "\n",
            "====================Training Progress Episode 44====================\n",
            "Mean Episode Reward:  -44.63636363636377\n",
            "Mean Episode Length:  257.95454545454544\n",
            "Current Episode Reward: 14.2\n",
            "Current Episode Length: 38\n",
            "\n"
          ]
        },
        {
          "output_type": "stream",
          "name": "stderr",
          "text": [
            "\r 45%|████▌     | 45/100 [06:48<01:30,  1.65s/it]"
          ]
        },
        {
          "output_type": "stream",
          "name": "stdout",
          "text": [
            "\n",
            "====================Training Progress Episode 45====================\n",
            "Mean Episode Reward:  -43.37777777777791\n",
            "Mean Episode Length:  253.15555555555557\n",
            "Current Episode Reward: 11.999999999999998\n",
            "Current Episode Length: 42\n",
            "\n"
          ]
        },
        {
          "output_type": "stream",
          "name": "stderr",
          "text": [
            "\r 46%|████▌     | 46/100 [06:51<01:51,  2.07s/it]"
          ]
        },
        {
          "output_type": "stream",
          "name": "stdout",
          "text": [
            "\n",
            "====================Training Progress Episode 46====================\n",
            "Mean Episode Reward:  -42.37173913043491\n",
            "Mean Episode Length:  249.52173913043478\n",
            "Current Episode Reward: 2.9000000000000057\n",
            "Current Episode Length: 86\n",
            "\n"
          ]
        },
        {
          "output_type": "stream",
          "name": "stderr",
          "text": [
            "\r 47%|████▋     | 47/100 [06:51<01:30,  1.71s/it]"
          ]
        },
        {
          "output_type": "stream",
          "name": "stdout",
          "text": [
            "\n",
            "====================Training Progress Episode 47====================\n",
            "Mean Episode Reward:  -41.129787234042674\n",
            "Mean Episode Length:  244.72340425531914\n",
            "Current Episode Reward: 15.999999999999998\n",
            "Current Episode Length: 24\n",
            "\n"
          ]
        },
        {
          "output_type": "stream",
          "name": "stderr",
          "text": [
            "\r 48%|████▊     | 48/100 [06:53<01:22,  1.58s/it]"
          ]
        },
        {
          "output_type": "stream",
          "name": "stdout",
          "text": [
            "\n",
            "====================Training Progress Episode 48====================\n",
            "Mean Episode Reward:  -39.99791666666679\n",
            "Mean Episode Length:  240.375\n",
            "Current Episode Reward: 13.199999999999996\n",
            "Current Episode Length: 36\n",
            "\n"
          ]
        },
        {
          "output_type": "stream",
          "name": "stderr",
          "text": [
            "\r 49%|████▉     | 49/100 [07:04<03:45,  4.43s/it]"
          ]
        },
        {
          "output_type": "stream",
          "name": "stdout",
          "text": [
            "\n",
            "====================Training Progress Episode 49====================\n",
            "Mean Episode Reward:  -40.300000000000125\n",
            "Mean Episode Length:  241.77551020408163\n",
            "Current Episode Reward: -54.80000000000017\n",
            "Current Episode Length: 309\n",
            "\n"
          ]
        },
        {
          "output_type": "stream",
          "name": "stderr",
          "text": [
            "\r 50%|█████     | 50/100 [07:05<02:47,  3.35s/it]"
          ]
        },
        {
          "output_type": "stream",
          "name": "stdout",
          "text": [
            "\n",
            "====================Training Progress Episode 50====================\n",
            "Mean Episode Reward:  -39.17200000000012\n",
            "Mean Episode Length:  237.42\n",
            "Current Episode Reward: 16.099999999999998\n",
            "Current Episode Length: 24\n",
            "\n"
          ]
        },
        {
          "output_type": "stream",
          "name": "stderr",
          "text": [
            "\r 51%|█████     | 51/100 [07:06<02:16,  2.78s/it]"
          ]
        },
        {
          "output_type": "stream",
          "name": "stdout",
          "text": [
            "\n",
            "====================Training Progress Episode 51====================\n",
            "Mean Episode Reward:  -38.16470588235306\n",
            "Mean Episode Length:  233.54901960784315\n",
            "Current Episode Reward: 12.199999999999998\n",
            "Current Episode Length: 40\n",
            "\n"
          ]
        },
        {
          "output_type": "stream",
          "name": "stderr",
          "text": [
            "\r 52%|█████▏    | 52/100 [07:07<01:51,  2.31s/it]"
          ]
        },
        {
          "output_type": "stream",
          "name": "stdout",
          "text": [
            "\n",
            "====================Training Progress Episode 52====================\n",
            "Mean Episode Reward:  -37.17115384615396\n",
            "Mean Episode Length:  229.69230769230768\n",
            "Current Episode Reward: 13.499999999999998\n",
            "Current Episode Length: 33\n",
            "\n"
          ]
        },
        {
          "output_type": "stream",
          "name": "stderr",
          "text": [
            "\r 53%|█████▎    | 53/100 [07:11<02:02,  2.61s/it]"
          ]
        },
        {
          "output_type": "stream",
          "name": "stdout",
          "text": [
            "\n",
            "====================Training Progress Episode 53====================\n",
            "Mean Episode Reward:  -36.45471698113219\n",
            "Mean Episode Length:  227.0943396226415\n",
            "Current Episode Reward: 0.8000000000000149\n",
            "Current Episode Length: 92\n",
            "\n"
          ]
        },
        {
          "output_type": "stream",
          "name": "stderr",
          "text": [
            "\r 54%|█████▍    | 54/100 [07:12<01:40,  2.19s/it]"
          ]
        },
        {
          "output_type": "stream",
          "name": "stdout",
          "text": [
            "\n",
            "====================Training Progress Episode 54====================\n",
            "Mean Episode Reward:  -35.54444444444456\n",
            "Mean Episode Length:  223.5185185185185\n",
            "Current Episode Reward: 12.7\n",
            "Current Episode Length: 34\n",
            "\n"
          ]
        },
        {
          "output_type": "stream",
          "name": "stderr",
          "text": [
            "\r 55%|█████▌    | 55/100 [07:12<01:16,  1.70s/it]"
          ]
        },
        {
          "output_type": "stream",
          "name": "stdout",
          "text": [
            "\n",
            "====================Training Progress Episode 55====================\n",
            "Mean Episode Reward:  -34.58363636363647\n",
            "Mean Episode Length:  219.74545454545455\n",
            "Current Episode Reward: 17.3\n",
            "Current Episode Length: 16\n",
            "\n"
          ]
        },
        {
          "output_type": "stream",
          "name": "stderr",
          "text": [
            "\r 56%|█████▌    | 56/100 [07:15<01:26,  1.97s/it]"
          ]
        },
        {
          "output_type": "stream",
          "name": "stdout",
          "text": [
            "\n",
            "====================Training Progress Episode 56====================\n",
            "Mean Episode Reward:  -33.87857142857153\n",
            "Mean Episode Length:  217.125\n",
            "Current Episode Reward: 4.900000000000013\n",
            "Current Episode Length: 73\n",
            "\n"
          ]
        },
        {
          "output_type": "stream",
          "name": "stderr",
          "text": [
            "\r 57%|█████▋    | 57/100 [07:17<01:25,  1.99s/it]"
          ]
        },
        {
          "output_type": "stream",
          "name": "stdout",
          "text": [
            "\n",
            "====================Training Progress Episode 57====================\n",
            "Mean Episode Reward:  -33.129824561403616\n",
            "Mean Episode Length:  214.31578947368422\n",
            "Current Episode Reward: 8.800000000000011\n",
            "Current Episode Length: 57\n",
            "\n"
          ]
        },
        {
          "output_type": "stream",
          "name": "stderr",
          "text": [
            "\r 58%|█████▊    | 58/100 [07:18<01:14,  1.77s/it]"
          ]
        },
        {
          "output_type": "stream",
          "name": "stdout",
          "text": [
            "\n",
            "====================Training Progress Episode 58====================\n",
            "Mean Episode Reward:  -32.320689655172515\n",
            "Mean Episode Length:  211.22413793103448\n",
            "Current Episode Reward: 13.799999999999997\n",
            "Current Episode Length: 35\n",
            "\n"
          ]
        },
        {
          "output_type": "stream",
          "name": "stderr",
          "text": [
            "\r 59%|█████▉    | 59/100 [07:20<01:11,  1.74s/it]"
          ]
        },
        {
          "output_type": "stream",
          "name": "stdout",
          "text": [
            "\n",
            "====================Training Progress Episode 59====================\n",
            "Mean Episode Reward:  -31.579661016949252\n",
            "Mean Episode Length:  208.40677966101694\n",
            "Current Episode Reward: 11.4\n",
            "Current Episode Length: 45\n",
            "\n"
          ]
        },
        {
          "output_type": "stream",
          "name": "stderr",
          "text": [
            "\r 60%|██████    | 60/100 [07:22<01:09,  1.75s/it]"
          ]
        },
        {
          "output_type": "stream",
          "name": "stdout",
          "text": [
            "\n",
            "====================Training Progress Episode 60====================\n",
            "Mean Episode Reward:  -30.8650000000001\n",
            "Mean Episode Length:  205.75\n",
            "Current Episode Reward: 11.299999999999999\n",
            "Current Episode Length: 49\n",
            "\n"
          ]
        },
        {
          "output_type": "stream",
          "name": "stderr",
          "text": [
            "\r 61%|██████    | 61/100 [07:23<01:07,  1.74s/it]"
          ]
        },
        {
          "output_type": "stream",
          "name": "stdout",
          "text": [
            "\n",
            "====================Training Progress Episode 61====================\n",
            "Mean Episode Reward:  -30.181967213114852\n",
            "Mean Episode Length:  203.1639344262295\n",
            "Current Episode Reward: 10.800000000000004\n",
            "Current Episode Length: 48\n",
            "\n"
          ]
        },
        {
          "output_type": "stream",
          "name": "stderr",
          "text": [
            "\r 62%|██████▏   | 62/100 [07:25<01:08,  1.81s/it]"
          ]
        },
        {
          "output_type": "stream",
          "name": "stdout",
          "text": [
            "\n",
            "====================Training Progress Episode 62====================\n",
            "Mean Episode Reward:  -29.561290322580742\n",
            "Mean Episode Length:  200.79032258064515\n",
            "Current Episode Reward: 8.300000000000004\n",
            "Current Episode Length: 56\n",
            "\n"
          ]
        },
        {
          "output_type": "stream",
          "name": "stderr",
          "text": [
            "\r 63%|██████▎   | 63/100 [07:30<01:32,  2.50s/it]"
          ]
        },
        {
          "output_type": "stream",
          "name": "stdout",
          "text": [
            "\n",
            "====================Training Progress Episode 63====================\n",
            "Mean Episode Reward:  -29.13174603174613\n",
            "Mean Episode Length:  199.4126984126984\n",
            "Current Episode Reward: -2.4999999999999645\n",
            "Current Episode Length: 114\n",
            "\n"
          ]
        },
        {
          "output_type": "stream",
          "name": "stderr",
          "text": [
            "\r 64%|██████▍   | 64/100 [07:31<01:16,  2.13s/it]"
          ]
        },
        {
          "output_type": "stream",
          "name": "stdout",
          "text": [
            "\n",
            "====================Training Progress Episode 64====================\n",
            "Mean Episode Reward:  -28.453125000000096\n",
            "Mean Episode Length:  196.828125\n",
            "Current Episode Reward: 14.299999999999997\n",
            "Current Episode Length: 34\n",
            "\n"
          ]
        },
        {
          "output_type": "stream",
          "name": "stderr",
          "text": [
            "\r 65%|██████▌   | 65/100 [07:32<00:59,  1.71s/it]"
          ]
        },
        {
          "output_type": "stream",
          "name": "stdout",
          "text": [
            "\n",
            "====================Training Progress Episode 65====================\n",
            "Mean Episode Reward:  -27.753846153846247\n",
            "Mean Episode Length:  194.09230769230768\n",
            "Current Episode Reward: 17.0\n",
            "Current Episode Length: 19\n",
            "\n"
          ]
        },
        {
          "output_type": "stream",
          "name": "stderr",
          "text": [
            "\r 66%|██████▌   | 66/100 [07:34<01:04,  1.91s/it]"
          ]
        },
        {
          "output_type": "stream",
          "name": "stdout",
          "text": [
            "\n",
            "====================Training Progress Episode 66====================\n",
            "Mean Episode Reward:  -27.22575757575767\n",
            "Mean Episode Length:  192.12121212121212\n",
            "Current Episode Reward: 7.100000000000007\n",
            "Current Episode Length: 64\n",
            "\n"
          ]
        },
        {
          "output_type": "stream",
          "name": "stderr",
          "text": [
            "\r 67%|██████▋   | 67/100 [07:35<00:58,  1.76s/it]"
          ]
        },
        {
          "output_type": "stream",
          "name": "stdout",
          "text": [
            "\n",
            "====================Training Progress Episode 67====================\n",
            "Mean Episode Reward:  -26.635820895522482\n",
            "Mean Episode Length:  189.8507462686567\n",
            "Current Episode Reward: 12.3\n",
            "Current Episode Length: 40\n",
            "\n"
          ]
        },
        {
          "output_type": "stream",
          "name": "stderr",
          "text": [
            "\r 68%|██████▊   | 68/100 [07:36<00:47,  1.50s/it]"
          ]
        },
        {
          "output_type": "stream",
          "name": "stdout",
          "text": [
            "\n",
            "====================Training Progress Episode 68====================\n",
            "Mean Episode Reward:  -26.014705882353034\n",
            "Mean Episode Length:  187.4264705882353\n",
            "Current Episode Reward: 15.599999999999998\n",
            "Current Episode Length: 25\n",
            "\n"
          ]
        },
        {
          "output_type": "stream",
          "name": "stderr",
          "text": [
            "\r 69%|██████▉   | 69/100 [07:38<00:47,  1.54s/it]"
          ]
        },
        {
          "output_type": "stream",
          "name": "stdout",
          "text": [
            "\n",
            "====================Training Progress Episode 69====================\n",
            "Mean Episode Reward:  -25.46376811594212\n",
            "Mean Episode Length:  185.3768115942029\n",
            "Current Episode Reward: 12.0\n",
            "Current Episode Length: 46\n",
            "\n"
          ]
        },
        {
          "output_type": "stream",
          "name": "stderr",
          "text": [
            "\r 70%|███████   | 70/100 [07:40<00:49,  1.65s/it]"
          ]
        },
        {
          "output_type": "stream",
          "name": "stdout",
          "text": [
            "\n",
            "====================Training Progress Episode 70====================\n",
            "Mean Episode Reward:  -24.954285714285806\n",
            "Mean Episode Length:  183.5\n",
            "Current Episode Reward: 10.200000000000006\n",
            "Current Episode Length: 54\n",
            "\n"
          ]
        },
        {
          "output_type": "stream",
          "name": "stderr",
          "text": [
            "\r 71%|███████   | 71/100 [07:40<00:38,  1.34s/it]"
          ]
        },
        {
          "output_type": "stream",
          "name": "stdout",
          "text": [
            "\n",
            "====================Training Progress Episode 71====================\n",
            "Mean Episode Reward:  -24.361971830986004\n",
            "Mean Episode Length:  181.1549295774648\n",
            "Current Episode Reward: 17.099999999999998\n",
            "Current Episode Length: 17\n",
            "\n"
          ]
        },
        {
          "output_type": "stream",
          "name": "stderr",
          "text": [
            "\r 72%|███████▏  | 72/100 [07:41<00:33,  1.18s/it]"
          ]
        },
        {
          "output_type": "stream",
          "name": "stdout",
          "text": [
            "\n",
            "====================Training Progress Episode 72====================\n",
            "Mean Episode Reward:  -23.78750000000009\n",
            "Mean Episode Length:  178.95833333333334\n",
            "Current Episode Reward: 17.0\n",
            "Current Episode Length: 23\n",
            "\n"
          ]
        },
        {
          "output_type": "stream",
          "name": "stderr",
          "text": [
            "\r 73%|███████▎  | 73/100 [07:42<00:32,  1.19s/it]"
          ]
        },
        {
          "output_type": "stream",
          "name": "stdout",
          "text": [
            "\n",
            "====================Training Progress Episode 73====================\n",
            "Mean Episode Reward:  -23.269863013698718\n",
            "Mean Episode Length:  176.97260273972603\n",
            "Current Episode Reward: 13.999999999999996\n",
            "Current Episode Length: 34\n",
            "\n"
          ]
        },
        {
          "output_type": "stream",
          "name": "stderr",
          "text": [
            "\r 74%|███████▍  | 74/100 [07:43<00:26,  1.03s/it]"
          ]
        },
        {
          "output_type": "stream",
          "name": "stdout",
          "text": [
            "\n",
            "====================Training Progress Episode 74====================\n",
            "Mean Episode Reward:  -22.716216216216303\n",
            "Mean Episode Length:  174.82432432432432\n",
            "Current Episode Reward: 17.7\n",
            "Current Episode Length: 18\n",
            "\n"
          ]
        },
        {
          "output_type": "stream",
          "name": "stderr",
          "text": [
            "\r 75%|███████▌  | 75/100 [07:44<00:22,  1.11it/s]"
          ]
        },
        {
          "output_type": "stream",
          "name": "stdout",
          "text": [
            "\n",
            "====================Training Progress Episode 75====================\n",
            "Mean Episode Reward:  -22.181333333333416\n",
            "Mean Episode Length:  172.72\n",
            "Current Episode Reward: 17.4\n",
            "Current Episode Length: 17\n",
            "\n"
          ]
        },
        {
          "output_type": "stream",
          "name": "stderr",
          "text": [
            "\r 76%|███████▌  | 76/100 [07:44<00:20,  1.16it/s]"
          ]
        },
        {
          "output_type": "stream",
          "name": "stdout",
          "text": [
            "\n",
            "====================Training Progress Episode 76====================\n",
            "Mean Episode Reward:  -21.663157894736923\n",
            "Mean Episode Length:  170.72368421052633\n",
            "Current Episode Reward: 17.2\n",
            "Current Episode Length: 21\n",
            "\n"
          ]
        },
        {
          "output_type": "stream",
          "name": "stderr",
          "text": [
            "\r 77%|███████▋  | 77/100 [07:45<00:17,  1.33it/s]"
          ]
        },
        {
          "output_type": "stream",
          "name": "stdout",
          "text": [
            "\n",
            "====================Training Progress Episode 77====================\n",
            "Mean Episode Reward:  -21.146753246753327\n",
            "Mean Episode Length:  168.67532467532467\n",
            "Current Episode Reward: 18.1\n",
            "Current Episode Length: 13\n",
            "\n"
          ]
        },
        {
          "output_type": "stream",
          "name": "stderr",
          "text": [
            "\r 78%|███████▊  | 78/100 [07:46<00:17,  1.28it/s]"
          ]
        },
        {
          "output_type": "stream",
          "name": "stdout",
          "text": [
            "\n",
            "====================Training Progress Episode 78====================\n",
            "Mean Episode Reward:  -20.673076923077005\n",
            "Mean Episode Length:  166.80769230769232\n",
            "Current Episode Reward: 15.8\n",
            "Current Episode Length: 23\n",
            "\n"
          ]
        },
        {
          "output_type": "stream",
          "name": "stderr",
          "text": [
            "\r 79%|███████▉  | 79/100 [07:46<00:15,  1.39it/s]"
          ]
        },
        {
          "output_type": "stream",
          "name": "stdout",
          "text": [
            "\n",
            "====================Training Progress Episode 79====================\n",
            "Mean Episode Reward:  -20.18860759493679\n",
            "Mean Episode Length:  164.8987341772152\n",
            "Current Episode Reward: 17.599999999999998\n",
            "Current Episode Length: 16\n",
            "\n"
          ]
        },
        {
          "output_type": "stream",
          "name": "stderr",
          "text": [
            "\r 80%|████████  | 80/100 [07:47<00:15,  1.30it/s]"
          ]
        },
        {
          "output_type": "stream",
          "name": "stdout",
          "text": [
            "\n",
            "====================Training Progress Episode 80====================\n",
            "Mean Episode Reward:  -19.73875000000008\n",
            "Mean Episode Length:  163.15\n",
            "Current Episode Reward: 15.799999999999999\n",
            "Current Episode Length: 25\n",
            "\n"
          ]
        },
        {
          "output_type": "stream",
          "name": "stderr",
          "text": [
            "\r 81%|████████  | 81/100 [07:49<00:21,  1.11s/it]"
          ]
        },
        {
          "output_type": "stream",
          "name": "stdout",
          "text": [
            "\n",
            "====================Training Progress Episode 81====================\n",
            "Mean Episode Reward:  -19.369135802469216\n",
            "Mean Episode Length:  161.79012345679013\n",
            "Current Episode Reward: 10.2\n",
            "Current Episode Length: 53\n",
            "\n"
          ]
        },
        {
          "output_type": "stream",
          "name": "stderr",
          "text": [
            "\r 82%|████████▏ | 82/100 [07:51<00:22,  1.26s/it]"
          ]
        },
        {
          "output_type": "stream",
          "name": "stdout",
          "text": [
            "\n",
            "====================Training Progress Episode 82====================\n",
            "Mean Episode Reward:  -19.000000000000078\n",
            "Mean Episode Length:  160.3780487804878\n",
            "Current Episode Reward: 10.900000000000004\n",
            "Current Episode Length: 46\n",
            "\n"
          ]
        },
        {
          "output_type": "stream",
          "name": "stderr",
          "text": [
            "\r 83%|████████▎ | 83/100 [07:52<00:19,  1.16s/it]"
          ]
        },
        {
          "output_type": "stream",
          "name": "stdout",
          "text": [
            "\n",
            "====================Training Progress Episode 83====================\n",
            "Mean Episode Reward:  -18.579518072289233\n",
            "Mean Episode Length:  158.75903614457832\n",
            "Current Episode Reward: 15.899999999999999\n",
            "Current Episode Length: 26\n",
            "\n"
          ]
        },
        {
          "output_type": "stream",
          "name": "stderr",
          "text": [
            "\r 84%|████████▍ | 84/100 [07:53<00:17,  1.12s/it]"
          ]
        },
        {
          "output_type": "stream",
          "name": "stdout",
          "text": [
            "\n",
            "====================Training Progress Episode 84====================\n",
            "Mean Episode Reward:  -18.17976190476198\n",
            "Mean Episode Length:  157.21428571428572\n",
            "Current Episode Reward: 14.999999999999996\n",
            "Current Episode Length: 29\n",
            "\n"
          ]
        },
        {
          "output_type": "stream",
          "name": "stderr",
          "text": [
            "\r 85%|████████▌ | 85/100 [07:54<00:17,  1.16s/it]"
          ]
        },
        {
          "output_type": "stream",
          "name": "stdout",
          "text": [
            "\n",
            "====================Training Progress Episode 85====================\n",
            "Mean Episode Reward:  -17.81058823529419\n",
            "Mean Episode Length:  155.7764705882353\n",
            "Current Episode Reward: 13.2\n",
            "Current Episode Length: 35\n",
            "\n"
          ]
        },
        {
          "output_type": "stream",
          "name": "stderr",
          "text": [
            "\r 86%|████████▌ | 86/100 [07:56<00:18,  1.30s/it]"
          ]
        },
        {
          "output_type": "stream",
          "name": "stdout",
          "text": [
            "\n",
            "====================Training Progress Episode 86====================\n",
            "Mean Episode Reward:  -17.46511627906984\n",
            "Mean Episode Length:  154.5\n",
            "Current Episode Reward: 11.899999999999997\n",
            "Current Episode Length: 46\n",
            "\n"
          ]
        },
        {
          "output_type": "stream",
          "name": "stderr",
          "text": [
            "\r 87%|████████▋ | 87/100 [07:57<00:16,  1.26s/it]"
          ]
        },
        {
          "output_type": "stream",
          "name": "stdout",
          "text": [
            "\n",
            "====================Training Progress Episode 87====================\n",
            "Mean Episode Reward:  -17.102298850574783\n",
            "Mean Episode Length:  153.09195402298852\n",
            "Current Episode Reward: 14.099999999999998\n",
            "Current Episode Length: 32\n",
            "\n"
          ]
        },
        {
          "output_type": "stream",
          "name": "stderr",
          "text": [
            "\r 88%|████████▊ | 88/100 [07:57<00:13,  1.10s/it]"
          ]
        },
        {
          "output_type": "stream",
          "name": "stdout",
          "text": [
            "\n",
            "====================Training Progress Episode 88====================\n",
            "Mean Episode Reward:  -16.71590909090916\n",
            "Mean Episode Length:  151.5681818181818\n",
            "Current Episode Reward: 16.9\n",
            "Current Episode Length: 19\n",
            "\n"
          ]
        },
        {
          "output_type": "stream",
          "name": "stderr",
          "text": [
            "\r 89%|████████▉ | 89/100 [07:58<00:11,  1.06s/it]"
          ]
        },
        {
          "output_type": "stream",
          "name": "stdout",
          "text": [
            "\n",
            "====================Training Progress Episode 89====================\n",
            "Mean Episode Reward:  -16.35393258426973\n",
            "Mean Episode Length:  150.1573033707865\n",
            "Current Episode Reward: 15.499999999999996\n",
            "Current Episode Length: 26\n",
            "\n"
          ]
        },
        {
          "output_type": "stream",
          "name": "stderr",
          "text": [
            "\r 90%|█████████ | 90/100 [08:01<00:14,  1.43s/it]"
          ]
        },
        {
          "output_type": "stream",
          "name": "stdout",
          "text": [
            "\n",
            "====================Training Progress Episode 90====================\n",
            "Mean Episode Reward:  -16.088888888888956\n",
            "Mean Episode Length:  149.2\n",
            "Current Episode Reward: 7.500000000000002\n",
            "Current Episode Length: 64\n",
            "\n"
          ]
        },
        {
          "output_type": "stream",
          "name": "stderr",
          "text": [
            "\r 91%|█████████ | 91/100 [08:02<00:11,  1.27s/it]"
          ]
        },
        {
          "output_type": "stream",
          "name": "stdout",
          "text": [
            "\n",
            "====================Training Progress Episode 91====================\n",
            "Mean Episode Reward:  -15.738461538461607\n",
            "Mean Episode Length:  147.83516483516485\n",
            "Current Episode Reward: 15.799999999999997\n",
            "Current Episode Length: 25\n",
            "\n"
          ]
        },
        {
          "output_type": "stream",
          "name": "stderr",
          "text": [
            "\r 92%|█████████▏| 92/100 [08:03<00:10,  1.32s/it]"
          ]
        },
        {
          "output_type": "stream",
          "name": "stdout",
          "text": [
            "\n",
            "====================Training Progress Episode 92====================\n",
            "Mean Episode Reward:  -15.430434782608764\n",
            "Mean Episode Length:  146.67391304347825\n",
            "Current Episode Reward: 12.599999999999998\n",
            "Current Episode Length: 41\n",
            "\n"
          ]
        },
        {
          "output_type": "stream",
          "name": "stderr",
          "text": [
            "\r 93%|█████████▎| 93/100 [08:04<00:08,  1.16s/it]"
          ]
        },
        {
          "output_type": "stream",
          "name": "stdout",
          "text": [
            "\n",
            "====================Training Progress Episode 93====================\n",
            "Mean Episode Reward:  -15.090322580645228\n",
            "Mean Episode Length:  145.33333333333334\n",
            "Current Episode Reward: 16.2\n",
            "Current Episode Length: 22\n",
            "\n"
          ]
        },
        {
          "output_type": "stream",
          "name": "stderr",
          "text": [
            "\r 94%|█████████▍| 94/100 [08:04<00:06,  1.01s/it]"
          ]
        },
        {
          "output_type": "stream",
          "name": "stdout",
          "text": [
            "\n",
            "====================Training Progress Episode 94====================\n",
            "Mean Episode Reward:  -14.741489361702193\n",
            "Mean Episode Length:  143.9787234042553\n",
            "Current Episode Reward: 17.7\n",
            "Current Episode Length: 18\n",
            "\n"
          ]
        },
        {
          "output_type": "stream",
          "name": "stderr",
          "text": [
            "\r 95%|█████████▌| 95/100 [08:06<00:05,  1.02s/it]"
          ]
        },
        {
          "output_type": "stream",
          "name": "stdout",
          "text": [
            "\n",
            "====================Training Progress Episode 95====================\n",
            "Mean Episode Reward:  -14.42947368421059\n",
            "Mean Episode Length:  142.77894736842106\n",
            "Current Episode Reward: 14.899999999999997\n",
            "Current Episode Length: 30\n",
            "\n"
          ]
        },
        {
          "output_type": "stream",
          "name": "stderr",
          "text": [
            "\r 96%|█████████▌| 96/100 [08:07<00:04,  1.00s/it]"
          ]
        },
        {
          "output_type": "stream",
          "name": "stdout",
          "text": [
            "\n",
            "====================Training Progress Episode 96====================\n",
            "Mean Episode Reward:  -14.118750000000063\n",
            "Mean Episode Length:  141.57291666666666\n",
            "Current Episode Reward: 15.399999999999999\n",
            "Current Episode Length: 27\n",
            "\n"
          ]
        },
        {
          "output_type": "stream",
          "name": "stderr",
          "text": [
            "\r 97%|█████████▋| 97/100 [08:08<00:03,  1.04s/it]"
          ]
        },
        {
          "output_type": "stream",
          "name": "stdout",
          "text": [
            "\n",
            "====================Training Progress Episode 97====================\n",
            "Mean Episode Reward:  -13.825773195876351\n",
            "Mean Episode Length:  140.44329896907217\n",
            "Current Episode Reward: 14.299999999999997\n",
            "Current Episode Length: 32\n",
            "\n"
          ]
        },
        {
          "output_type": "stream",
          "name": "stderr",
          "text": [
            "\r 98%|█████████▊| 98/100 [08:08<00:01,  1.11it/s]"
          ]
        },
        {
          "output_type": "stream",
          "name": "stdout",
          "text": [
            "\n",
            "====================Training Progress Episode 98====================\n",
            "Mean Episode Reward:  -13.503061224489858\n",
            "Mean Episode Length:  139.1734693877551\n",
            "Current Episode Reward: 17.799999999999997\n",
            "Current Episode Length: 16\n",
            "\n"
          ]
        },
        {
          "output_type": "stream",
          "name": "stderr",
          "text": [
            "\r 99%|█████████▉| 99/100 [08:09<00:00,  1.31it/s]"
          ]
        },
        {
          "output_type": "stream",
          "name": "stdout",
          "text": [
            "\n",
            "====================Training Progress Episode 99====================\n",
            "Mean Episode Reward:  -13.17979797979804\n",
            "Mean Episode Length:  137.88888888888889\n",
            "Current Episode Reward: 18.5\n",
            "Current Episode Length: 12\n",
            "\n"
          ]
        },
        {
          "output_type": "stream",
          "name": "stderr",
          "text": [
            "100%|██████████| 100/100 [08:10<00:00,  4.90s/it]"
          ]
        },
        {
          "output_type": "stream",
          "name": "stdout",
          "text": [
            "\n",
            "====================Training Progress Episode 100====================\n",
            "Mean Episode Reward:  -12.902000000000061\n",
            "Mean Episode Length:  136.8\n",
            "Current Episode Reward: 14.599999999999998\n",
            "Current Episode Length: 29\n",
            "\n"
          ]
        },
        {
          "output_type": "stream",
          "name": "stderr",
          "text": [
            "\n"
          ]
        }
      ]
    },
    {
      "cell_type": "code",
      "source": [
        "plot_model_performance(mean_rewards, mean_lengths)"
      ],
      "metadata": {
        "colab": {
          "base_uri": "https://localhost:8080/",
          "height": 487
        },
        "id": "R3AuNaMz6bDv",
        "outputId": "399ffb1f-aa61-4358-c757-d3e29d402d5f"
      },
      "execution_count": 18,
      "outputs": [
        {
          "output_type": "display_data",
          "data": {
            "text/plain": [
              "<Figure size 1000x500 with 2 Axes>"
            ],
            "image/png": "[encoded data removed]"
          },
          "metadata": {}
        }
      ]
    }
  ],
  "metadata": {
    "colab": {
      "provenance": [],
      "gpuType": "T4"
    },
    "kernelspec": {
      "display_name": "Python 3",
      "name": "python3"
    },
    "accelerator": "GPU"
  },
  "nbformat": 4,
  "nbformat_minor": 0
}