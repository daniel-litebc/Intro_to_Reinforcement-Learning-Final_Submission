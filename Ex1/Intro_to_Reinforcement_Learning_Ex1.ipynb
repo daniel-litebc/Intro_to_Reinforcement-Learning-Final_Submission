{
  "cells": [
    {
      "cell_type": "markdown",
      "source": [
        "# Final Project - Reinforcements Learning - Ex1\n",
        "\n",
        "---\n",
        "\n",
        "<img src=\"https://play-lh.googleusercontent.com/e_oKlKPISbgdzut1H9opevS7-LTB8-8lsmpCdMkhlnqFenZhpjxbLmx7l158-xQQCIY\">\n",
        "\n",
        "Full Notebook:\n",
        "### https://colab.research.google.com/drive/1umfxWIoivhACC9YcWRZIxINsZch9JEaC?usp=sharing"
      ],
      "metadata": {
        "id": "dSvjwmu3vPMR"
      }
    },
    {
      "cell_type": "markdown",
      "source": [
        "# Installs"
      ],
      "metadata": {
        "id": "4T3qcykHFi15"
      }
    },
    {
      "cell_type": "code",
      "source": [
        "%%capture\n",
        "!sudo apt-get update\n",
        "!sudo apt-get install -y xvfb ffmpeg freeglut3-dev\n",
        "!pip install 'imageio==2.4.0'\n",
        "!pip install gym\n",
        "!pip install pygame\n",
        "!apt-get install python-opengl -y\n",
        "!apt install xvfb -y\n",
        "!pip install pyvirtualdisplay\n",
        "!pip install piglet\n",
        "!pip install gym\n",
        "!apt-get install python-opengl -y\n",
        "!apt install xvfb -y\n",
        "!pip install gym_sokoban\n",
        "!pip install stable-baselines3[extra]\n",
        "!git clone https://github.com/avivg7/sokoban-so.git\n",
        "!unzip /content/sokoban-so/Compress.zip\n",
        "!git clone https://github.com/daniel-litebc/Intro_to_Reinforcement-Learning-Final_Submission.git\n"
      ],
      "metadata": {
        "id": "2dah0RrY9Kmj"
      },
      "execution_count": null,
      "outputs": []
    },
    {
      "cell_type": "markdown",
      "source": [
        "# Imports"
      ],
      "metadata": {
        "id": "yHbKbI7BwIwv"
      }
    },
    {
      "cell_type": "code",
      "source": [
        "import numpy as np\n",
        "import gym\n",
        "from gym import logger as gymlogger\n",
        "from gym.utils import seeding\n",
        "from gym import error, spaces, utils\n",
        "gymlogger.set_level(40) # error only\n",
        "from soko_pap import *\n",
        "import glob\n",
        "import io\n",
        "import base64\n",
        "import os\n",
        "import random\n",
        "import matplotlib.pyplot as plt\n",
        "%matplotlib inline\n",
        "import math\n",
        "import glob\n",
        "from pyvirtualdisplay import Display\n",
        "from IPython.display import HTML\n",
        "from IPython import display as ipythondisplay\n",
        "import pygame\n",
        "import pyvirtualdisplay\n",
        "import imageio\n",
        "import IPython\n",
        "import time\n",
        "import torch\n",
        "import torch.nn as nn\n",
        "import torch.optim as optim\n",
        "from collections import namedtuple, deque\n",
        "import torch.nn.functional as F\n",
        "from itertools import count\n",
        "from stable_baselines3 import PPO\n",
        "from tqdm import tqdm\n",
        "import matplotlib.pyplot as plt"
      ],
      "metadata": {
        "id": "1cNdWkV49OqN",
        "colab": {
          "base_uri": "https://localhost:8080/"
        },
        "outputId": "623e5be5-4b1b-4187-f5e6-1a6b22b35240"
      },
      "execution_count": null,
      "outputs": [
        {
          "output_type": "stream",
          "name": "stderr",
          "text": [
            "/usr/local/lib/python3.10/dist-packages/torch/utils/tensorboard/__init__.py:4: DeprecationWarning: distutils Version classes are deprecated. Use packaging.version instead.\n",
            "  if not hasattr(tensorboard, \"__version__\") or LooseVersion(\n"
          ]
        }
      ]
    },
    {
      "cell_type": "code",
      "source": [
        "assert torch.cuda.is_available()"
      ],
      "metadata": {
        "colab": {
          "base_uri": "https://localhost:8080/"
        },
        "id": "LO1XHdh42egd",
        "outputId": "4d8e41f5-0a79-4bc9-e0ad-f8011d31f1c7"
      },
      "execution_count": null,
      "outputs": [
        {
          "output_type": "stream",
          "name": "stderr",
          "text": [
            "/usr/local/lib/python3.10/dist-packages/ipykernel/ipkernel.py:283: DeprecationWarning: `should_run_async` will not call `transform_cell` automatically in the future. Please pass the result to `transformed_cell` argument and any exception that happen during thetransform in `preprocessing_exc_tuple` in IPython 7.17 and above.\n",
            "  and should_run_async(code)\n"
          ]
        }
      ]
    },
    {
      "cell_type": "markdown",
      "source": [
        "# Display utils\n",
        "The cell below contains the video display configuration. No need to make changes here."
      ],
      "metadata": {
        "id": "J7bJeRHbwMIj"
      }
    },
    {
      "cell_type": "code",
      "source": [
        "def embed_mp4(filename):\n",
        "  \"\"\"Embeds an mp4 file in the notebook.\"\"\"\n",
        "  video = open(filename,'rb').read()\n",
        "  b64 = base64.b64encode(video)\n",
        "  tag = '''\n",
        "  <video width=\"640\" height=\"480\" controls>\n",
        "    <source src=\"data:video/mp4;base64,{0}\" type=\"video/mp4\">\n",
        "  Your browser does not support the video tag.\n",
        "  </video>'''.format(b64.decode())\n",
        "\n",
        "  return IPython.display.HTML(tag)\n",
        "display = pyvirtualdisplay.Display(visible=0, size=(1400, 900)).start()"
      ],
      "metadata": {
        "id": "z41WGwQt9i7_"
      },
      "execution_count": null,
      "outputs": []
    },
    {
      "cell_type": "markdown",
      "source": [
        "Function - given an environment it will print us the details about observation, actions, agent's position and boxes locations"
      ],
      "metadata": {
        "id": "oyJXH2IO72xF"
      }
    },
    {
      "cell_type": "code",
      "source": [
        "def print_env_det(env):\n",
        "  print(f'Observation space: {env.observation_space}'\n",
        "      f'\\nAction space: {env.action_space}'\n",
        "      f'\\nPlayer position:{env.player_position}'\n",
        "      f'\\nBox location: {find_box_location(env)}')"
      ],
      "metadata": {
        "id": "1UwaHk7t7eIj",
        "colab": {
          "base_uri": "https://localhost:8080/"
        },
        "outputId": "cb592fa5-ca2b-4ca0-a6c8-1d9f238ef713"
      },
      "execution_count": null,
      "outputs": [
        {
          "output_type": "stream",
          "name": "stderr",
          "text": [
            "/usr/local/lib/python3.10/dist-packages/ipykernel/ipkernel.py:283: DeprecationWarning: `should_run_async` will not call `transform_cell` automatically in the future. Please pass the result to `transformed_cell` argument and any exception that happen during thetransform in `preprocessing_exc_tuple` in IPython 7.17 and above.\n",
            "  and should_run_async(code)\n"
          ]
        }
      ]
    },
    {
      "cell_type": "markdown",
      "source": [
        "Function - given an environment it will return the indexes position and boxes locations"
      ],
      "metadata": {
        "id": "10ndmX86l4LJ"
      }
    },
    {
      "cell_type": "code",
      "source": [
        "def find_box_location(env):\n",
        "    idx = np.argmax(env.room_state == 4)\n",
        "    if env.room_state.flat[idx] == 4:\n",
        "        return np.unravel_index(idx, env.room_state.shape)\n",
        "    return None"
      ],
      "metadata": {
        "id": "1bfAeHJmlufr"
      },
      "execution_count": null,
      "outputs": []
    },
    {
      "cell_type": "markdown",
      "source": [
        "## EX1 - FIX SCENARIO -  PUSH & PULL - ONE BOX"
      ],
      "metadata": {
        "id": "tDaTYUJ4iufr"
      }
    },
    {
      "cell_type": "code",
      "source": [
        "#=============== DO NOT DELETE ===============\n",
        "random.seed(2)\n",
        "sok = PushAndPullSokobanEnv(dim_room=(7, 7),num_boxes=1 ,max_steps=500)\n",
        "# ============================================"
      ],
      "metadata": {
        "id": "Vqa7N7WS9M8G"
      },
      "execution_count": null,
      "outputs": []
    },
    {
      "cell_type": "markdown",
      "source": [
        "#Utils"
      ],
      "metadata": {
        "id": "trm1-R3M5Hs6"
      }
    },
    {
      "cell_type": "code",
      "source": [
        "def conv2d_size_out(size, kernel_size=5, stride=2):\n",
        "    return (size - (kernel_size - 1) - 1) // stride + 1\n",
        "\n",
        "h, w, c = sok.observation_space.shape\n",
        "\n",
        "# Capture the initial configuration for fixed environment (Ex1) and reset env method to use after every episode\n",
        "initial_room_state = sok.room_state.copy()\n",
        "initial_room_fixed = sok.room_fixed.copy()\n",
        "initial_player_position = sok.player_position.copy()\n",
        "initial_box_position = find_box_location(sok)\n",
        "\n",
        "\n",
        "def reset_to_initial(env, initial_room_state, initial_room_fixed, initial_player_position, initial_box_position):\n",
        "    env.room_state = initial_room_state.copy()\n",
        "    env.room_fixed = initial_room_fixed.copy()\n",
        "    env.player_position = initial_player_position.copy()\n",
        "\n",
        "    env.room_state[env.room_state == 4] = 2\n",
        "    env.room_state[initial_box_position] = 4\n",
        "\n",
        "    return env.render(mode='rgb_array')\n",
        "\n",
        "\n",
        "def save_checkpoint(filename, policy_model):\n",
        "    checkpoint = {\n",
        "        'policy_model_state_dict': policy_model.state_dict(),\n",
        "    }\n",
        "    torch.save(checkpoint, filename)\n",
        "\n",
        "\n",
        "def load_checkpoint(filename, policy_model, target_model):\n",
        "    checkpoint = torch.load(filename)\n",
        "    policy_model.load_state_dict(checkpoint['policy_model_state_dict'])\n",
        "    target_model.load_state_dict(policy_model.state_dict())\n",
        "    target_model.eval()\n",
        "\n",
        "\n",
        "def plot_model_performance(mean_rewards, mean_lengths):\n",
        "  plt.figure(figsize=(10, 5))\n",
        "  plt.subplot(1, 2, 1)\n",
        "  plt.plot(mean_rewards)\n",
        "  plt.title('Mean Episodic Reward')\n",
        "  plt.xlabel('Episode')\n",
        "  plt.ylabel('Mean Reward')\n",
        "\n",
        "  plt.subplot(1, 2, 2)\n",
        "  plt.plot(mean_lengths)\n",
        "  plt.title('Mean Episodic Length')\n",
        "  plt.xlabel('Episode')\n",
        "  plt.ylabel('Mean Length')\n",
        "\n",
        "  plt.show()"
      ],
      "metadata": {
        "id": "_kVlkVhz5FzQ"
      },
      "execution_count": null,
      "outputs": []
    },
    {
      "cell_type": "markdown",
      "source": [
        "#DQN Model"
      ],
      "metadata": {
        "id": "z_zQRdDM5IIc"
      }
    },
    {
      "cell_type": "code",
      "source": [
        "# Calculate the dimensions after passing through all the convolutional layers\n",
        "convw = conv2d_size_out(conv2d_size_out(conv2d_size_out(w)))\n",
        "convh = conv2d_size_out(conv2d_size_out(conv2d_size_out(h)))\n",
        "linear_input_size = convw * convh * 32  # 32 is the output channel size of the last conv layer\n",
        "\n",
        "class DQN(nn.Module):\n",
        "    def __init__(self, h, w, outputs):\n",
        "        super(DQN, self).__init__()\n",
        "        self.conv1 = nn.Conv2d(3, 16, kernel_size=5, stride=2)\n",
        "        self.bn1 = nn.BatchNorm2d(16)\n",
        "        self.conv2 = nn.Conv2d(16, 32, kernel_size=5, stride=2)\n",
        "        self.bn2 = nn.BatchNorm2d(32)\n",
        "        self.conv3 = nn.Conv2d(32, 32, kernel_size=5, stride=2)\n",
        "        self.bn3 = nn.BatchNorm2d(32)\n",
        "        self.head = nn.Linear(linear_input_size, outputs)\n",
        "\n",
        "    def forward(self, x):\n",
        "        x = F.relu(self.bn1(self.conv1(x)))\n",
        "        x = F.relu(self.bn2(self.conv2(x)))\n",
        "        x = F.relu(self.bn3(self.conv3(x)))\n",
        "        return self.head(x.view(x.size(0), -1))"
      ],
      "metadata": {
        "id": "f4AjTr4q5F-1"
      },
      "execution_count": null,
      "outputs": []
    },
    {
      "cell_type": "markdown",
      "source": [
        "#Experience Replay"
      ],
      "metadata": {
        "id": "oYsTbO4o5In4"
      }
    },
    {
      "cell_type": "code",
      "source": [
        "Experience = namedtuple('Experience', ('state', 'action', 'next_state', 'reward', 'done'))\n",
        "class ReplayMemory:\n",
        "    def __init__(self, capacity):\n",
        "        self.buffer = deque(maxlen=capacity)\n",
        "\n",
        "    def push(self, *args):\n",
        "        self.buffer.append(Experience(*args))\n",
        "\n",
        "    def sample(self, batch_size):\n",
        "        return random.sample(self.buffer, batch_size)\n",
        "\n",
        "    def __len__(self):\n",
        "        return len(self.buffer)"
      ],
      "metadata": {
        "id": "fsBpCXaQ5GBj"
      },
      "execution_count": null,
      "outputs": []
    },
    {
      "cell_type": "markdown",
      "source": [
        "#Training"
      ],
      "metadata": {
        "id": "o8iqKoNP5JLz"
      }
    },
    {
      "cell_type": "code",
      "source": [
        "# Hyperparameters\n",
        "BATCH_SIZE = 256\n",
        "GAMMA = 0.95       #was 0.999\n",
        "EPS_START = 1.0    # was 0.9\n",
        "EPS_END = 0.1      # was 0.05\n",
        "EPS_DECAY = 20000  #was 10,000\n",
        "TARGET_UPDATE = 5\n",
        "\n",
        "# Bad way to update epsilon\n",
        "steps_done = 0\n",
        "\n",
        "# Set up device\n",
        "device = torch.device(\"cuda\" if torch.cuda.is_available() else \"cpu\")\n",
        "\n",
        "\n",
        "# Create the DQN and target network\n",
        "n_actions = sok.action_space.n\n",
        "policy_net = DQN(h, w, n_actions).to(device)\n",
        "target_net = DQN(h, w, n_actions).to(device)\n",
        "# load_checkpoint(\"DQN-policy_net-v1-ep20\", policy_net, target_net)\n",
        "policy_net.load_state_dict(torch.load('DQN-policy_net-v1-ep20'))\n",
        "# Optimizer and Memory\n",
        "optimizer = optim.RMSprop(policy_net.parameters(), lr=0.001)\n",
        "memory = ReplayMemory(10000)"
      ],
      "metadata": {
        "id": "KpSBjDAI5GJE"
      },
      "execution_count": null,
      "outputs": []
    },
    {
      "cell_type": "code",
      "source": [
        "def optimize_model():\n",
        "    if len(memory) < BATCH_SIZE:\n",
        "        return\n",
        "    transitions = memory.sample(BATCH_SIZE)\n",
        "    batch = Experience(*zip(*transitions))\n",
        "\n",
        "    non_final_mask = torch.tensor(tuple(map(lambda s: s is not None, batch.next_state)), device=device, dtype=torch.bool)\n",
        "    non_final_next_states = torch.cat([s for s in batch.next_state if s is not None])\n",
        "    state_batch = torch.cat(batch.state)\n",
        "    action_batch = torch.cat(batch.action)\n",
        "    reward_batch = torch.cat(batch.reward)\n",
        "\n",
        "    state_action_values = policy_net(state_batch).gather(1, action_batch)\n",
        "    next_state_values = torch.zeros(BATCH_SIZE, device=device)\n",
        "    next_state_values[non_final_mask] = target_net(non_final_next_states).max(1)[0].detach()\n",
        "    expected_state_action_values = (next_state_values * GAMMA) + reward_batch\n",
        "\n",
        "    loss = F.smooth_l1_loss(state_action_values, expected_state_action_values.unsqueeze(1))\n",
        "    optimizer.zero_grad()\n",
        "    loss.backward()\n",
        "    for param in policy_net.parameters():\n",
        "        param.grad.data.clamp_(-1, 1)\n",
        "    optimizer.step()"
      ],
      "metadata": {
        "id": "clY-x02V5GEO"
      },
      "execution_count": null,
      "outputs": []
    },
    {
      "cell_type": "code",
      "source": [
        "def select_action(state):\n",
        "    global steps_done\n",
        "    sample = random.random()\n",
        "    eps_threshold = EPS_END + (EPS_START - EPS_END) * math.exp(-1. * steps_done / EPS_DECAY)\n",
        "    steps_done += 1\n",
        "    if sample > eps_threshold:\n",
        "        with torch.no_grad():\n",
        "            return policy_net(state).max(1)[1].view(1, 1)\n",
        "    else:\n",
        "        return torch.tensor([[random.randrange(n_actions)]], device=device, dtype=torch.long)"
      ],
      "metadata": {
        "id": "NcvEQwo0M-Rc"
      },
      "execution_count": null,
      "outputs": []
    },
    {
      "cell_type": "code",
      "source": [
        "def train_loop(policy_net, target_net, optimizer, memory, max_steps_per_episode=500, num_episodes=100):\n",
        "\n",
        "  total_rewards = 0\n",
        "  total_lengths = 0\n",
        "  mean_rewards = []\n",
        "  mean_lengths = []\n",
        "\n",
        "  for i_episode in tqdm(range(num_episodes)):\n",
        "\n",
        "    episode_reward = 0.0\n",
        "\n",
        "    state_array = reset_to_initial(sok, initial_room_state, initial_room_fixed, initial_player_position, initial_box_position)\n",
        "    state = torch.tensor(state_array.transpose(2, 0, 1), device=device, dtype=torch.float32).unsqueeze(0)\n",
        "\n",
        "    previous_player_position = None\n",
        "\n",
        "    # Save once every 10 episodes\n",
        "    if (i_episode + 1) % 10 == 0:\n",
        "      save_checkpoint(\"DQN-checkpoint-v1-ep\" + str(i_episode), policy_net)\n",
        "\n",
        "    for t in range(max_steps_per_episode):\n",
        "      action = select_action(state)\n",
        "      next_state, reward, done, _ = sok.step(action.item())\n",
        "\n",
        "      # Check if the episode ended and was successful\n",
        "      if done and t < 250:\n",
        "        reward += 10\n",
        "\n",
        "      # Check if the box has not moved and penalize\n",
        "      if not info['action.moved_box']:\n",
        "          reward -= 0.1  # Define this penalty value as needed\n",
        "      else:\n",
        "          reward += 0.1\n",
        "\n",
        "      current_player_position = sok.player_position\n",
        "      if np.array_equal(previous_player_position, current_player_position):\n",
        "        reward -= 0.1  # Define this penalty value as needed\n",
        "\n",
        "\n",
        "      previous_player_position = current_player_position  # Update the previous player position for the next step\n",
        "      episode_reward += reward\n",
        "\n",
        "      next_state = torch.tensor(next_state.transpose(2, 0, 1), device=device, dtype=torch.float32).unsqueeze(0)\n",
        "      reward = torch.tensor([reward], device=device)\n",
        "      memory.push(state, action, next_state, reward, done)\n",
        "      state = next_state\n",
        "\n",
        "      optimize_model()\n",
        "      if done:\n",
        "          break\n",
        "\n",
        "    total_rewards += episode_reward\n",
        "    total_lengths += t + 1\n",
        "\n",
        "    mean_episodic_reward = total_rewards / (i_episode + 1)\n",
        "    mean_episodic_length = total_lengths / (i_episode + 1)\n",
        "\n",
        "    mean_rewards.append(mean_episodic_reward)\n",
        "    mean_lengths.append(mean_episodic_length)\n",
        "\n",
        "    print()\n",
        "    print(\"=\" * 20 + \"Training Progress \" + \"Episode \" + str(i_episode + 1) + \"=\" * 20)\n",
        "    print(\"Mean Episode Reward: \", mean_episodic_reward)\n",
        "    print(\"Mean Episode Length: \", mean_episodic_length)\n",
        "    print(f\"Current Episode Reward: {episode_reward}\")\n",
        "    print(f\"Current Episode Length: {t + 1}\")\n",
        "\n",
        "    print()\n",
        "\n",
        "\n",
        "\n",
        "    if i_episode % TARGET_UPDATE == 0:\n",
        "        target_net.load_state_dict(policy_net.state_dict())\n",
        "\n",
        "  return mean_rewards, mean_lengths"
      ],
      "metadata": {
        "id": "Ed8JDChW5GGy"
      },
      "execution_count": null,
      "outputs": []
    },
    {
      "cell_type": "markdown",
      "source": [
        "# Train Model"
      ],
      "metadata": {
        "id": "EBpRmdfz0I8X"
      }
    },
    {
      "cell_type": "code",
      "source": [
        "mean_rewards, mean_lengths = train_loop(policy_net, target_net, optimizer, memory, max_steps_per_episode=500, num_episodes=500)"
      ],
      "metadata": {
        "colab": {
          "base_uri": "https://localhost:8080/",
          "height": 1000
        },
        "id": "chMCyINF0IXe",
        "outputId": "7e6d5e08-2946-4ab8-9ed3-68d1e0f19ed9"
      },
      "execution_count": null,
      "outputs": [
        {
          "output_type": "stream",
          "name": "stderr",
          "text": [
            "  0%|          | 1/500 [00:09<1:17:12,  9.28s/it]"
          ]
        },
        {
          "output_type": "stream",
          "name": "stdout",
          "text": [
            "\n",
            "====================Training Progress Episode 1====================\n",
            "Mean Episode Reward:  -120.40000000000032\n",
            "Mean Episode Length:  500.0\n",
            "Current Episode Reward: -120.40000000000032\n",
            "Current Episode Length: 500\n",
            "\n"
          ]
        },
        {
          "output_type": "stream",
          "name": "stderr",
          "text": [
            "\r  0%|          | 2/500 [00:26<1:56:31, 14.04s/it]"
          ]
        },
        {
          "output_type": "stream",
          "name": "stdout",
          "text": [
            "\n",
            "====================Training Progress Episode 2====================\n",
            "Mean Episode Reward:  -118.8000000000003\n",
            "Mean Episode Length:  500.0\n",
            "Current Episode Reward: -117.20000000000029\n",
            "Current Episode Length: 500\n",
            "\n"
          ]
        },
        {
          "output_type": "stream",
          "name": "stderr",
          "text": [
            "\r  1%|          | 3/500 [00:43<2:08:24, 15.50s/it]"
          ]
        },
        {
          "output_type": "stream",
          "name": "stdout",
          "text": [
            "\n",
            "====================Training Progress Episode 3====================\n",
            "Mean Episode Reward:  -117.70000000000033\n",
            "Mean Episode Length:  500.0\n",
            "Current Episode Reward: -115.50000000000041\n",
            "Current Episode Length: 500\n",
            "\n"
          ]
        },
        {
          "output_type": "stream",
          "name": "stderr",
          "text": [
            "\r  1%|          | 4/500 [01:00<2:13:16, 16.12s/it]"
          ]
        },
        {
          "output_type": "stream",
          "name": "stdout",
          "text": [
            "\n",
            "====================Training Progress Episode 4====================\n",
            "Mean Episode Reward:  -117.47500000000034\n",
            "Mean Episode Length:  500.0\n",
            "Current Episode Reward: -116.80000000000037\n",
            "Current Episode Length: 500\n",
            "\n"
          ]
        },
        {
          "output_type": "stream",
          "name": "stderr",
          "text": [
            "\r  1%|          | 5/500 [01:15<2:09:41, 15.72s/it]"
          ]
        },
        {
          "output_type": "stream",
          "name": "stdout",
          "text": [
            "\n",
            "====================Training Progress Episode 5====================\n",
            "Mean Episode Reward:  -112.8400000000003\n",
            "Mean Episode Length:  488.8\n",
            "Current Episode Reward: -94.30000000000018\n",
            "Current Episode Length: 444\n",
            "\n"
          ]
        },
        {
          "output_type": "stream",
          "name": "stderr",
          "text": [
            "\r  1%|          | 6/500 [01:18<1:33:31, 11.36s/it]"
          ]
        },
        {
          "output_type": "stream",
          "name": "stdout",
          "text": [
            "\n",
            "====================Training Progress Episode 6====================\n",
            "Mean Episode Reward:  -94.01666666666692\n",
            "Mean Episode Length:  421.1666666666667\n",
            "Current Episode Reward: 0.09999999999999432\n",
            "Current Episode Length: 83\n",
            "\n"
          ]
        },
        {
          "output_type": "stream",
          "name": "stderr",
          "text": [
            "\r  1%|▏         | 7/500 [01:24<1:18:37,  9.57s/it]"
          ]
        },
        {
          "output_type": "stream",
          "name": "stdout",
          "text": [
            "\n",
            "====================Training Progress Episode 7====================\n",
            "Mean Episode Reward:  -83.60000000000022\n",
            "Mean Episode Length:  386.0\n",
            "Current Episode Reward: -21.10000000000006\n",
            "Current Episode Length: 175\n",
            "\n"
          ]
        },
        {
          "output_type": "stream",
          "name": "stderr",
          "text": [
            "\r  2%|▏         | 8/500 [01:35<1:22:42, 10.09s/it]"
          ]
        },
        {
          "output_type": "stream",
          "name": "stdout",
          "text": [
            "\n",
            "====================Training Progress Episode 8====================\n",
            "Mean Episode Reward:  -81.50000000000021\n",
            "Mean Episode Length:  378.875\n",
            "Current Episode Reward: -66.80000000000022\n",
            "Current Episode Length: 329\n",
            "\n"
          ]
        },
        {
          "output_type": "stream",
          "name": "stderr",
          "text": [
            "\r  2%|▏         | 9/500 [01:53<1:40:36, 12.29s/it]"
          ]
        },
        {
          "output_type": "stream",
          "name": "stdout",
          "text": [
            "\n",
            "====================Training Progress Episode 9====================\n",
            "Mean Episode Reward:  -85.86666666666687\n",
            "Mean Episode Length:  392.3333333333333\n",
            "Current Episode Reward: -120.80000000000018\n",
            "Current Episode Length: 500\n",
            "\n"
          ]
        },
        {
          "output_type": "stream",
          "name": "stderr",
          "text": [
            "\r  2%|▏         | 10/500 [02:00<1:29:04, 10.91s/it]"
          ]
        },
        {
          "output_type": "stream",
          "name": "stdout",
          "text": [
            "\n",
            "====================Training Progress Episode 10====================\n",
            "Mean Episode Reward:  -80.82000000000019\n",
            "Mean Episode Length:  375.9\n",
            "Current Episode Reward: -35.40000000000006\n",
            "Current Episode Length: 228\n",
            "\n"
          ]
        },
        {
          "output_type": "stream",
          "name": "stderr",
          "text": [
            "\r  2%|▏         | 11/500 [02:13<1:32:12, 11.31s/it]"
          ]
        },
        {
          "output_type": "stream",
          "name": "stdout",
          "text": [
            "\n",
            "====================Training Progress Episode 11====================\n",
            "Mean Episode Reward:  -79.90000000000022\n",
            "Mean Episode Length:  374.3636363636364\n",
            "Current Episode Reward: -70.70000000000033\n",
            "Current Episode Length: 359\n",
            "\n"
          ]
        },
        {
          "output_type": "stream",
          "name": "stderr",
          "text": [
            "\r  2%|▏         | 12/500 [02:30<1:46:05, 13.04s/it]"
          ]
        },
        {
          "output_type": "stream",
          "name": "stdout",
          "text": [
            "\n",
            "====================Training Progress Episode 12====================\n",
            "Mean Episode Reward:  -82.93333333333355\n",
            "Mean Episode Length:  384.8333333333333\n",
            "Current Episode Reward: -116.30000000000032\n",
            "Current Episode Length: 500\n",
            "\n"
          ]
        },
        {
          "output_type": "stream",
          "name": "stderr",
          "text": [
            "\r  3%|▎         | 13/500 [02:47<1:55:51, 14.27s/it]"
          ]
        },
        {
          "output_type": "stream",
          "name": "stdout",
          "text": [
            "\n",
            "====================Training Progress Episode 13====================\n",
            "Mean Episode Reward:  -85.3461538461541\n",
            "Mean Episode Length:  393.6923076923077\n",
            "Current Episode Reward: -114.30000000000045\n",
            "Current Episode Length: 500\n",
            "\n"
          ]
        },
        {
          "output_type": "stream",
          "name": "stderr",
          "text": [
            "\r  3%|▎         | 14/500 [02:51<1:30:43, 11.20s/it]"
          ]
        },
        {
          "output_type": "stream",
          "name": "stdout",
          "text": [
            "\n",
            "====================Training Progress Episode 14====================\n",
            "Mean Episode Reward:  -79.7071428571431\n",
            "Mean Episode Length:  374.2142857142857\n",
            "Current Episode Reward: -6.399999999999988\n",
            "Current Episode Length: 121\n",
            "\n"
          ]
        },
        {
          "output_type": "stream",
          "name": "stderr",
          "text": [
            "\r  3%|▎         | 15/500 [02:55<1:14:12,  9.18s/it]"
          ]
        },
        {
          "output_type": "stream",
          "name": "stdout",
          "text": [
            "\n",
            "====================Training Progress Episode 15====================\n",
            "Mean Episode Reward:  -75.10000000000021\n",
            "Mean Episode Length:  358.1333333333333\n",
            "Current Episode Reward: -10.599999999999977\n",
            "Current Episode Length: 133\n",
            "\n"
          ]
        },
        {
          "output_type": "stream",
          "name": "stderr",
          "text": [
            "\r  3%|▎         | 16/500 [03:00<1:02:10,  7.71s/it]"
          ]
        },
        {
          "output_type": "stream",
          "name": "stdout",
          "text": [
            "\n",
            "====================Training Progress Episode 16====================\n",
            "Mean Episode Reward:  -70.9437500000002\n",
            "Mean Episode Length:  343.5\n",
            "Current Episode Reward: -8.599999999999984\n",
            "Current Episode Length: 124\n",
            "\n"
          ]
        },
        {
          "output_type": "stream",
          "name": "stderr",
          "text": [
            "\r  3%|▎         | 17/500 [03:07<1:00:55,  7.57s/it]"
          ]
        },
        {
          "output_type": "stream",
          "name": "stdout",
          "text": [
            "\n",
            "====================Training Progress Episode 17====================\n",
            "Mean Episode Reward:  -68.48235294117666\n",
            "Mean Episode Length:  335.94117647058823\n",
            "Current Episode Reward: -29.10000000000006\n",
            "Current Episode Length: 215\n",
            "\n"
          ]
        },
        {
          "output_type": "stream",
          "name": "stderr",
          "text": [
            "\r  4%|▎         | 18/500 [03:11<52:13,  6.50s/it]  "
          ]
        },
        {
          "output_type": "stream",
          "name": "stdout",
          "text": [
            "\n",
            "====================Training Progress Episode 18====================\n",
            "Mean Episode Reward:  -65.02222222222241\n",
            "Mean Episode Length:  323.6111111111111\n",
            "Current Episode Reward: -6.199999999999985\n",
            "Current Episode Length: 114\n",
            "\n"
          ]
        },
        {
          "output_type": "stream",
          "name": "stderr",
          "text": [
            "\r  4%|▍         | 19/500 [03:21<59:48,  7.46s/it]"
          ]
        },
        {
          "output_type": "stream",
          "name": "stdout",
          "text": [
            "\n",
            "====================Training Progress Episode 19====================\n",
            "Mean Episode Reward:  -64.47894736842123\n",
            "Mean Episode Length:  321.63157894736844\n",
            "Current Episode Reward: -54.700000000000145\n",
            "Current Episode Length: 286\n",
            "\n"
          ]
        },
        {
          "output_type": "stream",
          "name": "stderr",
          "text": [
            "\r  4%|▍         | 20/500 [03:25<51:42,  6.46s/it]"
          ]
        },
        {
          "output_type": "stream",
          "name": "stdout",
          "text": [
            "\n",
            "====================Training Progress Episode 20====================\n",
            "Mean Episode Reward:  -61.65000000000017\n",
            "Mean Episode Length:  311.55\n",
            "Current Episode Reward: -7.899999999999984\n",
            "Current Episode Length: 120\n",
            "\n"
          ]
        },
        {
          "output_type": "stream",
          "name": "stderr",
          "text": [
            "\r  4%|▍         | 21/500 [03:42<1:16:46,  9.62s/it]"
          ]
        },
        {
          "output_type": "stream",
          "name": "stdout",
          "text": [
            "\n",
            "====================Training Progress Episode 21====================\n",
            "Mean Episode Reward:  -64.12857142857162\n",
            "Mean Episode Length:  320.5238095238095\n",
            "Current Episode Reward: -113.7000000000005\n",
            "Current Episode Length: 500\n",
            "\n"
          ]
        },
        {
          "output_type": "stream",
          "name": "stderr",
          "text": [
            "\r  4%|▍         | 22/500 [03:59<1:34:19, 11.84s/it]"
          ]
        },
        {
          "output_type": "stream",
          "name": "stdout",
          "text": [
            "\n",
            "====================Training Progress Episode 22====================\n",
            "Mean Episode Reward:  -66.39090909090929\n",
            "Mean Episode Length:  328.6818181818182\n",
            "Current Episode Reward: -113.90000000000038\n",
            "Current Episode Length: 500\n",
            "\n"
          ]
        },
        {
          "output_type": "stream",
          "name": "stderr",
          "text": [
            "\r  5%|▍         | 23/500 [04:04<1:17:50,  9.79s/it]"
          ]
        },
        {
          "output_type": "stream",
          "name": "stdout",
          "text": [
            "\n",
            "====================Training Progress Episode 23====================\n",
            "Mean Episode Reward:  -64.09130434782627\n",
            "Mean Episode Length:  320.7391304347826\n",
            "Current Episode Reward: -13.499999999999986\n",
            "Current Episode Length: 146\n",
            "\n"
          ]
        },
        {
          "output_type": "stream",
          "name": "stderr",
          "text": [
            "\r  5%|▍         | 24/500 [04:05<57:29,  7.25s/it]  "
          ]
        },
        {
          "output_type": "stream",
          "name": "stdout",
          "text": [
            "\n",
            "====================Training Progress Episode 24====================\n",
            "Mean Episode Reward:  -60.95833333333351\n",
            "Mean Episode Length:  309.0\n",
            "Current Episode Reward: 11.099999999999998\n",
            "Current Episode Length: 39\n",
            "\n"
          ]
        },
        {
          "output_type": "stream",
          "name": "stderr",
          "text": [
            "\r  5%|▌         | 25/500 [04:22<1:20:39, 10.19s/it]"
          ]
        },
        {
          "output_type": "stream",
          "name": "stdout",
          "text": [
            "\n",
            "====================Training Progress Episode 25====================\n",
            "Mean Episode Reward:  -63.06800000000019\n",
            "Mean Episode Length:  316.64\n",
            "Current Episode Reward: -113.70000000000047\n",
            "Current Episode Length: 500\n",
            "\n"
          ]
        },
        {
          "output_type": "stream",
          "name": "stderr",
          "text": [
            "\r  5%|▌         | 26/500 [04:39<1:36:52, 12.26s/it]"
          ]
        },
        {
          "output_type": "stream",
          "name": "stdout",
          "text": [
            "\n",
            "====================Training Progress Episode 26====================\n",
            "Mean Episode Reward:  -65.25769230769251\n",
            "Mean Episode Length:  323.6923076923077\n",
            "Current Episode Reward: -120.00000000000017\n",
            "Current Episode Length: 500\n",
            "\n"
          ]
        },
        {
          "output_type": "stream",
          "name": "stderr",
          "text": [
            "\r  5%|▌         | 27/500 [04:48<1:29:06, 11.30s/it]"
          ]
        },
        {
          "output_type": "stream",
          "name": "stdout",
          "text": [
            "\n",
            "====================Training Progress Episode 27====================\n",
            "Mean Episode Reward:  -64.86666666666686\n",
            "Mean Episode Length:  321.6296296296296\n",
            "Current Episode Reward: -54.70000000000006\n",
            "Current Episode Length: 268\n",
            "\n"
          ]
        },
        {
          "output_type": "stream",
          "name": "stderr",
          "text": [
            "\r  6%|▌         | 28/500 [05:05<1:42:37, 13.05s/it]"
          ]
        },
        {
          "output_type": "stream",
          "name": "stdout",
          "text": [
            "\n",
            "====================Training Progress Episode 28====================\n",
            "Mean Episode Reward:  -66.95000000000019\n",
            "Mean Episode Length:  328.0\n",
            "Current Episode Reward: -123.20000000000019\n",
            "Current Episode Length: 500\n",
            "\n"
          ]
        },
        {
          "output_type": "stream",
          "name": "stderr",
          "text": [
            "\r  6%|▌         | 29/500 [05:18<1:42:20, 13.04s/it]"
          ]
        },
        {
          "output_type": "stream",
          "name": "stdout",
          "text": [
            "\n",
            "====================Training Progress Episode 29====================\n",
            "Mean Episode Reward:  -67.65172413793121\n",
            "Mean Episode Length:  329.86206896551727\n",
            "Current Episode Reward: -87.30000000000003\n",
            "Current Episode Length: 382\n",
            "\n"
          ]
        },
        {
          "output_type": "stream",
          "name": "stderr",
          "text": [
            "\r  6%|▌         | 30/500 [05:26<1:28:45, 11.33s/it]"
          ]
        },
        {
          "output_type": "stream",
          "name": "stdout",
          "text": [
            "\n",
            "====================Training Progress Episode 30====================\n",
            "Mean Episode Reward:  -66.40000000000018\n",
            "Mean Episode Length:  326.1\n",
            "Current Episode Reward: -30.100000000000108\n",
            "Current Episode Length: 217\n",
            "\n"
          ]
        },
        {
          "output_type": "stream",
          "name": "stderr",
          "text": [
            "\r  6%|▌         | 31/500 [05:43<1:42:21, 13.09s/it]"
          ]
        },
        {
          "output_type": "stream",
          "name": "stdout",
          "text": [
            "\n",
            "====================Training Progress Episode 31====================\n",
            "Mean Episode Reward:  -67.90645161290341\n",
            "Mean Episode Length:  331.7096774193548\n",
            "Current Episode Reward: -113.10000000000048\n",
            "Current Episode Length: 500\n",
            "\n"
          ]
        },
        {
          "output_type": "stream",
          "name": "stderr",
          "text": [
            "\r  6%|▋         | 32/500 [05:59<1:48:00, 13.85s/it]"
          ]
        },
        {
          "output_type": "stream",
          "name": "stdout",
          "text": [
            "\n",
            "====================Training Progress Episode 32====================\n",
            "Mean Episode Reward:  -68.6531250000002\n",
            "Mean Episode Length:  335.6875\n",
            "Current Episode Reward: -91.80000000000051\n",
            "Current Episode Length: 459\n",
            "\n"
          ]
        },
        {
          "output_type": "stream",
          "name": "stderr",
          "text": [
            "\r  7%|▋         | 33/500 [06:16<1:55:10, 14.80s/it]"
          ]
        },
        {
          "output_type": "stream",
          "name": "stdout",
          "text": [
            "\n",
            "====================Training Progress Episode 33====================\n",
            "Mean Episode Reward:  -69.8848484848487\n",
            "Mean Episode Length:  340.6666666666667\n",
            "Current Episode Reward: -109.30000000000062\n",
            "Current Episode Length: 500\n",
            "\n"
          ]
        },
        {
          "output_type": "stream",
          "name": "stderr",
          "text": [
            "\r  7%|▋         | 34/500 [06:33<2:00:25, 15.51s/it]"
          ]
        },
        {
          "output_type": "stream",
          "name": "stdout",
          "text": [
            "\n",
            "====================Training Progress Episode 34====================\n",
            "Mean Episode Reward:  -71.02647058823553\n",
            "Mean Episode Length:  345.3529411764706\n",
            "Current Episode Reward: -108.70000000000077\n",
            "Current Episode Length: 500\n",
            "\n"
          ]
        },
        {
          "output_type": "stream",
          "name": "stderr",
          "text": [
            "\r  7%|▋         | 35/500 [06:50<2:03:36, 15.95s/it]"
          ]
        },
        {
          "output_type": "stream",
          "name": "stdout",
          "text": [
            "\n",
            "====================Training Progress Episode 35====================\n",
            "Mean Episode Reward:  -72.08285714285739\n",
            "Mean Episode Length:  349.77142857142854\n",
            "Current Episode Reward: -108.00000000000077\n",
            "Current Episode Length: 500\n",
            "\n"
          ]
        },
        {
          "output_type": "stream",
          "name": "stderr",
          "text": [
            "\r  7%|▋         | 36/500 [07:07<2:05:51, 16.27s/it]"
          ]
        },
        {
          "output_type": "stream",
          "name": "stdout",
          "text": [
            "\n",
            "====================Training Progress Episode 36====================\n",
            "Mean Episode Reward:  -73.18888888888915\n",
            "Mean Episode Length:  353.94444444444446\n",
            "Current Episode Reward: -111.90000000000074\n",
            "Current Episode Length: 500\n",
            "\n"
          ]
        },
        {
          "output_type": "stream",
          "name": "stderr",
          "text": [
            "\r  7%|▋         | 37/500 [07:24<2:07:29, 16.52s/it]"
          ]
        },
        {
          "output_type": "stream",
          "name": "stdout",
          "text": [
            "\n",
            "====================Training Progress Episode 37====================\n",
            "Mean Episode Reward:  -74.32702702702728\n",
            "Mean Episode Length:  357.8918918918919\n",
            "Current Episode Reward: -115.30000000000025\n",
            "Current Episode Length: 500\n",
            "\n"
          ]
        },
        {
          "output_type": "stream",
          "name": "stderr",
          "text": [
            "\r  8%|▊         | 38/500 [07:30<1:42:27, 13.31s/it]"
          ]
        },
        {
          "output_type": "stream",
          "name": "stdout",
          "text": [
            "\n",
            "====================Training Progress Episode 38====================\n",
            "Mean Episode Reward:  -72.8368421052634\n",
            "Mean Episode Length:  353.0\n",
            "Current Episode Reward: -17.69999999999999\n",
            "Current Episode Length: 172\n",
            "\n"
          ]
        },
        {
          "output_type": "stream",
          "name": "stderr",
          "text": [
            "\r  8%|▊         | 39/500 [07:47<1:51:03, 14.45s/it]"
          ]
        },
        {
          "output_type": "stream",
          "name": "stdout",
          "text": [
            "\n",
            "====================Training Progress Episode 39====================\n",
            "Mean Episode Reward:  -74.01025641025666\n",
            "Mean Episode Length:  356.7692307692308\n",
            "Current Episode Reward: -118.60000000000022\n",
            "Current Episode Length: 500\n",
            "\n"
          ]
        },
        {
          "output_type": "stream",
          "name": "stderr",
          "text": [
            "\r  8%|▊         | 40/500 [08:04<1:56:44, 15.23s/it]"
          ]
        },
        {
          "output_type": "stream",
          "name": "stdout",
          "text": [
            "\n",
            "====================Training Progress Episode 40====================\n",
            "Mean Episode Reward:  -75.20000000000024\n",
            "Mean Episode Length:  360.35\n",
            "Current Episode Reward: -121.60000000000004\n",
            "Current Episode Length: 500\n",
            "\n"
          ]
        },
        {
          "output_type": "stream",
          "name": "stderr",
          "text": [
            "\r  8%|▊         | 41/500 [08:21<2:00:37, 15.77s/it]"
          ]
        },
        {
          "output_type": "stream",
          "name": "stdout",
          "text": [
            "\n",
            "====================Training Progress Episode 41====================\n",
            "Mean Episode Reward:  -76.23414634146366\n",
            "Mean Episode Length:  363.7560975609756\n",
            "Current Episode Reward: -117.60000000000026\n",
            "Current Episode Length: 500\n",
            "\n"
          ]
        },
        {
          "output_type": "stream",
          "name": "stderr",
          "text": [
            "\r  8%|▊         | 42/500 [08:38<2:03:47, 16.22s/it]"
          ]
        },
        {
          "output_type": "stream",
          "name": "stdout",
          "text": [
            "\n",
            "====================Training Progress Episode 42====================\n",
            "Mean Episode Reward:  -76.9976190476193\n",
            "Mean Episode Length:  367.0\n",
            "Current Episode Reward: -108.30000000000067\n",
            "Current Episode Length: 500\n",
            "\n"
          ]
        },
        {
          "output_type": "stream",
          "name": "stderr",
          "text": [
            "\r  9%|▊         | 43/500 [08:55<2:05:19, 16.45s/it]"
          ]
        },
        {
          "output_type": "stream",
          "name": "stdout",
          "text": [
            "\n",
            "====================Training Progress Episode 43====================\n",
            "Mean Episode Reward:  -77.78604651162817\n",
            "Mean Episode Length:  370.09302325581393\n",
            "Current Episode Reward: -110.9000000000005\n",
            "Current Episode Length: 500\n",
            "\n"
          ]
        },
        {
          "output_type": "stream",
          "name": "stderr",
          "text": [
            "\r  9%|▊         | 43/500 [09:09<1:37:15, 12.77s/it]\n"
          ]
        },
        {
          "output_type": "error",
          "ename": "KeyboardInterrupt",
          "evalue": "ignored",
          "traceback": [
            "\u001b[0;31m---------------------------------------------------------------------------\u001b[0m",
            "\u001b[0;31mKeyboardInterrupt\u001b[0m                         Traceback (most recent call last)",
            "\u001b[0;32m<ipython-input-149-985db78bc835>\u001b[0m in \u001b[0;36m<cell line: 1>\u001b[0;34m()\u001b[0m\n\u001b[0;32m----> 1\u001b[0;31m \u001b[0mmean_rewards\u001b[0m\u001b[0;34m,\u001b[0m \u001b[0mmean_lengths\u001b[0m \u001b[0;34m=\u001b[0m \u001b[0mtrain_loop\u001b[0m\u001b[0;34m(\u001b[0m\u001b[0mpolicy_net\u001b[0m\u001b[0;34m,\u001b[0m \u001b[0mtarget_net\u001b[0m\u001b[0;34m,\u001b[0m \u001b[0moptimizer\u001b[0m\u001b[0;34m,\u001b[0m \u001b[0mmemory\u001b[0m\u001b[0;34m,\u001b[0m \u001b[0mmax_steps_per_episode\u001b[0m\u001b[0;34m=\u001b[0m\u001b[0;36m500\u001b[0m\u001b[0;34m,\u001b[0m \u001b[0mnum_episodes\u001b[0m\u001b[0;34m=\u001b[0m\u001b[0;36m500\u001b[0m\u001b[0;34m)\u001b[0m\u001b[0;34m\u001b[0m\u001b[0;34m\u001b[0m\u001b[0m\n\u001b[0m",
            "\u001b[0;32m<ipython-input-148-6292b57979aa>\u001b[0m in \u001b[0;36mtrain_loop\u001b[0;34m(policy_net, target_net, optimizer, memory, max_steps_per_episode, num_episodes)\u001b[0m\n\u001b[1;32m     46\u001b[0m       \u001b[0mstate\u001b[0m \u001b[0;34m=\u001b[0m \u001b[0mnext_state\u001b[0m\u001b[0;34m\u001b[0m\u001b[0;34m\u001b[0m\u001b[0m\n\u001b[1;32m     47\u001b[0m \u001b[0;34m\u001b[0m\u001b[0m\n\u001b[0;32m---> 48\u001b[0;31m       \u001b[0moptimize_model\u001b[0m\u001b[0;34m(\u001b[0m\u001b[0;34m)\u001b[0m\u001b[0;34m\u001b[0m\u001b[0;34m\u001b[0m\u001b[0m\n\u001b[0m\u001b[1;32m     49\u001b[0m       \u001b[0;32mif\u001b[0m \u001b[0mdone\u001b[0m\u001b[0;34m:\u001b[0m\u001b[0;34m\u001b[0m\u001b[0;34m\u001b[0m\u001b[0m\n\u001b[1;32m     50\u001b[0m           \u001b[0;32mbreak\u001b[0m\u001b[0;34m\u001b[0m\u001b[0;34m\u001b[0m\u001b[0m\n",
            "\u001b[0;32m<ipython-input-146-e094259270f0>\u001b[0m in \u001b[0;36moptimize_model\u001b[0;34m()\u001b[0m\n\u001b[1;32m     17\u001b[0m \u001b[0;34m\u001b[0m\u001b[0m\n\u001b[1;32m     18\u001b[0m     \u001b[0mloss\u001b[0m \u001b[0;34m=\u001b[0m \u001b[0mF\u001b[0m\u001b[0;34m.\u001b[0m\u001b[0msmooth_l1_loss\u001b[0m\u001b[0;34m(\u001b[0m\u001b[0mstate_action_values\u001b[0m\u001b[0;34m,\u001b[0m \u001b[0mexpected_state_action_values\u001b[0m\u001b[0;34m.\u001b[0m\u001b[0munsqueeze\u001b[0m\u001b[0;34m(\u001b[0m\u001b[0;36m1\u001b[0m\u001b[0;34m)\u001b[0m\u001b[0;34m)\u001b[0m\u001b[0;34m\u001b[0m\u001b[0;34m\u001b[0m\u001b[0m\n\u001b[0;32m---> 19\u001b[0;31m     \u001b[0moptimizer\u001b[0m\u001b[0;34m.\u001b[0m\u001b[0mzero_grad\u001b[0m\u001b[0;34m(\u001b[0m\u001b[0;34m)\u001b[0m\u001b[0;34m\u001b[0m\u001b[0;34m\u001b[0m\u001b[0m\n\u001b[0m\u001b[1;32m     20\u001b[0m     \u001b[0mloss\u001b[0m\u001b[0;34m.\u001b[0m\u001b[0mbackward\u001b[0m\u001b[0;34m(\u001b[0m\u001b[0;34m)\u001b[0m\u001b[0;34m\u001b[0m\u001b[0;34m\u001b[0m\u001b[0m\n\u001b[1;32m     21\u001b[0m     \u001b[0;32mfor\u001b[0m \u001b[0mparam\u001b[0m \u001b[0;32min\u001b[0m \u001b[0mpolicy_net\u001b[0m\u001b[0;34m.\u001b[0m\u001b[0mparameters\u001b[0m\u001b[0;34m(\u001b[0m\u001b[0;34m)\u001b[0m\u001b[0;34m:\u001b[0m\u001b[0;34m\u001b[0m\u001b[0;34m\u001b[0m\u001b[0m\n",
            "\u001b[0;32m/usr/local/lib/python3.10/dist-packages/torch/optim/optimizer.py\u001b[0m in \u001b[0;36mzero_grad\u001b[0;34m(self, set_to_none)\u001b[0m\n\u001b[1;32m    454\u001b[0m         \u001b[0;32mif\u001b[0m \u001b[0mforeach\u001b[0m\u001b[0;34m:\u001b[0m\u001b[0;34m\u001b[0m\u001b[0;34m\u001b[0m\u001b[0m\n\u001b[1;32m    455\u001b[0m             \u001b[0mper_device_and_dtype_grads\u001b[0m \u001b[0;34m=\u001b[0m \u001b[0mdefaultdict\u001b[0m\u001b[0;34m(\u001b[0m\u001b[0;32mlambda\u001b[0m\u001b[0;34m:\u001b[0m \u001b[0mdefaultdict\u001b[0m\u001b[0;34m(\u001b[0m\u001b[0mlist\u001b[0m\u001b[0;34m)\u001b[0m\u001b[0;34m)\u001b[0m\u001b[0;34m\u001b[0m\u001b[0;34m\u001b[0m\u001b[0m\n\u001b[0;32m--> 456\u001b[0;31m         \u001b[0;32mwith\u001b[0m \u001b[0mtorch\u001b[0m\u001b[0;34m.\u001b[0m\u001b[0mautograd\u001b[0m\u001b[0;34m.\u001b[0m\u001b[0mprofiler\u001b[0m\u001b[0;34m.\u001b[0m\u001b[0mrecord_function\u001b[0m\u001b[0;34m(\u001b[0m\u001b[0mself\u001b[0m\u001b[0;34m.\u001b[0m\u001b[0m_zero_grad_profile_name\u001b[0m\u001b[0;34m)\u001b[0m\u001b[0;34m:\u001b[0m\u001b[0;34m\u001b[0m\u001b[0;34m\u001b[0m\u001b[0m\n\u001b[0m\u001b[1;32m    457\u001b[0m             \u001b[0;32mfor\u001b[0m \u001b[0mgroup\u001b[0m \u001b[0;32min\u001b[0m \u001b[0mself\u001b[0m\u001b[0;34m.\u001b[0m\u001b[0mparam_groups\u001b[0m\u001b[0;34m:\u001b[0m\u001b[0;34m\u001b[0m\u001b[0;34m\u001b[0m\u001b[0m\n\u001b[1;32m    458\u001b[0m                 \u001b[0;32mfor\u001b[0m \u001b[0mp\u001b[0m \u001b[0;32min\u001b[0m \u001b[0mgroup\u001b[0m\u001b[0;34m[\u001b[0m\u001b[0;34m'params'\u001b[0m\u001b[0;34m]\u001b[0m\u001b[0;34m:\u001b[0m\u001b[0;34m\u001b[0m\u001b[0;34m\u001b[0m\u001b[0m\n",
            "\u001b[0;32m/usr/local/lib/python3.10/dist-packages/torch/autograd/profiler.py\u001b[0m in \u001b[0;36m__exit__\u001b[0;34m(self, exc_type, exc_value, traceback)\u001b[0m\n\u001b[1;32m    505\u001b[0m         \u001b[0;32mif\u001b[0m \u001b[0;32mnot\u001b[0m \u001b[0mtorch\u001b[0m\u001b[0;34m.\u001b[0m\u001b[0mjit\u001b[0m\u001b[0;34m.\u001b[0m\u001b[0mis_scripting\u001b[0m\u001b[0;34m(\u001b[0m\u001b[0;34m)\u001b[0m\u001b[0;34m:\u001b[0m\u001b[0;34m\u001b[0m\u001b[0;34m\u001b[0m\u001b[0m\n\u001b[1;32m    506\u001b[0m             \u001b[0;32mwith\u001b[0m \u001b[0mtorch\u001b[0m\u001b[0;34m.\u001b[0m\u001b[0m_C\u001b[0m\u001b[0;34m.\u001b[0m\u001b[0mDisableTorchFunctionSubclass\u001b[0m\u001b[0;34m(\u001b[0m\u001b[0;34m)\u001b[0m\u001b[0;34m:\u001b[0m\u001b[0;34m\u001b[0m\u001b[0;34m\u001b[0m\u001b[0m\n\u001b[0;32m--> 507\u001b[0;31m                 \u001b[0mtorch\u001b[0m\u001b[0;34m.\u001b[0m\u001b[0mops\u001b[0m\u001b[0;34m.\u001b[0m\u001b[0mprofiler\u001b[0m\u001b[0;34m.\u001b[0m\u001b[0m_record_function_exit\u001b[0m\u001b[0;34m.\u001b[0m\u001b[0m_RecordFunction\u001b[0m\u001b[0;34m(\u001b[0m\u001b[0mrecord\u001b[0m\u001b[0;34m)\u001b[0m\u001b[0;34m\u001b[0m\u001b[0;34m\u001b[0m\u001b[0m\n\u001b[0m\u001b[1;32m    508\u001b[0m         \u001b[0;32melse\u001b[0m\u001b[0;34m:\u001b[0m\u001b[0;34m\u001b[0m\u001b[0;34m\u001b[0m\u001b[0m\n\u001b[1;32m    509\u001b[0m             \u001b[0mtorch\u001b[0m\u001b[0;34m.\u001b[0m\u001b[0mops\u001b[0m\u001b[0;34m.\u001b[0m\u001b[0mprofiler\u001b[0m\u001b[0;34m.\u001b[0m\u001b[0m_record_function_exit\u001b[0m\u001b[0;34m(\u001b[0m\u001b[0mrecord\u001b[0m\u001b[0;34m)\u001b[0m\u001b[0;34m\u001b[0m\u001b[0;34m\u001b[0m\u001b[0m\n",
            "\u001b[0;32m/usr/local/lib/python3.10/dist-packages/torch/_ops.py\u001b[0m in \u001b[0;36m__call__\u001b[0;34m(self, *args, **kwargs)\u001b[0m\n\u001b[1;32m    284\u001b[0m         )\n\u001b[1;32m    285\u001b[0m \u001b[0;34m\u001b[0m\u001b[0m\n\u001b[0;32m--> 286\u001b[0;31m     \u001b[0;32mdef\u001b[0m \u001b[0m__call__\u001b[0m\u001b[0;34m(\u001b[0m\u001b[0mself\u001b[0m\u001b[0;34m,\u001b[0m \u001b[0;34m*\u001b[0m\u001b[0margs\u001b[0m\u001b[0;34m,\u001b[0m \u001b[0;34m**\u001b[0m\u001b[0mkwargs\u001b[0m\u001b[0;34m)\u001b[0m\u001b[0;34m:\u001b[0m\u001b[0;34m\u001b[0m\u001b[0;34m\u001b[0m\u001b[0m\n\u001b[0m\u001b[1;32m    287\u001b[0m         \u001b[0;32mreturn\u001b[0m \u001b[0mself\u001b[0m\u001b[0;34m.\u001b[0m\u001b[0m_op\u001b[0m\u001b[0;34m(\u001b[0m\u001b[0;34m*\u001b[0m\u001b[0margs\u001b[0m\u001b[0;34m,\u001b[0m \u001b[0;34m**\u001b[0m\u001b[0mkwargs\u001b[0m \u001b[0;32mor\u001b[0m \u001b[0;34m{\u001b[0m\u001b[0;34m}\u001b[0m\u001b[0;34m)\u001b[0m\u001b[0;34m\u001b[0m\u001b[0;34m\u001b[0m\u001b[0m\n\u001b[1;32m    288\u001b[0m \u001b[0;34m\u001b[0m\u001b[0m\n",
            "\u001b[0;31mKeyboardInterrupt\u001b[0m: "
          ]
        }
      ]
    },
    {
      "cell_type": "code",
      "source": [
        "plot_model_performance(mean_rewards, mean_lengths)"
      ],
      "metadata": {
        "colab": {
          "base_uri": "https://localhost:8080/",
          "height": 487
        },
        "id": "R3AuNaMz6bDv",
        "outputId": "b4be9891-27b5-4619-dcfe-c9219dea33d5"
      },
      "execution_count": null,
      "outputs": [
        {
          "output_type": "display_data",
          "data": {
            "text/plain": [
              "<Figure size 1000x500 with 2 Axes>"
            ],
            "image/png": "[encoded data removed]"
          },
          "metadata": {}
        }
      ]
    }
  ],
  "metadata": {
    "colab": {
      "provenance": [],
      "gpuType": "T4"
    },
    "kernelspec": {
      "display_name": "Python 3",
      "name": "python3"
    },
    "accelerator": "GPU"
  },
  "nbformat": 4,
  "nbformat_minor": 0
}